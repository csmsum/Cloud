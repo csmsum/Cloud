{
  "cells": [
    {
      "cell_type": "markdown",
      "metadata": {
        "id": "view-in-github",
        "colab_type": "text"
      },
      "source": [
        "<a href=\"https://colab.research.google.com/github/csmsum/Cloud/blob/main/chapter03_introduction_to_keras_and_tf_i.ipynb\" target=\"_parent\"><img src=\"https://colab.research.google.com/assets/colab-badge.svg\" alt=\"Open In Colab\"/></a>"
      ]
    },
    {
      "cell_type": "markdown",
      "metadata": {
        "id": "Nd4AKdX-2uzm"
      },
      "source": [
        "This is a companion notebook for the book [Deep Learning with Python, Second Edition](https://www.manning.com/books/deep-learning-with-python-second-edition?a_aid=keras&a_bid=76564dff). For readability, it only contains runnable code blocks and section titles, and omits everything else in the book: text paragraphs, figures, and pseudocode.\n",
        "\n",
        "**If you want to be able to follow what's going on, I recommend reading the notebook side by side with your copy of the book.**\n",
        "\n",
        "This notebook was generated for TensorFlow 2.6."
      ]
    },
    {
      "cell_type": "markdown",
      "metadata": {
        "id": "c5UYzPi92uzo"
      },
      "source": [
        "# Introduction to Keras and TensorFlow"
      ]
    },
    {
      "cell_type": "markdown",
      "metadata": {
        "id": "IOmtlYqW2uzp"
      },
      "source": [
        "## What's TensorFlow?"
      ]
    },
    {
      "cell_type": "markdown",
      "metadata": {
        "id": "eMAdXdGj2uzp"
      },
      "source": [
        "## What's Keras?"
      ]
    },
    {
      "cell_type": "markdown",
      "metadata": {
        "id": "MiFlRLTC2uzp"
      },
      "source": [
        "## Keras and TensorFlow: A brief history"
      ]
    },
    {
      "cell_type": "markdown",
      "metadata": {
        "id": "6yd-2DAT2uzq"
      },
      "source": [
        "## Setting up a deep-learning workspace"
      ]
    },
    {
      "cell_type": "markdown",
      "metadata": {
        "id": "zFzOxyzI2uzq"
      },
      "source": [
        "### Jupyter notebooks: The preferred way to run deep-learning experiments"
      ]
    },
    {
      "cell_type": "markdown",
      "metadata": {
        "id": "QvtvfuD02uzq"
      },
      "source": [
        "### Using Colaboratory"
      ]
    },
    {
      "cell_type": "markdown",
      "metadata": {
        "id": "aMXRb4SW2uzq"
      },
      "source": [
        "#### First steps with Colaboratory"
      ]
    },
    {
      "cell_type": "markdown",
      "metadata": {
        "id": "o6aYVXGd2uzq"
      },
      "source": [
        "#### Installing packages with pip"
      ]
    },
    {
      "cell_type": "markdown",
      "metadata": {
        "id": "Ni7Cruf12uzr"
      },
      "source": [
        "#### Using the GPU runtime"
      ]
    },
    {
      "cell_type": "markdown",
      "metadata": {
        "id": "5dXMWqmg2uzr"
      },
      "source": [
        "## First steps with TensorFlow"
      ]
    },
    {
      "cell_type": "markdown",
      "metadata": {
        "id": "iRA-pRHs2uzr"
      },
      "source": [
        "#### Constant tensors and variables"
      ]
    },
    {
      "cell_type": "markdown",
      "metadata": {
        "id": "Na3ZCGNU2uzs"
      },
      "source": [
        "**All-ones or all-zeros tensors**"
      ]
    },
    {
      "cell_type": "code",
      "execution_count": null,
      "metadata": {
        "id": "BNIu2bwk2uzs",
        "outputId": "b2cf3789-aab1-49f0-a9ad-c198c6f5f0c6",
        "colab": {
          "base_uri": "https://localhost:8080/"
        }
      },
      "outputs": [
        {
          "output_type": "stream",
          "name": "stdout",
          "text": [
            "tf.Tensor(\n",
            "[[1.]\n",
            " [1.]], shape=(2, 1), dtype=float32)\n"
          ]
        }
      ],
      "source": [
        "import tensorflow as tf\n",
        "x = tf.ones(shape=(2, 1))\n",
        "print(x)"
      ]
    },
    {
      "cell_type": "code",
      "execution_count": null,
      "metadata": {
        "id": "HlJ2cbyX2uzt",
        "outputId": "81e79fcb-e972-4004-8fcd-477cca516cf5",
        "colab": {
          "base_uri": "https://localhost:8080/"
        }
      },
      "outputs": [
        {
          "output_type": "stream",
          "name": "stdout",
          "text": [
            "tf.Tensor(\n",
            "[[0.]\n",
            " [0.]], shape=(2, 1), dtype=float32)\n"
          ]
        }
      ],
      "source": [
        "\n",
        "\n",
        "x = tf.zeros(shape=(2, 1))\n",
        "print(x)"
      ]
    },
    {
      "cell_type": "markdown",
      "metadata": {
        "id": "KsXfztDu2uzt"
      },
      "source": [
        "**Random tensors**"
      ]
    },
    {
      "cell_type": "code",
      "execution_count": null,
      "metadata": {
        "id": "h38yVdHH2uzt",
        "outputId": "e0ba81d2-0a4d-4660-9919-db7c700865ae",
        "colab": {
          "base_uri": "https://localhost:8080/"
        }
      },
      "outputs": [
        {
          "output_type": "stream",
          "name": "stdout",
          "text": [
            "tf.Tensor(\n",
            "[[-1.0862583 ]\n",
            " [ 0.05101332]\n",
            " [ 0.9805077 ]], shape=(3, 1), dtype=float32)\n"
          ]
        }
      ],
      "source": [
        "x = tf.random.normal(shape=(3, 1), mean=0., stddev=1.)\n",
        "print(x)"
      ]
    },
    {
      "cell_type": "code",
      "execution_count": null,
      "metadata": {
        "id": "2utqEuni2uzt",
        "outputId": "7584823f-1f63-4b57-b855-43696670b08e",
        "colab": {
          "base_uri": "https://localhost:8080/"
        }
      },
      "outputs": [
        {
          "output_type": "stream",
          "name": "stdout",
          "text": [
            "tf.Tensor(\n",
            "[[0.89174557]\n",
            " [0.50020146]\n",
            " [0.6475843 ]], shape=(3, 1), dtype=float32)\n"
          ]
        }
      ],
      "source": [
        "x = tf.random.uniform(shape=(3, 1), minval=0., maxval=1.)\n",
        "print(x)"
      ]
    },
    {
      "cell_type": "markdown",
      "metadata": {
        "id": "x5_KRp2C2uzt"
      },
      "source": [
        "**NumPy arrays are assignable**"
      ]
    },
    {
      "cell_type": "code",
      "execution_count": null,
      "metadata": {
        "id": "tJHVJUo72uzu"
      },
      "outputs": [],
      "source": [
        "import numpy as np\n",
        "x = np.ones(shape=(2, 2))\n",
        "x[0, 0] = 0."
      ]
    },
    {
      "cell_type": "markdown",
      "metadata": {
        "id": "xXR3E1Cm2uzu"
      },
      "source": [
        "**Creating a TensorFlow variable**"
      ]
    },
    {
      "cell_type": "code",
      "execution_count": null,
      "metadata": {
        "id": "GDqvCoDu2uzu",
        "outputId": "b0446691-a6f1-44b0-a175-45f3c402010b",
        "colab": {
          "base_uri": "https://localhost:8080/"
        }
      },
      "outputs": [
        {
          "output_type": "stream",
          "name": "stdout",
          "text": [
            "<tf.Variable 'Variable:0' shape=(3, 1) dtype=float32, numpy=\n",
            "array([[ 0.8493877 ],\n",
            "       [-0.01409257],\n",
            "       [-0.93922263]], dtype=float32)>\n"
          ]
        }
      ],
      "source": [
        "v = tf.Variable(initial_value=tf.random.normal(shape=(3, 1)))\n",
        "print(v)"
      ]
    },
    {
      "cell_type": "markdown",
      "metadata": {
        "id": "kmfbnQGN2uzu"
      },
      "source": [
        "**Assigning a value to a TensorFlow variable**"
      ]
    },
    {
      "cell_type": "code",
      "execution_count": null,
      "metadata": {
        "id": "VBQ-buPv2uzu",
        "outputId": "a1fd14ef-af98-4cad-8019-69715b44932f",
        "colab": {
          "base_uri": "https://localhost:8080/"
        }
      },
      "outputs": [
        {
          "output_type": "execute_result",
          "data": {
            "text/plain": [
              "<tf.Variable 'UnreadVariable' shape=(3, 1) dtype=float32, numpy=\n",
              "array([[1.],\n",
              "       [1.],\n",
              "       [1.]], dtype=float32)>"
            ]
          },
          "metadata": {},
          "execution_count": 7
        }
      ],
      "source": [
        "v.assign(tf.ones((3, 1)))"
      ]
    },
    {
      "cell_type": "markdown",
      "metadata": {
        "id": "8kOTEkR12uzu"
      },
      "source": [
        "**Assigning a value to a subset of a TensorFlow variable**"
      ]
    },
    {
      "cell_type": "code",
      "execution_count": null,
      "metadata": {
        "id": "VAKBl5FK2uzu",
        "outputId": "bc318ea1-7caf-443a-92f1-9515e06a133f",
        "colab": {
          "base_uri": "https://localhost:8080/"
        }
      },
      "outputs": [
        {
          "output_type": "execute_result",
          "data": {
            "text/plain": [
              "<tf.Variable 'UnreadVariable' shape=(3, 1) dtype=float32, numpy=\n",
              "array([[3.],\n",
              "       [1.],\n",
              "       [1.]], dtype=float32)>"
            ]
          },
          "metadata": {},
          "execution_count": 8
        }
      ],
      "source": [
        "v[0, 0].assign(3.)"
      ]
    },
    {
      "cell_type": "markdown",
      "metadata": {
        "id": "nQKKrJ532uzv"
      },
      "source": [
        "**Using `assign_add`**"
      ]
    },
    {
      "cell_type": "code",
      "execution_count": null,
      "metadata": {
        "id": "_8rHvyxL2uzv",
        "outputId": "5bf23b00-d5e5-4185-8c65-13483689447c",
        "colab": {
          "base_uri": "https://localhost:8080/"
        }
      },
      "outputs": [
        {
          "output_type": "execute_result",
          "data": {
            "text/plain": [
              "<tf.Variable 'UnreadVariable' shape=(3, 1) dtype=float32, numpy=\n",
              "array([[4.],\n",
              "       [2.],\n",
              "       [2.]], dtype=float32)>"
            ]
          },
          "metadata": {},
          "execution_count": 9
        }
      ],
      "source": [
        "v.assign_add(tf.ones((3, 1)))"
      ]
    },
    {
      "cell_type": "markdown",
      "metadata": {
        "id": "U3bDGOtS2uzv"
      },
      "source": [
        "#### Tensor operations: Doing math in TensorFlow"
      ]
    },
    {
      "cell_type": "markdown",
      "metadata": {
        "id": "jfC8fXE12uzv"
      },
      "source": [
        "**A few basic math operations**"
      ]
    },
    {
      "cell_type": "code",
      "execution_count": null,
      "metadata": {
        "id": "lp7pb-GJ2uzw"
      },
      "outputs": [],
      "source": [
        "a = tf.ones((2, 2))\n",
        "b = tf.square(a)\n",
        "c = tf.sqrt(a)\n",
        "d = b + c\n",
        "e = tf.matmul(a, b)\n",
        "e *= d"
      ]
    },
    {
      "cell_type": "markdown",
      "metadata": {
        "id": "dkAshGbf2uzw"
      },
      "source": [
        "#### A second look at the GradientTape API"
      ]
    },
    {
      "cell_type": "markdown",
      "metadata": {
        "id": "ZVT1DH4P2uzw"
      },
      "source": [
        "**Using the `GradientTape`**"
      ]
    },
    {
      "cell_type": "code",
      "execution_count": null,
      "metadata": {
        "id": "bx4CoTW72uzw"
      },
      "outputs": [],
      "source": [
        "input_var = tf.Variable(initial_value=3.)\n",
        "with tf.GradientTape() as tape:\n",
        "   result = tf.square(input_var)\n",
        "gradient = tape.gradient(result, input_var)"
      ]
    },
    {
      "cell_type": "markdown",
      "metadata": {
        "id": "QLebQNcF2uzx"
      },
      "source": [
        "**Using `GradientTape` with constant tensor inputs**"
      ]
    },
    {
      "cell_type": "code",
      "execution_count": null,
      "metadata": {
        "id": "1VbOK68-2uzx"
      },
      "outputs": [],
      "source": [
        "input_const = tf.constant(3.)\n",
        "with tf.GradientTape() as tape:\n",
        "   tape.watch(input_const)\n",
        "   result = tf.square(input_const)\n",
        "gradient = tape.gradient(result, input_const)"
      ]
    },
    {
      "cell_type": "markdown",
      "metadata": {
        "id": "bpRxQm462uzx"
      },
      "source": [
        "**Using nested gradient tapes to compute second-order gradients**"
      ]
    },
    {
      "cell_type": "code",
      "execution_count": null,
      "metadata": {
        "id": "awBQp68j2uzx"
      },
      "outputs": [],
      "source": [
        "time = tf.Variable(0.)\n",
        "with tf.GradientTape() as outer_tape:\n",
        "    with tf.GradientTape() as inner_tape:\n",
        "        position =  4.9 * time ** 2\n",
        "    speed = inner_tape.gradient(position, time)\n",
        "acceleration = outer_tape.gradient(speed, time)"
      ]
    },
    {
      "cell_type": "markdown",
      "metadata": {
        "id": "YbSbPLsR2uzx"
      },
      "source": [
        "#### An end-to-end example: A linear classifier in pure TensorFlow"
      ]
    },
    {
      "cell_type": "markdown",
      "metadata": {
        "id": "dWKI3LwM2uzy"
      },
      "source": [
        "**Generating two classes of random points in a 2D plane**"
      ]
    },
    {
      "cell_type": "code",
      "execution_count": null,
      "metadata": {
        "id": "xk5yz1ZY2uzy"
      },
      "outputs": [],
      "source": [
        "num_samples_per_class = 1000\n",
        "negative_samples = np.random.multivariate_normal(\n",
        "    mean=[0, 3],\n",
        "    cov=[[1, 0.5],[0.5, 1]],\n",
        "    size=num_samples_per_class)\n",
        "positive_samples = np.random.multivariate_normal(\n",
        "    mean=[3, 0],\n",
        "    cov=[[1, 0.5],[0.5, 1]],\n",
        "    size=num_samples_per_class)"
      ]
    },
    {
      "cell_type": "markdown",
      "metadata": {
        "id": "5cA3yTm82uzy"
      },
      "source": [
        "**Stacking the two classes into an array with shape (2000, 2)**"
      ]
    },
    {
      "cell_type": "code",
      "execution_count": null,
      "metadata": {
        "id": "35rL5jbe2uzy"
      },
      "outputs": [],
      "source": [
        "inputs = np.vstack((negative_samples, positive_samples)).astype(np.float32)"
      ]
    },
    {
      "cell_type": "markdown",
      "metadata": {
        "id": "-wNKzzgT2uzy"
      },
      "source": [
        "**Generating the corresponding targets (0 and 1)**"
      ]
    },
    {
      "cell_type": "code",
      "execution_count": null,
      "metadata": {
        "id": "YxI-StYF2uzz"
      },
      "outputs": [],
      "source": [
        "targets = np.vstack((np.zeros((num_samples_per_class, 1), dtype=\"float32\"),\n",
        "                     np.ones((num_samples_per_class, 1), dtype=\"float32\")))"
      ]
    },
    {
      "cell_type": "markdown",
      "metadata": {
        "id": "9t1htgHJ2uzz"
      },
      "source": [
        "**Plotting the two point classes**"
      ]
    },
    {
      "cell_type": "code",
      "execution_count": null,
      "metadata": {
        "id": "HTg3zy112uzz",
        "outputId": "47929bea-cc8c-4af4-d388-9843af54d083",
        "colab": {
          "base_uri": "https://localhost:8080/",
          "height": 265
        }
      },
      "outputs": [
        {
          "output_type": "display_data",
          "data": {
            "text/plain": [
              "<Figure size 432x288 with 1 Axes>"
            ],
            "image/png": "[encoded data removed]"
          },
          "metadata": {
            "needs_background": "light"
          }
        }
      ],
      "source": [
        "import matplotlib.pyplot as plt\n",
        "plt.scatter(inputs[:, 0], inputs[:, 1], c=targets[:, 0])\n",
        "plt.show()"
      ]
    },
    {
      "cell_type": "markdown",
      "metadata": {
        "id": "8szkC4lF2uzz"
      },
      "source": [
        "**Creating the linear classifier variables**"
      ]
    },
    {
      "cell_type": "code",
      "execution_count": null,
      "metadata": {
        "id": "mZEvNdLB2uzz"
      },
      "outputs": [],
      "source": [
        "input_dim = 2\n",
        "output_dim = 1\n",
        "W = tf.Variable(initial_value=tf.random.uniform(shape=(input_dim, output_dim)))\n",
        "b = tf.Variable(initial_value=tf.zeros(shape=(output_dim,)))"
      ]
    },
    {
      "cell_type": "markdown",
      "metadata": {
        "id": "H06vYcoF2uz0"
      },
      "source": [
        "**The forward pass function**"
      ]
    },
    {
      "cell_type": "code",
      "execution_count": null,
      "metadata": {
        "id": "_tvOikeU2uz0"
      },
      "outputs": [],
      "source": [
        "def model(inputs):\n",
        "    return tf.matmul(inputs, W) + b"
      ]
    },
    {
      "cell_type": "markdown",
      "metadata": {
        "id": "ifJ2hP3z2uz0"
      },
      "source": [
        "**The mean squared error loss function**"
      ]
    },
    {
      "cell_type": "code",
      "execution_count": null,
      "metadata": {
        "id": "LWnqXYEa2uz0"
      },
      "outputs": [],
      "source": [
        "def square_loss(targets, predictions):\n",
        "    per_sample_losses = tf.square(targets - predictions)\n",
        "    return tf.reduce_mean(per_sample_losses)"
      ]
    },
    {
      "cell_type": "markdown",
      "metadata": {
        "id": "XTsflVhC2uz0"
      },
      "source": [
        "**The training step function**"
      ]
    },
    {
      "cell_type": "code",
      "execution_count": null,
      "metadata": {
        "id": "viQ6hi5w2uz1"
      },
      "outputs": [],
      "source": [
        "learning_rate = 0.1\n",
        "\n",
        "def training_step(inputs, targets):\n",
        "    with tf.GradientTape() as tape:\n",
        "        predictions = model(inputs)\n",
        "        loss = square_loss(targets, predictions)\n",
        "    grad_loss_wrt_W, grad_loss_wrt_b = tape.gradient(loss, [W, b])\n",
        "    W.assign_sub(grad_loss_wrt_W * learning_rate)\n",
        "    b.assign_sub(grad_loss_wrt_b * learning_rate)\n",
        "    return loss"
      ]
    },
    {
      "cell_type": "markdown",
      "metadata": {
        "id": "mdoA-d3k2uz1"
      },
      "source": [
        "**The batch training loop**"
      ]
    },
    {
      "cell_type": "code",
      "execution_count": null,
      "metadata": {
        "id": "FCIvcLUU2uz1",
        "outputId": "c912d5d7-81f1-44a8-e412-cdb9f4332b9e",
        "colab": {
          "base_uri": "https://localhost:8080/"
        }
      },
      "outputs": [
        {
          "output_type": "stream",
          "name": "stdout",
          "text": [
            "Loss at step 0: 2.3416\n",
            "Loss at step 1: 0.2892\n",
            "Loss at step 2: 0.1375\n",
            "Loss at step 3: 0.1141\n",
            "Loss at step 4: 0.1046\n",
            "Loss at step 5: 0.0972\n",
            "Loss at step 6: 0.0905\n",
            "Loss at step 7: 0.0845\n",
            "Loss at step 8: 0.0790\n",
            "Loss at step 9: 0.0740\n",
            "Loss at step 10: 0.0695\n",
            "Loss at step 11: 0.0654\n",
            "Loss at step 12: 0.0617\n",
            "Loss at step 13: 0.0583\n",
            "Loss at step 14: 0.0552\n",
            "Loss at step 15: 0.0525\n",
            "Loss at step 16: 0.0499\n",
            "Loss at step 17: 0.0476\n",
            "Loss at step 18: 0.0455\n",
            "Loss at step 19: 0.0436\n",
            "Loss at step 20: 0.0419\n",
            "Loss at step 21: 0.0403\n",
            "Loss at step 22: 0.0389\n",
            "Loss at step 23: 0.0376\n",
            "Loss at step 24: 0.0365\n",
            "Loss at step 25: 0.0354\n",
            "Loss at step 26: 0.0344\n",
            "Loss at step 27: 0.0335\n",
            "Loss at step 28: 0.0327\n",
            "Loss at step 29: 0.0320\n",
            "Loss at step 30: 0.0314\n",
            "Loss at step 31: 0.0308\n",
            "Loss at step 32: 0.0302\n",
            "Loss at step 33: 0.0297\n",
            "Loss at step 34: 0.0293\n",
            "Loss at step 35: 0.0289\n",
            "Loss at step 36: 0.0285\n",
            "Loss at step 37: 0.0282\n",
            "Loss at step 38: 0.0279\n",
            "Loss at step 39: 0.0276\n"
          ]
        }
      ],
      "source": [
        "for step in range(40):\n",
        "    loss = training_step(inputs, targets)\n",
        "    print(f\"Loss at step {step}: {loss:.4f}\")"
      ]
    },
    {
      "cell_type": "code",
      "execution_count": null,
      "metadata": {
        "id": "bWme_P5s2uz1",
        "outputId": "04b26c4e-3886-41b3-bb99-558e2fd5d0ab",
        "colab": {
          "base_uri": "https://localhost:8080/",
          "height": 265
        }
      },
      "outputs": [
        {
          "output_type": "display_data",
          "data": {
            "text/plain": [
              "<Figure size 432x288 with 1 Axes>"
            ],
            "image/png": "[encoded data removed]"
          },
          "metadata": {
            "needs_background": "light"
          }
        }
      ],
      "source": [
        "predictions = model(inputs)\n",
        "plt.scatter(inputs[:, 0], inputs[:, 1], c=predictions[:, 0] > 0.5)\n",
        "plt.show()"
      ]
    },
    {
      "cell_type": "code",
      "execution_count": null,
      "metadata": {
        "id": "tFNVrBBN2uz2",
        "outputId": "2f3aaace-f665-4240-c35c-e4f0cded4ee8",
        "colab": {
          "base_uri": "https://localhost:8080/",
          "height": 283
        }
      },
      "outputs": [
        {
          "output_type": "execute_result",
          "data": {
            "text/plain": [
              "<matplotlib.collections.PathCollection at 0x7f94a4f602b0>"
            ]
          },
          "metadata": {},
          "execution_count": 24
        },
        {
          "output_type": "display_data",
          "data": {
            "text/plain": [
              "<Figure size 432x288 with 1 Axes>"
            ],
            "image/png": "[encoded data removed]"
          },
          "metadata": {
            "needs_background": "light"
          }
        }
      ],
      "source": [
        "x = np.linspace(-1, 4, 100)\n",
        "y = - W[0] /  W[1] * x + (0.5 - b) / W[1]\n",
        "plt.plot(x, y, \"-r\")\n",
        "plt.scatter(inputs[:, 0], inputs[:, 1], c=predictions[:, 0] > 0.5)"
      ]
    },
    {
      "cell_type": "markdown",
      "source": [
        "#Workload "
      ],
      "metadata": {
        "id": "d0l51axH2_A1"
      }
    },
    {
      "cell_type": "markdown",
      "source": [
        "## w2"
      ],
      "metadata": {
        "id": "WgZAX-XI3BWI"
      }
    },
    {
      "cell_type": "code",
      "source": [
        "num_samples_per_class = 500\n",
        "negative_samples = np.random.multivariate_normal( mean=[2, 3],\n",
        "cov=[[1, 0.2],[0.5, 1]], size=num_samples_per_class)\n",
        "positive_samples = np.random.multivariate_normal( mean=[3, 1],\n",
        "cov=[[1, 0.5],[0.5, 1]], size=num_samples_per_class)"
      ],
      "metadata": {
        "id": "LNpCaHSU2-hl",
        "outputId": "e3bb368c-2721-4bf3-a8bf-805e8e39f171",
        "colab": {
          "base_uri": "https://localhost:8080/"
        }
      },
      "execution_count": null,
      "outputs": [
        {
          "output_type": "stream",
          "name": "stderr",
          "text": [
            "<ipython-input-68-8b6c11bcaa20>:2: RuntimeWarning: covariance is not positive-semidefinite.\n",
            "  negative_samples = np.random.multivariate_normal( mean=[2, 3],\n"
          ]
        }
      ]
    },
    {
      "cell_type": "code",
      "source": [
        "inputs = np.vstack((negative_samples, positive_samples)).astype(np.float32)"
      ],
      "metadata": {
        "id": "0pbSNH9K3K_k"
      },
      "execution_count": null,
      "outputs": []
    },
    {
      "cell_type": "code",
      "source": [
        "targets = np.vstack((np.zeros((num_samples_per_class, 1), dtype=\"float32\"),\n",
        "                     np.ones((num_samples_per_class, 1), dtype=\"float32\")))"
      ],
      "metadata": {
        "id": "ZaC6FHyv3K-D"
      },
      "execution_count": null,
      "outputs": []
    },
    {
      "cell_type": "code",
      "source": [
        "import matplotlib.pyplot as plt\n",
        "plt.scatter(inputs[:, 0], inputs[:, 1], c=targets[:, 0])\n",
        "plt.show()"
      ],
      "metadata": {
        "id": "tYGlzMpI3K8e",
        "outputId": "2b3de553-004a-4570-ac1a-3dc52d3bc83a",
        "colab": {
          "base_uri": "https://localhost:8080/",
          "height": 265
        }
      },
      "execution_count": null,
      "outputs": [
        {
          "output_type": "display_data",
          "data": {
            "text/plain": [
              "<Figure size 432x288 with 1 Axes>"
            ],
            "image/png": "[encoded data removed]"
          },
          "metadata": {
            "needs_background": "light"
          }
        }
      ]
    },
    {
      "cell_type": "code",
      "source": [
        "input_dim = 2\n",
        "output_dim = 1\n",
        "W = tf.Variable(initial_value=tf.random.uniform(shape=(input_dim, output_dim)))\n",
        "b = tf.Variable(initial_value=tf.zeros(shape=(output_dim,)))"
      ],
      "metadata": {
        "id": "0XJtZ0II3K44"
      },
      "execution_count": null,
      "outputs": []
    },
    {
      "cell_type": "code",
      "source": [
        "def model(inputs):\n",
        "    return tf.matmul(inputs, W) + b"
      ],
      "metadata": {
        "id": "yk_k_j-z3K2x"
      },
      "execution_count": null,
      "outputs": []
    },
    {
      "cell_type": "code",
      "source": [
        "def square_loss(targets, predictions):\n",
        "    per_sample_losses = tf.square(targets - predictions)\n",
        "    return tf.reduce_mean(per_sample_losses)"
      ],
      "metadata": {
        "id": "rX2KBbcm3K05"
      },
      "execution_count": null,
      "outputs": []
    },
    {
      "cell_type": "code",
      "source": [
        "learning_rate = 1e-2\n",
        "\n",
        "def training_step(inputs, targets):\n",
        "    with tf.GradientTape() as tape:\n",
        "        predictions = model(inputs)\n",
        "        loss = square_loss(targets, predictions)\n",
        "    grad_loss_wrt_W, grad_loss_wrt_b = tape.gradient(loss, [W, b])\n",
        "    W.assign_sub(grad_loss_wrt_W * learning_rate)\n",
        "    b.assign_sub(grad_loss_wrt_b * learning_rate)\n",
        "    return loss"
      ],
      "metadata": {
        "id": "_lfHN_ZQ3XQm"
      },
      "execution_count": null,
      "outputs": []
    },
    {
      "cell_type": "code",
      "source": [
        "for step in range(400):\n",
        "    loss = training_step(inputs, targets)\n",
        "    print(f\"Loss at step {step}: {loss:.4f}\")"
      ],
      "metadata": {
        "id": "v-CVxFHO3XO1",
        "outputId": "5fea0e26-011e-4431-f1a2-9f30b9b06a24",
        "colab": {
          "base_uri": "https://localhost:8080/"
        }
      },
      "execution_count": null,
      "outputs": [
        {
          "output_type": "stream",
          "name": "stdout",
          "text": [
            "Loss at step 0: 3.5962\n",
            "Loss at step 1: 2.1489\n",
            "Loss at step 2: 1.3254\n",
            "Loss at step 3: 0.8555\n",
            "Loss at step 4: 0.5858\n",
            "Loss at step 5: 0.4298\n",
            "Loss at step 6: 0.3383\n",
            "Loss at step 7: 0.2836\n",
            "Loss at step 8: 0.2499\n",
            "Loss at step 9: 0.2282\n",
            "Loss at step 10: 0.2136\n",
            "Loss at step 11: 0.2031\n",
            "Loss at step 12: 0.1951\n",
            "Loss at step 13: 0.1886\n",
            "Loss at step 14: 0.1831\n",
            "Loss at step 15: 0.1783\n",
            "Loss at step 16: 0.1740\n",
            "Loss at step 17: 0.1701\n",
            "Loss at step 18: 0.1666\n",
            "Loss at step 19: 0.1632\n",
            "Loss at step 20: 0.1602\n",
            "Loss at step 21: 0.1573\n",
            "Loss at step 22: 0.1546\n",
            "Loss at step 23: 0.1521\n",
            "Loss at step 24: 0.1498\n",
            "Loss at step 25: 0.1476\n",
            "Loss at step 26: 0.1456\n",
            "Loss at step 27: 0.1436\n",
            "Loss at step 28: 0.1419\n",
            "Loss at step 29: 0.1402\n",
            "Loss at step 30: 0.1386\n",
            "Loss at step 31: 0.1371\n",
            "Loss at step 32: 0.1357\n",
            "Loss at step 33: 0.1344\n",
            "Loss at step 34: 0.1332\n",
            "Loss at step 35: 0.1321\n",
            "Loss at step 36: 0.1310\n",
            "Loss at step 37: 0.1299\n",
            "Loss at step 38: 0.1290\n",
            "Loss at step 39: 0.1281\n",
            "Loss at step 40: 0.1272\n",
            "Loss at step 41: 0.1264\n",
            "Loss at step 42: 0.1257\n",
            "Loss at step 43: 0.1249\n",
            "Loss at step 44: 0.1243\n",
            "Loss at step 45: 0.1236\n",
            "Loss at step 46: 0.1230\n",
            "Loss at step 47: 0.1224\n",
            "Loss at step 48: 0.1219\n",
            "Loss at step 49: 0.1214\n",
            "Loss at step 50: 0.1209\n",
            "Loss at step 51: 0.1204\n",
            "Loss at step 52: 0.1199\n",
            "Loss at step 53: 0.1195\n",
            "Loss at step 54: 0.1191\n",
            "Loss at step 55: 0.1187\n",
            "Loss at step 56: 0.1183\n",
            "Loss at step 57: 0.1180\n",
            "Loss at step 58: 0.1176\n",
            "Loss at step 59: 0.1173\n",
            "Loss at step 60: 0.1170\n",
            "Loss at step 61: 0.1167\n",
            "Loss at step 62: 0.1164\n",
            "Loss at step 63: 0.1161\n",
            "Loss at step 64: 0.1158\n",
            "Loss at step 65: 0.1155\n",
            "Loss at step 66: 0.1153\n",
            "Loss at step 67: 0.1150\n",
            "Loss at step 68: 0.1148\n",
            "Loss at step 69: 0.1145\n",
            "Loss at step 70: 0.1143\n",
            "Loss at step 71: 0.1141\n",
            "Loss at step 72: 0.1139\n",
            "Loss at step 73: 0.1137\n",
            "Loss at step 74: 0.1134\n",
            "Loss at step 75: 0.1132\n",
            "Loss at step 76: 0.1130\n",
            "Loss at step 77: 0.1129\n",
            "Loss at step 78: 0.1127\n",
            "Loss at step 79: 0.1125\n",
            "Loss at step 80: 0.1123\n",
            "Loss at step 81: 0.1121\n",
            "Loss at step 82: 0.1119\n",
            "Loss at step 83: 0.1118\n",
            "Loss at step 84: 0.1116\n",
            "Loss at step 85: 0.1114\n",
            "Loss at step 86: 0.1113\n",
            "Loss at step 87: 0.1111\n",
            "Loss at step 88: 0.1109\n",
            "Loss at step 89: 0.1108\n",
            "Loss at step 90: 0.1106\n",
            "Loss at step 91: 0.1105\n",
            "Loss at step 92: 0.1103\n",
            "Loss at step 93: 0.1101\n",
            "Loss at step 94: 0.1100\n",
            "Loss at step 95: 0.1099\n",
            "Loss at step 96: 0.1097\n",
            "Loss at step 97: 0.1096\n",
            "Loss at step 98: 0.1094\n",
            "Loss at step 99: 0.1093\n",
            "Loss at step 100: 0.1091\n",
            "Loss at step 101: 0.1090\n",
            "Loss at step 102: 0.1088\n",
            "Loss at step 103: 0.1087\n",
            "Loss at step 104: 0.1086\n",
            "Loss at step 105: 0.1084\n",
            "Loss at step 106: 0.1083\n",
            "Loss at step 107: 0.1082\n",
            "Loss at step 108: 0.1080\n",
            "Loss at step 109: 0.1079\n",
            "Loss at step 110: 0.1078\n",
            "Loss at step 111: 0.1076\n",
            "Loss at step 112: 0.1075\n",
            "Loss at step 113: 0.1074\n",
            "Loss at step 114: 0.1073\n",
            "Loss at step 115: 0.1071\n",
            "Loss at step 116: 0.1070\n",
            "Loss at step 117: 0.1069\n",
            "Loss at step 118: 0.1067\n",
            "Loss at step 119: 0.1066\n",
            "Loss at step 120: 0.1065\n",
            "Loss at step 121: 0.1064\n",
            "Loss at step 122: 0.1063\n",
            "Loss at step 123: 0.1061\n",
            "Loss at step 124: 0.1060\n",
            "Loss at step 125: 0.1059\n",
            "Loss at step 126: 0.1058\n",
            "Loss at step 127: 0.1056\n",
            "Loss at step 128: 0.1055\n",
            "Loss at step 129: 0.1054\n",
            "Loss at step 130: 0.1053\n",
            "Loss at step 131: 0.1052\n",
            "Loss at step 132: 0.1051\n",
            "Loss at step 133: 0.1049\n",
            "Loss at step 134: 0.1048\n",
            "Loss at step 135: 0.1047\n",
            "Loss at step 136: 0.1046\n",
            "Loss at step 137: 0.1045\n",
            "Loss at step 138: 0.1044\n",
            "Loss at step 139: 0.1043\n",
            "Loss at step 140: 0.1041\n",
            "Loss at step 141: 0.1040\n",
            "Loss at step 142: 0.1039\n",
            "Loss at step 143: 0.1038\n",
            "Loss at step 144: 0.1037\n",
            "Loss at step 145: 0.1036\n",
            "Loss at step 146: 0.1035\n",
            "Loss at step 147: 0.1034\n",
            "Loss at step 148: 0.1033\n",
            "Loss at step 149: 0.1032\n",
            "Loss at step 150: 0.1031\n",
            "Loss at step 151: 0.1029\n",
            "Loss at step 152: 0.1028\n",
            "Loss at step 153: 0.1027\n",
            "Loss at step 154: 0.1026\n",
            "Loss at step 155: 0.1025\n",
            "Loss at step 156: 0.1024\n",
            "Loss at step 157: 0.1023\n",
            "Loss at step 158: 0.1022\n",
            "Loss at step 159: 0.1021\n",
            "Loss at step 160: 0.1020\n",
            "Loss at step 161: 0.1019\n",
            "Loss at step 162: 0.1018\n",
            "Loss at step 163: 0.1017\n",
            "Loss at step 164: 0.1016\n",
            "Loss at step 165: 0.1015\n",
            "Loss at step 166: 0.1014\n",
            "Loss at step 167: 0.1013\n",
            "Loss at step 168: 0.1012\n",
            "Loss at step 169: 0.1011\n",
            "Loss at step 170: 0.1010\n",
            "Loss at step 171: 0.1009\n",
            "Loss at step 172: 0.1008\n",
            "Loss at step 173: 0.1007\n",
            "Loss at step 174: 0.1006\n",
            "Loss at step 175: 0.1005\n",
            "Loss at step 176: 0.1004\n",
            "Loss at step 177: 0.1003\n",
            "Loss at step 178: 0.1002\n",
            "Loss at step 179: 0.1002\n",
            "Loss at step 180: 0.1001\n",
            "Loss at step 181: 0.1000\n",
            "Loss at step 182: 0.0999\n",
            "Loss at step 183: 0.0998\n",
            "Loss at step 184: 0.0997\n",
            "Loss at step 185: 0.0996\n",
            "Loss at step 186: 0.0995\n",
            "Loss at step 187: 0.0994\n",
            "Loss at step 188: 0.0993\n",
            "Loss at step 189: 0.0992\n",
            "Loss at step 190: 0.0991\n",
            "Loss at step 191: 0.0991\n",
            "Loss at step 192: 0.0990\n",
            "Loss at step 193: 0.0989\n",
            "Loss at step 194: 0.0988\n",
            "Loss at step 195: 0.0987\n",
            "Loss at step 196: 0.0986\n",
            "Loss at step 197: 0.0985\n",
            "Loss at step 198: 0.0984\n",
            "Loss at step 199: 0.0984\n",
            "Loss at step 200: 0.0983\n",
            "Loss at step 201: 0.0982\n",
            "Loss at step 202: 0.0981\n",
            "Loss at step 203: 0.0980\n",
            "Loss at step 204: 0.0979\n",
            "Loss at step 205: 0.0978\n",
            "Loss at step 206: 0.0978\n",
            "Loss at step 207: 0.0977\n",
            "Loss at step 208: 0.0976\n",
            "Loss at step 209: 0.0975\n",
            "Loss at step 210: 0.0974\n",
            "Loss at step 211: 0.0973\n",
            "Loss at step 212: 0.0973\n",
            "Loss at step 213: 0.0972\n",
            "Loss at step 214: 0.0971\n",
            "Loss at step 215: 0.0970\n",
            "Loss at step 216: 0.0969\n",
            "Loss at step 217: 0.0969\n",
            "Loss at step 218: 0.0968\n",
            "Loss at step 219: 0.0967\n",
            "Loss at step 220: 0.0966\n",
            "Loss at step 221: 0.0965\n",
            "Loss at step 222: 0.0965\n",
            "Loss at step 223: 0.0964\n",
            "Loss at step 224: 0.0963\n",
            "Loss at step 225: 0.0962\n",
            "Loss at step 226: 0.0962\n",
            "Loss at step 227: 0.0961\n",
            "Loss at step 228: 0.0960\n",
            "Loss at step 229: 0.0959\n",
            "Loss at step 230: 0.0959\n",
            "Loss at step 231: 0.0958\n",
            "Loss at step 232: 0.0957\n",
            "Loss at step 233: 0.0956\n",
            "Loss at step 234: 0.0956\n",
            "Loss at step 235: 0.0955\n",
            "Loss at step 236: 0.0954\n",
            "Loss at step 237: 0.0953\n",
            "Loss at step 238: 0.0953\n",
            "Loss at step 239: 0.0952\n",
            "Loss at step 240: 0.0951\n",
            "Loss at step 241: 0.0950\n",
            "Loss at step 242: 0.0950\n",
            "Loss at step 243: 0.0949\n",
            "Loss at step 244: 0.0948\n",
            "Loss at step 245: 0.0948\n",
            "Loss at step 246: 0.0947\n",
            "Loss at step 247: 0.0946\n",
            "Loss at step 248: 0.0946\n",
            "Loss at step 249: 0.0945\n",
            "Loss at step 250: 0.0944\n",
            "Loss at step 251: 0.0943\n",
            "Loss at step 252: 0.0943\n",
            "Loss at step 253: 0.0942\n",
            "Loss at step 254: 0.0941\n",
            "Loss at step 255: 0.0941\n",
            "Loss at step 256: 0.0940\n",
            "Loss at step 257: 0.0939\n",
            "Loss at step 258: 0.0939\n",
            "Loss at step 259: 0.0938\n",
            "Loss at step 260: 0.0937\n",
            "Loss at step 261: 0.0937\n",
            "Loss at step 262: 0.0936\n",
            "Loss at step 263: 0.0935\n",
            "Loss at step 264: 0.0935\n",
            "Loss at step 265: 0.0934\n",
            "Loss at step 266: 0.0934\n",
            "Loss at step 267: 0.0933\n",
            "Loss at step 268: 0.0932\n",
            "Loss at step 269: 0.0932\n",
            "Loss at step 270: 0.0931\n",
            "Loss at step 271: 0.0930\n",
            "Loss at step 272: 0.0930\n",
            "Loss at step 273: 0.0929\n",
            "Loss at step 274: 0.0928\n",
            "Loss at step 275: 0.0928\n",
            "Loss at step 276: 0.0927\n",
            "Loss at step 277: 0.0927\n",
            "Loss at step 278: 0.0926\n",
            "Loss at step 279: 0.0925\n",
            "Loss at step 280: 0.0925\n",
            "Loss at step 281: 0.0924\n",
            "Loss at step 282: 0.0924\n",
            "Loss at step 283: 0.0923\n",
            "Loss at step 284: 0.0922\n",
            "Loss at step 285: 0.0922\n",
            "Loss at step 286: 0.0921\n",
            "Loss at step 287: 0.0921\n",
            "Loss at step 288: 0.0920\n",
            "Loss at step 289: 0.0919\n",
            "Loss at step 290: 0.0919\n",
            "Loss at step 291: 0.0918\n",
            "Loss at step 292: 0.0918\n",
            "Loss at step 293: 0.0917\n",
            "Loss at step 294: 0.0917\n",
            "Loss at step 295: 0.0916\n",
            "Loss at step 296: 0.0915\n",
            "Loss at step 297: 0.0915\n",
            "Loss at step 298: 0.0914\n",
            "Loss at step 299: 0.0914\n",
            "Loss at step 300: 0.0913\n",
            "Loss at step 301: 0.0913\n",
            "Loss at step 302: 0.0912\n",
            "Loss at step 303: 0.0912\n",
            "Loss at step 304: 0.0911\n",
            "Loss at step 305: 0.0910\n",
            "Loss at step 306: 0.0910\n",
            "Loss at step 307: 0.0909\n",
            "Loss at step 308: 0.0909\n",
            "Loss at step 309: 0.0908\n",
            "Loss at step 310: 0.0908\n",
            "Loss at step 311: 0.0907\n",
            "Loss at step 312: 0.0907\n",
            "Loss at step 313: 0.0906\n",
            "Loss at step 314: 0.0906\n",
            "Loss at step 315: 0.0905\n",
            "Loss at step 316: 0.0905\n",
            "Loss at step 317: 0.0904\n",
            "Loss at step 318: 0.0904\n",
            "Loss at step 319: 0.0903\n",
            "Loss at step 320: 0.0903\n",
            "Loss at step 321: 0.0902\n",
            "Loss at step 322: 0.0902\n",
            "Loss at step 323: 0.0901\n",
            "Loss at step 324: 0.0901\n",
            "Loss at step 325: 0.0900\n",
            "Loss at step 326: 0.0900\n",
            "Loss at step 327: 0.0899\n",
            "Loss at step 328: 0.0899\n",
            "Loss at step 329: 0.0898\n",
            "Loss at step 330: 0.0898\n",
            "Loss at step 331: 0.0897\n",
            "Loss at step 332: 0.0897\n",
            "Loss at step 333: 0.0896\n",
            "Loss at step 334: 0.0896\n",
            "Loss at step 335: 0.0895\n",
            "Loss at step 336: 0.0895\n",
            "Loss at step 337: 0.0894\n",
            "Loss at step 338: 0.0894\n",
            "Loss at step 339: 0.0893\n",
            "Loss at step 340: 0.0893\n",
            "Loss at step 341: 0.0892\n",
            "Loss at step 342: 0.0892\n",
            "Loss at step 343: 0.0891\n",
            "Loss at step 344: 0.0891\n",
            "Loss at step 345: 0.0891\n",
            "Loss at step 346: 0.0890\n",
            "Loss at step 347: 0.0890\n",
            "Loss at step 348: 0.0889\n",
            "Loss at step 349: 0.0889\n",
            "Loss at step 350: 0.0888\n",
            "Loss at step 351: 0.0888\n",
            "Loss at step 352: 0.0887\n",
            "Loss at step 353: 0.0887\n",
            "Loss at step 354: 0.0887\n",
            "Loss at step 355: 0.0886\n",
            "Loss at step 356: 0.0886\n",
            "Loss at step 357: 0.0885\n",
            "Loss at step 358: 0.0885\n",
            "Loss at step 359: 0.0884\n",
            "Loss at step 360: 0.0884\n",
            "Loss at step 361: 0.0884\n",
            "Loss at step 362: 0.0883\n",
            "Loss at step 363: 0.0883\n",
            "Loss at step 364: 0.0882\n",
            "Loss at step 365: 0.0882\n",
            "Loss at step 366: 0.0881\n",
            "Loss at step 367: 0.0881\n",
            "Loss at step 368: 0.0881\n",
            "Loss at step 369: 0.0880\n",
            "Loss at step 370: 0.0880\n",
            "Loss at step 371: 0.0879\n",
            "Loss at step 372: 0.0879\n",
            "Loss at step 373: 0.0879\n",
            "Loss at step 374: 0.0878\n",
            "Loss at step 375: 0.0878\n",
            "Loss at step 376: 0.0877\n",
            "Loss at step 377: 0.0877\n",
            "Loss at step 378: 0.0877\n",
            "Loss at step 379: 0.0876\n",
            "Loss at step 380: 0.0876\n",
            "Loss at step 381: 0.0875\n",
            "Loss at step 382: 0.0875\n",
            "Loss at step 383: 0.0875\n",
            "Loss at step 384: 0.0874\n",
            "Loss at step 385: 0.0874\n",
            "Loss at step 386: 0.0873\n",
            "Loss at step 387: 0.0873\n",
            "Loss at step 388: 0.0873\n",
            "Loss at step 389: 0.0872\n",
            "Loss at step 390: 0.0872\n",
            "Loss at step 391: 0.0872\n",
            "Loss at step 392: 0.0871\n",
            "Loss at step 393: 0.0871\n",
            "Loss at step 394: 0.0870\n",
            "Loss at step 395: 0.0870\n",
            "Loss at step 396: 0.0870\n",
            "Loss at step 397: 0.0869\n",
            "Loss at step 398: 0.0869\n",
            "Loss at step 399: 0.0869\n"
          ]
        }
      ]
    },
    {
      "cell_type": "code",
      "source": [
        "print(W, b)"
      ],
      "metadata": {
        "id": "QrvrvFGf41IW",
        "outputId": "ebd07ab4-fc60-4f73-a884-651bf1e9ed10",
        "colab": {
          "base_uri": "https://localhost:8080/"
        }
      },
      "execution_count": null,
      "outputs": [
        {
          "output_type": "stream",
          "name": "stdout",
          "text": [
            "<tf.Variable 'Variable:0' shape=(2, 1) dtype=float32, numpy=\n",
            "array([[ 0.25826782],\n",
            "       [-0.20884374]], dtype=float32)> <tf.Variable 'Variable:0' shape=(1,) dtype=float32, numpy=array([0.24534541], dtype=float32)>\n"
          ]
        }
      ]
    },
    {
      "cell_type": "code",
      "source": [
        "predictions = model(inputs)\n",
        "plt.scatter(inputs[:, 0], inputs[:, 1], c=predictions[:, 0] > 0.5)\n",
        "plt.show()"
      ],
      "metadata": {
        "id": "cln6Y2ud3XMv",
        "outputId": "9687b15c-8f7e-4427-d4dc-f405854e78eb",
        "colab": {
          "base_uri": "https://localhost:8080/",
          "height": 265
        }
      },
      "execution_count": null,
      "outputs": [
        {
          "output_type": "display_data",
          "data": {
            "text/plain": [
              "<Figure size 432x288 with 1 Axes>"
            ],
            "image/png": "[encoded data removed]"
          },
          "metadata": {
            "needs_background": "light"
          }
        }
      ]
    },
    {
      "cell_type": "code",
      "source": [
        "x = np.linspace(-1, 4, 100)\n",
        "y = - W[0] /  W[1] * x + (0.5 - b) / W[1]\n",
        "plt.plot(x, y, \"-r\")\n",
        "plt.scatter(inputs[:, 0], inputs[:, 1], c=predictions[:, 0] > 0.5)"
      ],
      "metadata": {
        "id": "icng1k-G3XKx",
        "outputId": "c0d66ea8-9dbf-4465-bcf1-5572a2e062e8",
        "colab": {
          "base_uri": "https://localhost:8080/",
          "height": 283
        }
      },
      "execution_count": null,
      "outputs": [
        {
          "output_type": "execute_result",
          "data": {
            "text/plain": [
              "<matplotlib.collections.PathCollection at 0x7f94a4eb33a0>"
            ]
          },
          "metadata": {},
          "execution_count": 66
        },
        {
          "output_type": "display_data",
          "data": {
            "text/plain": [
              "<Figure size 432x288 with 1 Axes>"
            ],
            "image/png": "[encoded data removed]"
          },
          "metadata": {
            "needs_background": "light"
          }
        }
      ]
    },
    {
      "cell_type": "markdown",
      "metadata": {
        "id": "c7uTsWkj2uz2"
      },
      "source": [
        "## Anatomy of a neural network: Understanding core Keras APIs"
      ]
    },
    {
      "cell_type": "markdown",
      "metadata": {
        "id": "G2fapVxu2uz2"
      },
      "source": [
        "### Layers: The building blocks of deep learning"
      ]
    },
    {
      "cell_type": "markdown",
      "metadata": {
        "id": "y3zWtkEp2uz2"
      },
      "source": [
        "#### The base Layer class in Keras"
      ]
    },
    {
      "cell_type": "markdown",
      "metadata": {
        "id": "LzEI1JcB2uz2"
      },
      "source": [
        "**A `Dense` layer implemented as a `Layer` subclass**"
      ]
    },
    {
      "cell_type": "code",
      "execution_count": null,
      "metadata": {
        "id": "Eed2Gv-u2uz3"
      },
      "outputs": [],
      "source": [
        "from tensorflow import keras\n",
        "\n",
        "class SimpleDense(keras.layers.Layer):\n",
        "\n",
        "    def __init__(self, units, activation=None):\n",
        "        super().__init__()\n",
        "        self.units = units\n",
        "        self.activation = activation\n",
        "\n",
        "    def build(self, input_shape):\n",
        "        input_dim = input_shape[-1]\n",
        "        self.W = self.add_weight(shape=(input_dim, self.units),\n",
        "                                 initializer=\"random_normal\")\n",
        "        self.b = self.add_weight(shape=(self.units,),\n",
        "                                 initializer=\"zeros\")\n",
        "\n",
        "    def call(self, inputs):\n",
        "        y = tf.matmul(inputs, self.W) + self.b\n",
        "        if self.activation is not None:\n",
        "            y = self.activation(y)\n",
        "        return y"
      ]
    },
    {
      "cell_type": "code",
      "execution_count": null,
      "metadata": {
        "id": "ndkIE5WQ2uz3",
        "outputId": "bd74ffb9-3c73-4b4f-b2ec-550fadc96c47",
        "colab": {
          "base_uri": "https://localhost:8080/"
        }
      },
      "outputs": [
        {
          "output_type": "stream",
          "name": "stdout",
          "text": [
            "(2, 32)\n"
          ]
        }
      ],
      "source": [
        "my_dense = SimpleDense(units=32, activation=tf.nn.relu)\n",
        "input_tensor = tf.ones(shape=(2, 784))\n",
        "output_tensor = my_dense(input_tensor)\n",
        "print(output_tensor.shape)"
      ]
    },
    {
      "cell_type": "markdown",
      "metadata": {
        "id": "BLUkziyC2uz3"
      },
      "source": [
        "#### Automatic shape inference: Building layers on the fly"
      ]
    },
    {
      "cell_type": "code",
      "execution_count": null,
      "metadata": {
        "id": "CNHYgmAr2uz3"
      },
      "outputs": [],
      "source": [
        "from tensorflow.keras import layers\n",
        "layer = layers.Dense(32, activation=\"relu\")"
      ]
    },
    {
      "cell_type": "code",
      "execution_count": null,
      "metadata": {
        "id": "Ila7wVQf2uz3"
      },
      "outputs": [],
      "source": [
        "from tensorflow.keras import models\n",
        "from tensorflow.keras import layers\n",
        "model = models.Sequential([\n",
        "    layers.Dense(32, activation=\"relu\"),\n",
        "    layers.Dense(32)\n",
        "])"
      ]
    },
    {
      "cell_type": "code",
      "execution_count": null,
      "metadata": {
        "id": "yHcTsm0t2uz4"
      },
      "outputs": [],
      "source": [
        "model = keras.Sequential([\n",
        "    SimpleDense(32, activation=\"relu\"),\n",
        "    SimpleDense(64, activation=\"relu\"),\n",
        "    SimpleDense(32, activation=\"relu\"),\n",
        "    SimpleDense(10, activation=\"softmax\")\n",
        "])"
      ]
    },
    {
      "cell_type": "markdown",
      "metadata": {
        "id": "9q1KJNrO2uz4"
      },
      "source": [
        "### From layers to models"
      ]
    },
    {
      "cell_type": "markdown",
      "metadata": {
        "id": "BdF9Cj092uz4"
      },
      "source": [
        "### The \"compile\" step: Configuring the learning process"
      ]
    },
    {
      "cell_type": "code",
      "execution_count": null,
      "metadata": {
        "id": "kBB-FsUg2uz4"
      },
      "outputs": [],
      "source": [
        "model = keras.Sequential([keras.layers.Dense(1)])\n",
        "model.compile(optimizer=\"rmsprop\",\n",
        "              loss=\"mean_squared_error\",\n",
        "              metrics=[\"accuracy\"])"
      ]
    },
    {
      "cell_type": "code",
      "execution_count": null,
      "metadata": {
        "id": "uPbiX-oW2uz4"
      },
      "outputs": [],
      "source": [
        "model.compile(optimizer=keras.optimizers.RMSprop(),\n",
        "              loss=keras.losses.MeanSquaredError(),\n",
        "              metrics=[keras.metrics.BinaryAccuracy()])"
      ]
    },
    {
      "cell_type": "markdown",
      "metadata": {
        "id": "hyNQh8_G2uz5"
      },
      "source": [
        "### Picking a loss function"
      ]
    },
    {
      "cell_type": "markdown",
      "metadata": {
        "id": "dHA3tc7B2uz5"
      },
      "source": [
        "### Understanding the fit() method"
      ]
    },
    {
      "cell_type": "markdown",
      "metadata": {
        "id": "8b45vsDQ2uz5"
      },
      "source": [
        "**Calling `fit()` with NumPy data**"
      ]
    },
    {
      "cell_type": "code",
      "execution_count": null,
      "metadata": {
        "id": "AgRhb0iQ2uz5"
      },
      "outputs": [],
      "source": [
        "history = model.fit(\n",
        "    inputs,\n",
        "    targets,\n",
        "    epochs=5,\n",
        "    batch_size=128\n",
        ")"
      ]
    },
    {
      "cell_type": "code",
      "execution_count": null,
      "metadata": {
        "id": "kSlgVyyM2uz5"
      },
      "outputs": [],
      "source": [
        "history.history"
      ]
    },
    {
      "cell_type": "markdown",
      "metadata": {
        "id": "wMkbAUmn2uz5"
      },
      "source": [
        "### Monitoring loss and metrics on validation data"
      ]
    },
    {
      "cell_type": "markdown",
      "metadata": {
        "id": "ef6gbuhG2uz6"
      },
      "source": [
        "**Using the `validation_data` argument**"
      ]
    },
    {
      "cell_type": "code",
      "source": [
        "import keras"
      ],
      "metadata": {
        "id": "X7vwgWk65o28"
      },
      "execution_count": null,
      "outputs": []
    },
    {
      "cell_type": "code",
      "execution_count": null,
      "metadata": {
        "id": "GIQeA5is2uz6",
        "outputId": "7cdfe669-1861-4d18-8f54-143bcaf09df0",
        "colab": {
          "base_uri": "https://localhost:8080/"
        }
      },
      "outputs": [
        {
          "output_type": "stream",
          "name": "stdout",
          "text": [
            "Epoch 1/5\n",
            "44/44 [==============================] - 1s 8ms/step - loss: 2.4034 - binary_accuracy: 0.6929 - val_loss: 0.1128 - val_binary_accuracy: 0.8867\n",
            "Epoch 2/5\n",
            "44/44 [==============================] - 0s 3ms/step - loss: 0.1465 - binary_accuracy: 0.8500 - val_loss: 0.2415 - val_binary_accuracy: 0.6500\n",
            "Epoch 3/5\n",
            "44/44 [==============================] - 0s 4ms/step - loss: 0.1624 - binary_accuracy: 0.8143 - val_loss: 0.1467 - val_binary_accuracy: 0.8300\n",
            "Epoch 4/5\n",
            "44/44 [==============================] - 0s 4ms/step - loss: 0.1604 - binary_accuracy: 0.8271 - val_loss: 0.1062 - val_binary_accuracy: 0.8967\n",
            "Epoch 5/5\n",
            "44/44 [==============================] - 0s 3ms/step - loss: 0.1681 - binary_accuracy: 0.8186 - val_loss: 0.0855 - val_binary_accuracy: 0.9267\n"
          ]
        },
        {
          "output_type": "execute_result",
          "data": {
            "text/plain": [
              "<keras.callbacks.History at 0x7f94a4b8faf0>"
            ]
          },
          "metadata": {},
          "execution_count": 77
        }
      ],
      "source": [
        "model = keras.Sequential([keras.layers.Dense(1)])\n",
        "model.compile(optimizer=keras.optimizers.RMSprop(learning_rate=0.1),\n",
        "              loss=keras.losses.MeanSquaredError(),\n",
        "              metrics=[keras.metrics.BinaryAccuracy()])\n",
        "\n",
        "indices_permutation = np.random.permutation(len(inputs))\n",
        "shuffled_inputs = inputs[indices_permutation]\n",
        "shuffled_targets = targets[indices_permutation]\n",
        "\n",
        "num_validation_samples = int(0.3 * len(inputs))\n",
        "val_inputs = shuffled_inputs[:num_validation_samples]\n",
        "val_targets = shuffled_targets[:num_validation_samples]\n",
        "training_inputs = shuffled_inputs[num_validation_samples:]\n",
        "training_targets = shuffled_targets[num_validation_samples:]\n",
        "\n",
        "model.fit(\n",
        "    training_inputs,\n",
        "    training_targets,\n",
        "    epochs=5,\n",
        "    batch_size=16,\n",
        "    validation_data=(val_inputs, val_targets)\n",
        ")"
      ]
    },
    {
      "cell_type": "markdown",
      "metadata": {
        "id": "7jUvuYta2uz6"
      },
      "source": [
        "### Inference: Using a model after training"
      ]
    },
    {
      "cell_type": "code",
      "execution_count": null,
      "metadata": {
        "id": "rlur5ik62uz6"
      },
      "outputs": [],
      "source": [
        "predictions = model.predict(val_inputs, batch_size=128)\n",
        "print(predictions[:10])"
      ]
    },
    {
      "cell_type": "markdown",
      "metadata": {
        "id": "9Iv1Xvr22uz7"
      },
      "source": [
        "## Summary"
      ]
    }
  ],
  "metadata": {
    "colab": {
      "provenance": [],
      "include_colab_link": true
    },
    "kernelspec": {
      "display_name": "Python 3",
      "language": "python",
      "name": "python3"
    },
    "language_info": {
      "codemirror_mode": {
        "name": "ipython",
        "version": 3
      },
      "file_extension": ".py",
      "mimetype": "text/x-python",
      "name": "python",
      "nbconvert_exporter": "python",
      "pygments_lexer": "ipython3",
      "version": "3.7.0"
    },
    "accelerator": "GPU",
    "gpuClass": "standard"
  },
  "nbformat": 4,
  "nbformat_minor": 0
}