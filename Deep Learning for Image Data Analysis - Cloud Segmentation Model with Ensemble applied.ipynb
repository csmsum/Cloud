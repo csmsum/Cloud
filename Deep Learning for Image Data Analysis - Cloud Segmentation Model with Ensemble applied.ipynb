{
 "cells": [
  {
   "cell_type": "markdown",
   "metadata": {},
   "source": [
    "2022학년도 2학기, 임창원 교수님 '이미지분석을위한딥러닝' 과목에서 진행한 프로젝트입니다. Ipynb파일로 진행한 만큼  결과가 산개해있습니다. 때문에 과제의 일환으로 함께 제출하였던 동명의 pdf파일을 첨부하였습니다."
   ]
  },
  {
   "cell_type": "code",
   "execution_count": null,
   "metadata": {
    "colab": {
     "base_uri": "https://localhost:8080/"
    },
    "executionInfo": {
     "elapsed": 19078,
     "status": "ok",
     "timestamp": 1671176717151,
     "user": {
      "displayName": "유도현",
      "userId": "00783759444100379662"
     },
     "user_tz": -540
    },
    "id": "piIQDCFfVvjJ",
    "outputId": "b873e303-4fd2-43d7-86eb-173de9d1f366"
   },
   "outputs": [],
   "source": [
    "from google.colab import drive\n",
    "drive.mount('/content/drive')"
   ]
  },
  {
   "cell_type": "markdown",
   "metadata": {
    "id": "nuBp71uo2JHE"
   },
   "source": [
    "\"understanding_cloud_organization\" 폴더가 있는 디렉토리를 지정해 주세요."
   ]
  },
  {
   "cell_type": "code",
   "execution_count": 5,
   "metadata": {
    "executionInfo": {
     "elapsed": 359,
     "status": "ok",
     "timestamp": 1671176720453,
     "user": {
      "displayName": "유도현",
      "userId": "00783759444100379662"
     },
     "user_tz": -540
    },
    "id": "zTlOrNhjNb_T"
   },
   "outputs": [],
   "source": [
    "Hymynameis = \"/tf\""
   ]
  },
  {
   "cell_type": "markdown",
   "metadata": {
    "id": "whLNX5UwqFOX"
   },
   "source": [
    "## preparation"
   ]
  },
  {
   "cell_type": "code",
   "execution_count": 6,
   "metadata": {
    "executionInfo": {
     "elapsed": 1525,
     "status": "ok",
     "timestamp": 1671176723814,
     "user": {
      "displayName": "유도현",
      "userId": "00783759444100379662"
     },
     "user_tz": -540
    },
    "id": "8lMbXCFrN_cw"
   },
   "outputs": [],
   "source": [
    "import tensorflow as tf #텐서~~플로우~~"
   ]
  },
  {
   "cell_type": "code",
   "execution_count": 7,
   "metadata": {
    "executionInfo": {
     "elapsed": 2642,
     "status": "ok",
     "timestamp": 1671176727902,
     "user": {
      "displayName": "유도현",
      "userId": "00783759444100379662"
     },
     "user_tz": -540
    },
    "id": "KRDQjVbiVsPm"
   },
   "outputs": [],
   "source": [
    "import numpy as np # linear algebra\n",
    "import pandas as pd # data processing, CSV file I/O (e.g. pd.read_csv)\n",
    "#from skimage.data import imread\n",
    "import matplotlib.pyplot as plt\n",
    "import cv2\n",
    "import json\n",
    "\n",
    "import multiprocessing\n",
    "\n",
    "import albumentations as albu\n",
    "\n",
    "from sklearn.model_selection import train_test_split\n",
    "from sklearn.metrics import precision_recall_curve, auc\n",
    "\n",
    "from tensorflow.keras import backend as K\n",
    "from tensorflow.keras.losses import binary_crossentropy\n",
    "from tensorflow.keras.layers import Input, BatchNormalization\n",
    "from tensorflow.keras.layers import Conv2D, Conv2DTranspose, Concatenate\n",
    "from tensorflow.keras.layers import MaxPooling2D, Activation\n",
    "from tensorflow.keras.layers import concatenate, Lambda, Dropout, LeakyReLU\n",
    "from tensorflow.keras.losses import binary_crossentropy\n",
    "from tensorflow.keras.callbacks import Callback, ModelCheckpoint, EarlyStopping, ReduceLROnPlateau\n",
    "from tensorflow.keras.models import Model\n",
    "from tensorflow.keras.optimizers import Adam\n",
    "\n",
    "import warnings\n",
    "warnings.filterwarnings('ignore')\n",
    "\n",
    "import os, glob\n",
    "\n",
    "from tqdm import tqdm_notebook as tqdm\n"
   ]
  },
  {
   "cell_type": "code",
   "execution_count": 8,
   "metadata": {
    "executionInfo": {
     "elapsed": 552,
     "status": "ok",
     "timestamp": 1671176730754,
     "user": {
      "displayName": "유도현",
      "userId": "00783759444100379662"
     },
     "user_tz": -540
    },
    "id": "vUkRWobnVsPp"
   },
   "outputs": [],
   "source": [
    "def np_resize(img, input_shape,graystyle=False):\n",
    "    \"\"\"\n",
    "    Reshape a numpy array, which is input_shape=(height, width), \n",
    "    as opposed to input_shape=(width, height) for cv2\n",
    "    \"\"\"\n",
    "\n",
    "    height, width = input_shape\n",
    "    resized_img = cv2.resize(img, (width, height))\n",
    "    \n",
    "    # keep dimension\n",
    "    if graystyle:\n",
    "        resized_img = resized_img[..., None]\n",
    "        \n",
    "    return resized_img\n",
    "\n",
    "def mask2rle(img):\n",
    "    '''\n",
    "    img: a mask image, numpy array, 1 - mask, 0 - background\n",
    "    Returns run length as string formated\n",
    "    \n",
    "    img.T.flatten()\n",
    "    image(width x height x channel), \n",
    "    from width -> height -> channel flatten a one dimension array \n",
    "    \n",
    "    '''\n",
    "    pixels= img.T.flatten()\n",
    "    pixels = np.concatenate([[0], pixels, [0]])  # add 0 to the beginning and end of array\n",
    "    runs = np.where(pixels[1:] != pixels[:-1])[0] + 1\n",
    "    runs[1::2] -= runs[::2]\n",
    "    return ' '.join(str(x) for x in runs)\n",
    "\n",
    "def rle2mask(rle, input_shape):\n",
    "    width, height = input_shape[:2]\n",
    "    \n",
    "    mask= np.zeros( width*height ).astype(np.uint8)\n",
    "    \n",
    "    array = np.asarray([int(x) for x in rle.split()])\n",
    "    starts = array[0::2]\n",
    "    lengths = array[1::2]\n",
    "\n",
    "    current_position = 0\n",
    "    for index, start in enumerate(starts):\n",
    "        mask[int(start):int(start+lengths[index])] = 1\n",
    "        current_position += lengths[index]\n",
    "        \n",
    "    return mask.reshape(height, width).T\n",
    "\n",
    "def build_masks(rles, input_shape, reshape=None):\n",
    "    depth = len(rles)\n",
    "    \n",
    "    if reshape is None:\n",
    "        masks = np.zeros((*input_shape, depth))\n",
    "    else:\n",
    "        masks = np.zeros((*reshape, depth))\n",
    "    \n",
    "    for i, rle in enumerate(rles):\n",
    "        if type(rle) is str:\n",
    "            if reshape is None:\n",
    "                masks[:, :, i] = rle2mask(rle, input_shape)\n",
    "            else:\n",
    "                mask = rle2mask(rle, input_shape)\n",
    "                reshaped_mask = np_resize(mask, reshape)\n",
    "                masks[:, :, i] = reshaped_mask\n",
    "    \n",
    "    return masks\n",
    "\n",
    "def build_rles(masks, reshape=None):\n",
    "    width, height, depth = masks.shape\n",
    "    \n",
    "    rles = []\n",
    "    \n",
    "    for i in range(depth):\n",
    "        mask = masks[:, :, i]\n",
    "        \n",
    "        if reshape:\n",
    "            mask = mask.astype(np.float32)\n",
    "            mask = np_resize(mask, reshape).astype(np.int64)\n",
    "        \n",
    "        rle = mask2rle(mask)\n",
    "        rles.append(rle)\n",
    "        \n",
    "    return rles"
   ]
  },
  {
   "cell_type": "markdown",
   "metadata": {
    "id": "MYPwY_GEVsPr"
   },
   "source": [
    "## Preprocessing and EDA"
   ]
  },
  {
   "cell_type": "code",
   "execution_count": 9,
   "metadata": {
    "executionInfo": {
     "elapsed": 27783,
     "status": "ok",
     "timestamp": 1671176761634,
     "user": {
      "displayName": "유도현",
      "userId": "00783759444100379662"
     },
     "user_tz": -540
    },
    "id": "Z2ePcEoSVsPr"
   },
   "outputs": [],
   "source": [
    "train_images = os.listdir(Hymynameis+'/understanding_cloud_organization/train_images')\n",
    "test_images = os.listdir(Hymynameis+'/understanding_cloud_organization/test_images')"
   ]
  },
  {
   "cell_type": "markdown",
   "metadata": {
    "id": "nMXWSsyMVsPs"
   },
   "source": [
    "- Split Image_Label into ImageId and Label\n",
    "- Add `hasMask` column"
   ]
  },
  {
   "cell_type": "code",
   "execution_count": 10,
   "metadata": {
    "executionInfo": {
     "elapsed": 4271,
     "status": "ok",
     "timestamp": 1671176772598,
     "user": {
      "displayName": "유도현",
      "userId": "00783759444100379662"
     },
     "user_tz": -540
    },
    "id": "gi4N-4tOVsPs"
   },
   "outputs": [],
   "source": [
    "train_df = pd.read_csv(Hymynameis+'/understanding_cloud_organization/train.csv')\n",
    "train_df.head()\n",
    "\n",
    "# Split Image_Label into ImageId and Label\n",
    "train_df['ImageId'] = train_df['Image_Label'].apply(lambda x : x.split('_')[0])\n",
    "train_df['Label'] = train_df['Image_Label'].apply(lambda x : x.split('_')[1])\n",
    "train_df['hasMask'] = ~ train_df['EncodedPixels'].isna()"
   ]
  },
  {
   "cell_type": "code",
   "execution_count": 11,
   "metadata": {
    "executionInfo": {
     "elapsed": 1,
     "status": "ok",
     "timestamp": 1671176773984,
     "user": {
      "displayName": "유도현",
      "userId": "00783759444100379662"
     },
     "user_tz": -540
    },
    "id": "Mi0YG37UVsPt"
   },
   "outputs": [],
   "source": [
    "mask_count_df = train_df.groupby('ImageId').agg(np.sum).reset_index()\n",
    "mask_count_df.sort_values('hasMask', ascending=False, inplace=True)"
   ]
  },
  {
   "cell_type": "code",
   "execution_count": 12,
   "metadata": {
    "colab": {
     "base_uri": "https://localhost:8080/",
     "height": 206
    },
    "executionInfo": {
     "elapsed": 3,
     "status": "ok",
     "timestamp": 1671176775537,
     "user": {
      "displayName": "유도현",
      "userId": "00783759444100379662"
     },
     "user_tz": -540
    },
    "id": "zwoY54JWyaOW",
    "outputId": "fb09c30e-4c59-4891-8981-bf5ce28b4bf4"
   },
   "outputs": [
    {
     "data": {
      "text/html": [
       "<div>\n",
       "<style scoped>\n",
       "    .dataframe tbody tr th:only-of-type {\n",
       "        vertical-align: middle;\n",
       "    }\n",
       "\n",
       "    .dataframe tbody tr th {\n",
       "        vertical-align: top;\n",
       "    }\n",
       "\n",
       "    .dataframe thead th {\n",
       "        text-align: right;\n",
       "    }\n",
       "</style>\n",
       "<table border=\"1\" class=\"dataframe\">\n",
       "  <thead>\n",
       "    <tr style=\"text-align: right;\">\n",
       "      <th></th>\n",
       "      <th>ImageId</th>\n",
       "      <th>hasMask</th>\n",
       "    </tr>\n",
       "  </thead>\n",
       "  <tbody>\n",
       "    <tr>\n",
       "      <th>821</th>\n",
       "      <td>24dd99c.jpg</td>\n",
       "      <td>4</td>\n",
       "    </tr>\n",
       "    <tr>\n",
       "      <th>1885</th>\n",
       "      <td>562f80a.jpg</td>\n",
       "      <td>4</td>\n",
       "    </tr>\n",
       "    <tr>\n",
       "      <th>3260</th>\n",
       "      <td>944f10b.jpg</td>\n",
       "      <td>4</td>\n",
       "    </tr>\n",
       "    <tr>\n",
       "      <th>1872</th>\n",
       "      <td>55b539f.jpg</td>\n",
       "      <td>4</td>\n",
       "    </tr>\n",
       "    <tr>\n",
       "      <th>4464</th>\n",
       "      <td>cdf7242.jpg</td>\n",
       "      <td>4</td>\n",
       "    </tr>\n",
       "  </tbody>\n",
       "</table>\n",
       "</div>"
      ],
      "text/plain": [
       "          ImageId  hasMask\n",
       "821   24dd99c.jpg        4\n",
       "1885  562f80a.jpg        4\n",
       "3260  944f10b.jpg        4\n",
       "1872  55b539f.jpg        4\n",
       "4464  cdf7242.jpg        4"
      ]
     },
     "execution_count": 12,
     "metadata": {},
     "output_type": "execute_result"
    }
   ],
   "source": [
    "mask_count_df.head()"
   ]
  },
  {
   "cell_type": "code",
   "execution_count": 13,
   "metadata": {
    "executionInfo": {
     "elapsed": 673,
     "status": "ok",
     "timestamp": 1671176777500,
     "user": {
      "displayName": "유도현",
      "userId": "00783759444100379662"
     },
     "user_tz": -540
    },
    "id": "FmPDe7KbVsPt"
   },
   "outputs": [],
   "source": [
    "submission_df = pd.read_csv(Hymynameis+'/understanding_cloud_organization/sample_submission.csv')\n",
    "submission_df['ImageId'] = submission_df['Image_Label'].apply(lambda x : x.split('_')[0])\n",
    "test_images = pd.DataFrame(submission_df['ImageId'].unique(), columns=['ImageId'])"
   ]
  },
  {
   "cell_type": "code",
   "execution_count": 14,
   "metadata": {
    "colab": {
     "base_uri": "https://localhost:8080/",
     "height": 206
    },
    "executionInfo": {
     "elapsed": 2,
     "status": "ok",
     "timestamp": 1671176779278,
     "user": {
      "displayName": "유도현",
      "userId": "00783759444100379662"
     },
     "user_tz": -540
    },
    "id": "qaqCSjT2yifC",
    "outputId": "308dcf33-6d6b-44b6-a75f-503fea3a00cb"
   },
   "outputs": [
    {
     "data": {
      "text/html": [
       "<div>\n",
       "<style scoped>\n",
       "    .dataframe tbody tr th:only-of-type {\n",
       "        vertical-align: middle;\n",
       "    }\n",
       "\n",
       "    .dataframe tbody tr th {\n",
       "        vertical-align: top;\n",
       "    }\n",
       "\n",
       "    .dataframe thead th {\n",
       "        text-align: right;\n",
       "    }\n",
       "</style>\n",
       "<table border=\"1\" class=\"dataframe\">\n",
       "  <thead>\n",
       "    <tr style=\"text-align: right;\">\n",
       "      <th></th>\n",
       "      <th>ImageId</th>\n",
       "    </tr>\n",
       "  </thead>\n",
       "  <tbody>\n",
       "    <tr>\n",
       "      <th>0</th>\n",
       "      <td>002f507.jpg</td>\n",
       "    </tr>\n",
       "    <tr>\n",
       "      <th>1</th>\n",
       "      <td>0035ae9.jpg</td>\n",
       "    </tr>\n",
       "    <tr>\n",
       "      <th>2</th>\n",
       "      <td>0038327.jpg</td>\n",
       "    </tr>\n",
       "    <tr>\n",
       "      <th>3</th>\n",
       "      <td>004f759.jpg</td>\n",
       "    </tr>\n",
       "    <tr>\n",
       "      <th>4</th>\n",
       "      <td>005ba08.jpg</td>\n",
       "    </tr>\n",
       "  </tbody>\n",
       "</table>\n",
       "</div>"
      ],
      "text/plain": [
       "       ImageId\n",
       "0  002f507.jpg\n",
       "1  0035ae9.jpg\n",
       "2  0038327.jpg\n",
       "3  004f759.jpg\n",
       "4  005ba08.jpg"
      ]
     },
     "execution_count": 14,
     "metadata": {},
     "output_type": "execute_result"
    }
   ],
   "source": [
    "test_images.head()"
   ]
  },
  {
   "cell_type": "markdown",
   "metadata": {
    "id": "ufNSFk-7VsPt"
   },
   "source": [
    "## One-hot encoding classed"
   ]
  },
  {
   "cell_type": "code",
   "execution_count": 15,
   "metadata": {
    "executionInfo": {
     "elapsed": 1,
     "status": "ok",
     "timestamp": 1671176780732,
     "user": {
      "displayName": "유도현",
      "userId": "00783759444100379662"
     },
     "user_tz": -540
    },
    "id": "4g_YchZaVsPu"
   },
   "outputs": [],
   "source": [
    "train_ohe_df = train_df[~train_df['EncodedPixels'].isnull()]\n",
    "classes = train_ohe_df['Label'].unique()\n",
    "train_ohe_df = train_ohe_df.groupby('ImageId')['Label'].agg(set).reset_index()\n",
    "for class_name in classes:\n",
    "    train_ohe_df[class_name] = train_ohe_df['Label'].map(lambda x: 1 if class_name in x else 0)\n",
    "img_to_ohe_vector = {img: vec for img, vec in zip(train_ohe_df['ImageId'], train_ohe_df.iloc[:, 2:].values)}"
   ]
  },
  {
   "cell_type": "markdown",
   "metadata": {
    "id": "z1CQ21NbVsPu"
   },
   "source": [
    "## Stratified split into train and val"
   ]
  },
  {
   "cell_type": "code",
   "execution_count": 16,
   "metadata": {
    "executionInfo": {
     "elapsed": 638,
     "status": "ok",
     "timestamp": 1671176783992,
     "user": {
      "displayName": "유도현",
      "userId": "00783759444100379662"
     },
     "user_tz": -540
    },
    "id": "1xWi-aWEVsPu"
   },
   "outputs": [],
   "source": [
    "train_idx, val_idx = train_test_split(mask_count_df.index, \n",
    "                                      random_state=24,\n",
    "                                      stratify = train_ohe_df['Label'].map(lambda x: str(sorted(list(x)))),# sorting present classes in lexicographical order, just to be sure\n",
    "                                      test_size = 0.2)"
   ]
  },
  {
   "cell_type": "code",
   "execution_count": 17,
   "metadata": {
    "colab": {
     "base_uri": "https://localhost:8080/"
    },
    "executionInfo": {
     "elapsed": 2,
     "status": "ok",
     "timestamp": 1671176784765,
     "user": {
      "displayName": "유도현",
      "userId": "00783759444100379662"
     },
     "user_tz": -540
    },
    "id": "OlxInExSVsPu",
    "outputId": "2e35d68a-fd47-489d-d328-9f983c7c448d"
   },
   "outputs": [
    {
     "name": "stdout",
     "output_type": "stream",
     "text": [
      "train length: 4436\n",
      "val length: 1110\n"
     ]
    }
   ],
   "source": [
    "print('train length:',len(train_idx))\n",
    "print('val length:',len(val_idx))"
   ]
  },
  {
   "cell_type": "markdown",
   "metadata": {
    "id": "OItyx45lVsPu"
   },
   "source": [
    "## Data Generator"
   ]
  },
  {
   "cell_type": "code",
   "execution_count": 18,
   "metadata": {
    "executionInfo": {
     "elapsed": 381,
     "status": "ok",
     "timestamp": 1671176786991,
     "user": {
      "displayName": "유도현",
      "userId": "00783759444100379662"
     },
     "user_tz": -540
    },
    "id": "HmDj_Kv5VsPu"
   },
   "outputs": [],
   "source": [
    "class DataGenerator(tf.keras.utils.Sequence):\n",
    "    'Generates data for Keras'\n",
    "    def __init__(self, list_IDs, df, target_df=None, mode='fit',\n",
    "                 base_path=Hymynameis+'/understanding_cloud_organization/train_images',\n",
    "                 batch_size=32, dim=(1400, 2100), n_channels=3, reshape=None,\n",
    "                 augment=False, n_classes=4, random_state=42, shuffle=True, graystyle=False):\n",
    "        self.dim = dim\n",
    "        self.batch_size = batch_size\n",
    "        self.df = df\n",
    "        self.mode = mode\n",
    "        self.base_path = base_path\n",
    "        self.target_df = target_df\n",
    "        self.list_IDs = list_IDs\n",
    "        self.reshape = reshape\n",
    "        self.n_channels = n_channels\n",
    "        self.augment = augment\n",
    "        self.n_classes = n_classes\n",
    "        self.shuffle = shuffle\n",
    "        self.random_state = random_state\n",
    "        self.graystyle = graystyle\n",
    "        \n",
    "        self.on_epoch_end()\n",
    "        np.random.seed(self.random_state)\n",
    "\n",
    "    def __len__(self):\n",
    "        'Denotes the number of batches per epoch'\n",
    "        return int(np.floor(len(self.list_IDs) / self.batch_size))\n",
    "\n",
    "    def __getitem__(self, index):\n",
    "        'Generate one batch of data'\n",
    "        # Generate indexes of the batch\n",
    "        indexes = self.indexes[index*self.batch_size:(index+1)*self.batch_size]\n",
    "\n",
    "        # Find list of IDs\n",
    "        list_IDs_batch = [self.list_IDs[k] for k in indexes]\n",
    "        \n",
    "        X = self.__generate_X(list_IDs_batch)\n",
    "        \n",
    "        if self.mode == 'fit':\n",
    "            y = self.__generate_y(list_IDs_batch)\n",
    "            \n",
    "            if self.augment:\n",
    "                X, y = self.__augment_batch(X, y)\n",
    "            \n",
    "            return X, y\n",
    "        \n",
    "        elif self.mode == 'predict':\n",
    "            return X\n",
    "\n",
    "        else:\n",
    "            raise AttributeError('The mode parameter should be set to \"fit\" or \"predict\".')\n",
    "        \n",
    "    def on_epoch_end(self):\n",
    "        'Updates indexes after each epoch'\n",
    "        self.indexes = np.arange(len(self.list_IDs))\n",
    "        if self.shuffle == True:\n",
    "            np.random.seed(self.random_state)\n",
    "            np.random.shuffle(self.indexes)\n",
    "    \n",
    "    def __generate_X(self, list_IDs_batch):\n",
    "        'Generates data containing batch_size samples'\n",
    "        # Initialization\n",
    "        if self.reshape is None:\n",
    "            X = np.empty((self.batch_size, *self.dim, self.n_channels))\n",
    "        else:\n",
    "            X = np.empty((self.batch_size, *self.reshape, self.n_channels))\n",
    "        \n",
    "        # Generate data\n",
    "        for i, ID in enumerate(list_IDs_batch):\n",
    "            im_name = self.df['ImageId'].iloc[ID]\n",
    "            img_path = f\"{self.base_path}/{im_name}\"\n",
    "            img = cv2.imread(img_path)\n",
    "            img = cv2.cvtColor(img, cv2.COLOR_BGR2RGB)\n",
    "            img = img.astype(np.float32) / 255.\n",
    "            \n",
    "            if self.reshape is not None:\n",
    "                img = np_resize(img, self.reshape).astype(np.float32)\n",
    "                \n",
    "            \n",
    "            # Store samples\n",
    "            X[i,] = img.astype(np.float32)\n",
    "\n",
    "        return X\n",
    "    \n",
    "    def __generate_y(self, list_IDs_batch):\n",
    "        if self.reshape is None:\n",
    "            y = np.empty((self.batch_size, *self.dim, self.n_classes))\n",
    "        else:\n",
    "            y = np.empty((self.batch_size, *self.reshape, self.n_classes))\n",
    "        \n",
    "        for i, ID in enumerate(list_IDs_batch):\n",
    "            im_name = self.df['ImageId'].iloc[ID]\n",
    "            image_df = self.target_df[self.target_df['ImageId'] == im_name]\n",
    "            \n",
    "            rles = image_df['EncodedPixels'].values\n",
    "            \n",
    "            if self.reshape is not None:\n",
    "                masks = build_masks(rles, input_shape=self.dim, reshape=self.reshape)\n",
    "            else:\n",
    "                masks = build_masks(rles, input_shape=self.dim)\n",
    "            \n",
    "            y[i, ] = masks.astype(np.float32)\n",
    "\n",
    "        return y\n",
    "    \n",
    "    \n",
    "    def __load_rgb(self, img_path):\n",
    "        img = cv2.imread(img_path)\n",
    "        img = cv2.cvtColor(img, cv2.COLOR_BGR2RGB)\n",
    "        img = img.astype(np.float32) / 255.\n",
    "\n",
    "        return img\n",
    "    \n",
    "    def __random_transform(self, img, masks):\n",
    "        composition = albu.Compose([\n",
    "            albu.HorizontalFlip(p=0.5),\n",
    "            albu.VerticalFlip(p=0.5),\n",
    "            # albu.RandomRotate90(p=1),\n",
    "            # albu.RandomBrightness(),\n",
    "            #albu.ElasticTransform(p=1,alpha=120,sigma=120*0.05,alpha_affine=120*0.03),\n",
    "            albu.GridDistortion(p=0.5)])\n",
    "            #albu.OpticalDistortion(p=1, distort_limit=2, shift_limit=0.5),\n",
    "            #albu.ShiftScaleRotate(scale_limit=0.5,rotate_limit=30, shift_limit=0.1, p=1, border_mode=0)])\n",
    "        \n",
    "        composed = composition(image=img, mask=masks)\n",
    "        aug_img = composed['image']\n",
    "        aug_masks = composed['mask']\n",
    "        \n",
    "        return aug_img, aug_masks\n",
    "    \n",
    "    def __augment_batch(self, img_batch, masks_batch):\n",
    "        for i in range(img_batch.shape[0]):\n",
    "            img_batch[i, ], masks_batch[i, ] = self.__random_transform(\n",
    "                img_batch[i, ], masks_batch[i, ])\n",
    "        \n",
    "        return img_batch, masks_batch\n",
    "    \n",
    "    def get_labels(self):\n",
    "        if self.shuffle:\n",
    "            images_current = self.list_IDs[:self.len * self.batch_size]\n",
    "            labels = [img_to_ohe_vector[img] for img in images_current]\n",
    "        else:\n",
    "            labels = self.labels\n",
    "        return np.array(labels)"
   ]
  },
  {
   "cell_type": "markdown",
   "metadata": {
    "id": "Zw-t4LdnVsPv"
   },
   "source": [
    "Generator instances"
   ]
  },
  {
   "cell_type": "code",
   "execution_count": 27,
   "metadata": {
    "executionInfo": {
     "elapsed": 1,
     "status": "ok",
     "timestamp": 1671176791497,
     "user": {
      "displayName": "유도현",
      "userId": "00783759444100379662"
     },
     "user_tz": -540
    },
    "id": "jW954M4SVsPv"
   },
   "outputs": [],
   "source": [
    "BATCH_SIZE = 16\n",
    "EPOCHS = 50\n",
    "LEARNING_RATE = 0.0005  # 이거 튜닝하는게 제일 중요.\n",
    "HEIGHT = 384\n",
    "WIDTH = 576\n",
    "IMG_SIZE = (HEIGHT, WIDTH)\n",
    "CHANNELS = 3\n",
    "ES_PATIENCE = 3\n",
    "RLROP_PATIENCE = 2\n",
    "DECAY_DROP = 0.5\n",
    "N_CLASSES = train_df['Label'].nunique()\n"
   ]
  },
  {
   "cell_type": "code",
   "execution_count": 28,
   "metadata": {
    "executionInfo": {
     "elapsed": 1,
     "status": "ok",
     "timestamp": 1671176794509,
     "user": {
      "displayName": "유도현",
      "userId": "00783759444100379662"
     },
     "user_tz": -540
    },
    "id": "eKnZrNVnVsPv"
   },
   "outputs": [],
   "source": [
    "train_generator = DataGenerator(train_idx, \n",
    "                                df=mask_count_df, \n",
    "                                target_df=train_df, \n",
    "                                batch_size=BATCH_SIZE,\n",
    "                                reshape=(HEIGHT, WIDTH),\n",
    "                                augment=True,\n",
    "                                graystyle=False,\n",
    "                                shuffle = True,\n",
    "                                n_channels=CHANNELS,\n",
    "                                n_classes=N_CLASSES)\n",
    "\n",
    "train_eval_generator = DataGenerator(train_idx, \n",
    "                              df=mask_count_df, \n",
    "                              target_df=train_df, \n",
    "                              batch_size=BATCH_SIZE, \n",
    "                              reshape=(HEIGHT, WIDTH),\n",
    "                              augment=False,\n",
    "                              graystyle=False,\n",
    "                              shuffle = False,\n",
    "                              n_channels=CHANNELS,\n",
    "                              n_classes=N_CLASSES)\n",
    "\n",
    "val_generator = DataGenerator(val_idx, \n",
    "                              df=mask_count_df, \n",
    "                              target_df=train_df, \n",
    "                              batch_size=BATCH_SIZE, \n",
    "                              reshape=(HEIGHT, WIDTH),\n",
    "                              augment=False,\n",
    "                              graystyle=False,\n",
    "                              shuffle = False,\n",
    "                              n_channels=CHANNELS,\n",
    "                              n_classes=N_CLASSES)\n"
   ]
  },
  {
   "cell_type": "markdown",
   "metadata": {
    "id": "QDPPrDQIVsPw",
    "tags": []
   },
   "source": [
    "## Model Architecture"
   ]
  },
  {
   "cell_type": "markdown",
   "metadata": {
    "id": "qLNn9dna0ISn",
    "jp-MarkdownHeadingCollapsed": true,
    "tags": []
   },
   "source": [
    "### HRNet"
   ]
  },
  {
   "cell_type": "code",
   "execution_count": null,
   "metadata": {
    "executionInfo": {
     "elapsed": 348,
     "status": "ok",
     "timestamp": 1671176802758,
     "user": {
      "displayName": "유도현",
      "userId": "00783759444100379662"
     },
     "user_tz": -540
    },
    "id": "bv0OL2mkIkZe"
   },
   "outputs": [],
   "source": [
    "import tensorflow as tf\n",
    "import numpy as np\n",
    "\n",
    "def hr_basic_block(x, n_feature, stride_size = (1, 1), shortcut = False, **kwargs):\n",
    "    out = tf.keras.layers.Conv2D(n_feature, 3, strides = stride_size, padding = \"same\", use_bias = False, kernel_initializer = \"he_normal\", bias_initializer = \"zeros\")(x)\n",
    "    out = tf.keras.layers.BatchNormalization(axis = -1, momentum = 0.9, epsilon = 1e-5)(out)\n",
    "    out = tf.keras.layers.Activation(tf.keras.activations.relu)(out)\n",
    "    out = tf.keras.layers.Conv2D(n_feature, 3, padding = \"same\", use_bias = False, kernel_initializer = \"he_normal\", bias_initializer = \"zeros\")(out)\n",
    "    out = tf.keras.layers.BatchNormalization(axis = -1, momentum = 0.9, epsilon = 1e-5)(out)\n",
    "    \n",
    "    if shortcut:\n",
    "        x = tf.keras.layers.Conv2D(n_feature, 1, strides = stride_size, use_bias = False, kernel_initializer = \"he_normal\", bias_initializer = \"zeros\")(x)\n",
    "        x = tf.keras.layers.BatchNormalization(axis = -1, momentum = 0.9, epsilon = 1e-5)(x)\n",
    "        out = tf.keras.layers.Add()([out, x])\n",
    "    else:\n",
    "        out = tf.keras.layers.Add()([out, x])\n",
    "    \n",
    "    out = tf.keras.layers.Activation(tf.keras.activations.relu)(out)\n",
    "    return out\n",
    "\n",
    "def hr_bottleneck_block(x, n_feature, stride_size = (1, 1), shortcut = False, expansion = 4, **kwargs):\n",
    "    n_decode_filter = n_feature // expansion\n",
    "    out = tf.keras.layers.Conv2D(n_decode_filter, 1, use_bias = False, kernel_initializer = \"he_normal\", bias_initializer = \"zeros\")(x)\n",
    "    out = tf.keras.layers.BatchNormalization(axis = -1, momentum = 0.9, epsilon = 1e-5)(out)\n",
    "    out = tf.keras.layers.Activation(tf.keras.activations.relu)(out)\n",
    "    out = tf.keras.layers.Conv2D(n_decode_filter, 3, strides = stride_size, padding = \"same\", use_bias = False, kernel_initializer = \"he_normal\", bias_initializer = \"zeros\")(out)\n",
    "    out = tf.keras.layers.BatchNormalization(axis = -1, momentum = 0.9, epsilon = 1e-5)(out)\n",
    "    out = tf.keras.layers.Activation(tf.keras.activations.relu)(out)\n",
    "    out = tf.keras.layers.Conv2D(n_feature, 1, use_bias = False, kernel_initializer = \"he_normal\", bias_initializer = \"zeros\")(out)\n",
    "    out = tf.keras.layers.BatchNormalization(axis = -1, momentum = 0.9, epsilon = 1e-5)(out)\n",
    "   \n",
    "    if shortcut:\n",
    "        x = tf.keras.layers.Conv2D(n_feature, 1, strides = stride_size, use_bias = False, kernel_initializer = \"he_normal\", bias_initializer = \"zeros\")(x)\n",
    "        x = tf.keras.layers.BatchNormalization(axis = -1, momentum = 0.9, epsilon = 1e-5)(x)\n",
    "        out = tf.keras.layers.Add()([out, x])\n",
    "    else:\n",
    "        out = tf.keras.layers.Add()([out, x])\n",
    "    \n",
    "    out = tf.keras.layers.Activation(tf.keras.activations.relu)(out)\n",
    "    return out\n",
    "\n",
    "def hr_transition_block(x, n_feature, **kwargs):\n",
    "    if not isinstance(x, list):\n",
    "        x = [x]\n",
    "    if isinstance(n_feature, int):\n",
    "        n_feature = [n_feature * (2 ** pow) for pow in range(len(x) + 1)]\n",
    "\n",
    "    out = []\n",
    "    for index, _n_feature in enumerate(n_feature):\n",
    "        if (index + 1) == len(n_feature):\n",
    "            feature = x[index - 1]\n",
    "            stride_size = (2, 2)\n",
    "        else:\n",
    "            feature = x[index]\n",
    "            stride_size = (1, 1)\n",
    "        o = tf.keras.layers.Conv2D(_n_feature, 3, strides = stride_size, padding = \"same\", use_bias = False, kernel_initializer = \"he_normal\", bias_initializer = \"zeros\")(feature)\n",
    "        o = tf.keras.layers.BatchNormalization(axis = -1, momentum = 0.9, epsilon = 1e-5)(o)\n",
    "        o = tf.keras.layers.Activation(tf.keras.activations.relu)(o)\n",
    "        out.append(o)\n",
    "    return out\n",
    "\n",
    "def hr_module(x, n_branch = 4, shortcut = False, **kwargs):\n",
    "    if not isinstance(x, list):\n",
    "        x = [x]\n",
    "    n_feature = [tf.keras.backend.int_shape(_x)[-1] for _x in x]\n",
    "\n",
    "    out = list(x)\n",
    "    # branch\n",
    "    for _ in range(n_branch):\n",
    "        for index, _n_feature in enumerate(n_feature):\n",
    "            out[index] = hr_basic_block(out[index], _n_feature, shortcut = shortcut, **kwargs)\n",
    "\n",
    "    # fuse\n",
    "    outs = []\n",
    "    for index, _n_feature in enumerate(n_feature):\n",
    "        _out = []\n",
    "        for seq, o in enumerate(out):\n",
    "            if seq < index:\n",
    "                for k in range(index - seq):\n",
    "                    o = tf.keras.layers.Conv2D(_n_feature, 3, strides = 2, padding = \"same\", use_bias = False, kernel_initializer = \"he_normal\", bias_initializer = \"zeros\")(o)\n",
    "                    o = tf.keras.layers.BatchNormalization(axis = -1, momentum = 0.9, epsilon = 1e-5)(o)\n",
    "                    if k != (index - seq - 1):\n",
    "                        o = tf.keras.layers.Activation(tf.keras.activations.relu)(o)\n",
    "            elif seq == index:\n",
    "                pass\n",
    "            else: #index < seq\n",
    "                o = tf.keras.layers.Conv2D(_n_feature, 1, use_bias = False, kernel_initializer = \"he_normal\", bias_initializer = \"zeros\")(o)\n",
    "                o = tf.keras.layers.BatchNormalization(axis = -1, momentum = 0.9, epsilon = 1e-5)(o)\n",
    "                upsample_size = [2 ** (seq - index)] * 2\n",
    "                o = tf.keras.layers.UpSampling2D(upsample_size, interpolation = \"bilinear\")(o)\n",
    "            _out.append(o)\n",
    "        _out = tf.keras.layers.Add()(_out)\n",
    "        _out = tf.keras.layers.Activation(tf.keras.activations.relu)(_out)\n",
    "        outs.append(_out)\n",
    "    return outs\n",
    "\n",
    "def object_attention_context(feature, prob, scale = 1):\n",
    "    feature = tf.keras.layers.Reshape([-1, tf.keras.backend.int_shape(feature)[-1]])(feature)\n",
    "    feature = tf.keras.layers.Permute([2, 1])(feature)\n",
    "    prob = tf.keras.layers.Reshape([-1, tf.keras.backend.int_shape(prob)[-1]])(prob)\n",
    "    prob = tf.keras.activations.softmax(prob * scale, axis = -2)\n",
    "    context = tf.keras.layers.Dot([2, 1])([feature, prob]) #batch x featrue ch x prob ch\n",
    "    context = tf.keras.backend.expand_dims(context, axis = -2) #batch x featrue ch x 1 x prob ch\n",
    "    return context\n",
    "\n",
    "def object_attention(feature, prob, n_feature = 256, scale = 1, **kwargs):\n",
    "    if 1 < scale:\n",
    "        feature = tf.keras.layers.MaxPooling2D((scale, scale), padding = \"same\")(feature)\n",
    "    proxy_context = object_attention_context(feature, prob, scale)\n",
    "\n",
    "    query = tf.keras.layers.Conv2D(n_feature, 1, use_bias = False, kernel_initializer = \"he_normal\", bias_initializer = \"zeros\")(feature)\n",
    "    query = tf.keras.layers.BatchNormalization(axis = -1, momentum = 0.9, epsilon = 1e-5)(query)\n",
    "    query = tf.keras.layers.Activation(tf.keras.activations.relu)(query)\n",
    "    query = tf.keras.layers.Conv2D(n_feature, 1, use_bias = False, kernel_initializer = \"he_normal\", bias_initializer = \"zeros\")(query)\n",
    "    query = tf.keras.layers.BatchNormalization(axis = -1, momentum = 0.9, epsilon = 1e-5)(query)\n",
    "    query = tf.keras.layers.Activation(tf.keras.activations.relu)(query)\n",
    "    query = tf.keras.layers.Reshape([-1, tf.keras.backend.int_shape(query)[-1]])(query)\n",
    "\n",
    "    key = tf.keras.layers.Conv2D(n_feature, 1, use_bias = False, kernel_initializer = \"he_normal\", bias_initializer = \"zeros\")(proxy_context)\n",
    "    key = tf.keras.layers.BatchNormalization(axis = -1, momentum = 0.9, epsilon = 1e-5)(key)\n",
    "    key = tf.keras.layers.Activation(tf.keras.activations.relu)(key)\n",
    "    key = tf.keras.layers.Conv2D(n_feature, 1, use_bias = False, kernel_initializer = \"he_normal\", bias_initializer = \"zeros\")(key)\n",
    "    key = tf.keras.layers.BatchNormalization(axis = -1, momentum = 0.9, epsilon = 1e-5)(key)\n",
    "    key = tf.keras.layers.Activation(tf.keras.activations.relu)(key)\n",
    "    key = tf.keras.layers.Reshape([-1, tf.keras.backend.int_shape(key)[-1]])(key)\n",
    "    key = tf.keras.layers.Permute([2, 1])(key)\n",
    "\n",
    "    value = tf.keras.layers.Conv2D(n_feature, 1, use_bias = False, kernel_initializer = \"he_normal\", bias_initializer = \"zeros\")(proxy_context)\n",
    "    value = tf.keras.layers.BatchNormalization(axis = -1, momentum = 0.9, epsilon = 1e-5)(value)\n",
    "    value = tf.keras.layers.Activation(tf.keras.activations.relu)(value)\n",
    "    value = tf.keras.layers.Reshape([-1, tf.keras.backend.int_shape(value)[-1]])(value)\n",
    "\n",
    "    sim = tf.keras.layers.Dot([2, 1])([query, key])\n",
    "    sim = sim * (n_feature ** -0.5)\n",
    "    sim = tf.keras.activations.softmax(sim)\n",
    "\n",
    "    context = tf.keras.layers.Dot([2, 1])([sim, value])\n",
    "    context = tf.keras.layers.Reshape(tf.keras.backend.int_shape(feature)[-3:-1] + (n_feature,))(context)\n",
    "    context = tf.keras.layers.Conv2D(tf.keras.backend.int_shape(feature)[-1], 1, use_bias = False, kernel_initializer = \"he_normal\", bias_initializer = \"zeros\")(context)\n",
    "    context = tf.keras.layers.BatchNormalization(axis = -1, momentum = 0.9, epsilon = 1e-5)(context)\n",
    "    context = tf.keras.layers.Activation(tf.keras.activations.relu)(context)\n",
    "    \n",
    "    if 1 < scale:\n",
    "        context = tf.keras.layers.UpSampling2D((scale, scale))(context)\n",
    "    return context\n",
    "\n",
    "def ocr_module(feature, prob, n_feature = 512, n_attention_feature = 256, dropout_rate = 0.05, scale = 1, **kwargs):\n",
    "    context = object_attention(feature, prob, n_attention_feature, scale, **kwargs)\n",
    "    out = tf.keras.layers.Concatenate(axis = -1)([feature, context])\n",
    "    out = tf.keras.layers.Conv2D(n_feature, 1, use_bias = False, kernel_initializer = \"he_normal\", bias_initializer = \"zeros\")(out)\n",
    "    out = tf.keras.layers.BatchNormalization(axis = -1, momentum = 0.9, epsilon = 1e-5)(out)\n",
    "    out = tf.keras.layers.Activation(tf.keras.activations.relu)(out)\n",
    "    out = tf.keras.layers.Dropout(dropout_rate)(out)\n",
    "    return out\n",
    "\n",
    "def hrnet_v2(x, n_class = 35, include_top = True, n_channel = 48, n_module = [1, 4, 3], n_branch = [2, 3, 4], stage1_channel = 64, stage1_module = 1, ocr_feature_channel = 512, ocr_attention_channel = 256, ocr_dropout_rate = 0.05, ocr_scale = 1, mode = \"ocr\", **kwargs):\n",
    "    if mode not in (\"seg\", \"clsf\", \"ocr\"):\n",
    "        raise ValueError(\"unknown mode '{0}'\".format(mode))\n",
    "    if isinstance(n_channel, int):\n",
    "        n_channel = [n_channel * (2 ** pow) for pow in range(4)]\n",
    "    if isinstance(n_module, int):\n",
    "        n_module = [n_module] * 3\n",
    "    if isinstance(n_branch, int):\n",
    "        n_branch = [n_branch] * 3\n",
    "\n",
    "    if not isinstance(x, list):\n",
    "        #Stem\n",
    "        out = tf.keras.layers.Conv2D(64, 3, strides = 2, padding = \"same\", use_bias = False, kernel_initializer = \"he_normal\", bias_initializer = \"zeros\")(x)\n",
    "        out = tf.keras.layers.BatchNormalization(axis = -1, momentum = 0.9, epsilon = 1e-5)(out)\n",
    "        out = tf.keras.layers.Activation(tf.keras.activations.relu)(out)\n",
    "        out = tf.keras.layers.Conv2D(64, 3, strides = 2, padding = \"same\", use_bias = False, kernel_initializer = \"he_normal\", bias_initializer = \"zeros\")(out)\n",
    "        out = tf.keras.layers.BatchNormalization(axis = -1, momentum = 0.9, epsilon = 1e-5)(out)\n",
    "        out = tf.keras.layers.Activation(tf.keras.activations.relu)(out)\n",
    "        \n",
    "        #Stage1\n",
    "        out = hr_bottleneck_block(out, stage1_channel, shortcut = True, **kwargs)\n",
    "        for _ in range(1, stage1_module):\n",
    "            out = hr_bottleneck_block(out, stage1_channel, **kwargs)\n",
    "    else:\n",
    "        x = list(x)\n",
    "        shape = tf.keras.backend.int_shape(x[0])[-3:-1]\n",
    "        for index in range(len(x)):\n",
    "            o = tf.keras.layers.Conv2D(n_channel[index], 3, padding = \"same\", use_bias = False, kernel_initializer = \"he_normal\", bias_initializer = \"zeros\")(x[index])\n",
    "            o = tf.keras.layers.BatchNormalization(axis = -1, momentum = 0.9, epsilon = 1e-5)(o)\n",
    "            o = tf.keras.layers.Activation(tf.keras.activations.relu)(o)\n",
    "            if 0 < index:\n",
    "                target_size = np.divide(shape, 2 ** index).astype(np.int32)\n",
    "                o = tf.image.resize(o, target_size, method = \"bilinear\")\n",
    "            x[index] = o\n",
    "\n",
    "    #Stage2: transition -> branch -> fuse x2\n",
    "    # transition\n",
    "    if not isinstance(x, list):\n",
    "        out = hr_transition_block(out, n_channel[:2], **kwargs)\n",
    "    else:\n",
    "        out = x[:2]\n",
    "    # branch & fuse\n",
    "    for _ in range(n_module[0]):\n",
    "        out = hr_module(out, n_branch = n_branch[0], shortcut = False, **kwargs)\n",
    "\n",
    "    #Stage3: transition -> branch -> fuse x3\n",
    "    # transition\n",
    "    if not isinstance(x, list):\n",
    "        out = hr_transition_block(out, n_channel[:3], **kwargs)\n",
    "    else:\n",
    "        out = out + x[2:3]\n",
    "    # branch & fuse\n",
    "    for _ in range(n_module[1]):\n",
    "        out = hr_module(out, n_branch = n_branch[1], shortcut = False, **kwargs)\n",
    "\n",
    "    #Stage4: transition -> branch -> fuse x4\n",
    "    # transition\n",
    "    if not isinstance(x, list):\n",
    "        out = hr_transition_block(out, n_channel[:4], **kwargs)\n",
    "    else:\n",
    "        out = out + x[3:4]\n",
    "    # branch & fuse\n",
    "    for _ in range(n_module[2]):\n",
    "        out = hr_module(out, n_branch = n_branch[2], shortcut = False, **kwargs)\n",
    "\n",
    "    if mode != \"clsf\":\n",
    "        #Concatenate\n",
    "        for index in range(1, len(out)):\n",
    "            upsample_size = np.divide(tf.keras.backend.int_shape(out[0])[-3:-1], tf.keras.backend.int_shape(out[index])[-3:-1]).astype(np.int32)\n",
    "            out[index] = tf.keras.layers.UpSampling2D(upsample_size, interpolation = \"bilinear\")(out[index])\n",
    "        out = tf.keras.layers.Concatenate(axis = -1)(out)\n",
    "    else:\n",
    "        #Add\n",
    "        o = hr_bottleneck_block(out[0], tf.keras.backend.int_shape(out[0])[-1], **kwargs)\n",
    "        for _o in out[1:]:\n",
    "            ch = tf.keras.backend.int_shape(_o)[-1]\n",
    "            _o = hr_bottleneck_block(_o, ch, **kwargs)\n",
    "            o = tf.keras.layers.Conv2D(ch, 3, strides = 2, padding = \"same\", use_bias = False, kernel_initializer = \"he_normal\", bias_initializer = \"zeros\")(o)\n",
    "            o = tf.keras.layers.BatchNormalization(axis = -1, momentum = 0.9, epsilon = 1e-5)(o)\n",
    "            o = tf.keras.layers.Activation(tf.keras.activations.relu)(o)\n",
    "            o = tf.keras.layers.Add()([o, _o])\n",
    "        out = o\n",
    "\n",
    "    if include_top:\n",
    "        if mode != \"clsf\":\n",
    "            out_aux = tf.keras.layers.Conv2D(tf.keras.backend.int_shape(out)[-1], 1, use_bias = True, kernel_initializer = \"he_normal\", bias_initializer = \"zeros\")(out)\n",
    "            out_aux = tf.keras.layers.BatchNormalization(axis = -1, momentum = 0.9, epsilon = 1e-5)(out_aux)\n",
    "            out_aux = tf.keras.layers.Activation(tf.keras.activations.relu)(out_aux)\n",
    "            out_aux = tf.keras.layers.Conv2D(n_class, 1, use_bias = True, kernel_initializer = \"he_normal\", name = \"logits\", **kwargs)(out_aux)\n",
    "            if mode == \"ocr\":\n",
    "                out = tf.keras.layers.Conv2D(ocr_feature_channel, 3, padding = \"same\", use_bias = False, kernel_initializer = \"he_normal\", bias_initializer = \"zeros\")(out)\n",
    "                out = tf.keras.layers.BatchNormalization(axis = -1, momentum = 0.9, epsilon = 1e-5)(out)\n",
    "                out = tf.keras.layers.Activation(tf.keras.activations.relu)(out)\n",
    "                out = ocr_module(out, out_aux, ocr_feature_channel, ocr_attention_channel, ocr_dropout_rate, ocr_scale, **kwargs)\n",
    "                out = tf.keras.layers.Conv2D(n_class, 1, use_bias = True, kernel_initializer = \"he_normal\", name = \"logits_ocr\", **kwargs)(out)\n",
    "            else:\n",
    "                out = out_aux\n",
    "        else:\n",
    "            out = tf.keras.layers.Conv2D(2048, 1, use_bias = False, kernel_initializer = \"he_normal\", bias_initializer = \"zeros\")(out)\n",
    "            out = tf.keras.layers.BatchNormalization(axis = -1, momentum = 0.9, epsilon = 1e-5)(out)\n",
    "            out = tf.keras.layers.Activation(tf.keras.activations.relu)(out)\n",
    "            out = tf.keras.layers.GlobalAveragePooling2D()(out)\n",
    "            out = tf.keras.layers.Dense(n_class, use_bias = True, name = \"logits\")(out)\n",
    "    return out\n",
    "\n",
    "def hrnet18_v2(x, n_class = 35, include_top = True, mode = \"ocr\"):\n",
    "    out = hrnet_v2(x, n_class, include_top, n_channel = [18, 36, 72, 144], n_module = [1, 4, 3], n_branch = [2, 3, 4], stage1_channel = 64, stage1_module = 1, ocr_feature_channel = 512, ocr_attention_channel = 256, ocr_dropout_rate = 0.05, ocr_scale = 1, mode = mode)\n",
    "    return out\n",
    "\n",
    "def hrnet32_v2(x, n_class = 35, include_top = True, mode = \"ocr\"):\n",
    "    out = hrnet_v2(x, n_class, include_top, n_channel = [32, 64, 128, 256], n_module = [1, 4, 3], n_branch = [2, 3, 4], stage1_channel = 64, stage1_module = 1, ocr_feature_channel = 512, ocr_attention_channel = 256, ocr_dropout_rate = 0.05, ocr_scale = 1, mode = mode)\n",
    "    return out\n",
    "\n",
    "def hrnet48_v2(x, n_class = 35, include_top = True, mode = \"ocr\"):\n",
    "    out = hrnet_v2(img_input, n_class, include_top, n_channel = [48, 94, 192, 384], n_module = [1, 4, 3], n_branch = [2, 3, 4], stage1_channel = 64, stage1_module = 1, ocr_feature_channel = 512, ocr_attention_channel = 256, ocr_dropout_rate = 0.05, ocr_scale = 1, mode = mode)\n",
    "    return out"
   ]
  },
  {
   "cell_type": "code",
   "execution_count": null,
   "metadata": {
    "id": "IxqaUpSPJF0S"
   },
   "outputs": [],
   "source": [
    "x = tf.keras.layers.Input(shape = (HEIGHT, WIDTH, 3))\n",
    "out = hrnet18_v2(x, n_class = 4, include_top = True, mode = \"seg\") #mode = seg > hrnet v2 + semantic segmentation, clsf > hrnet v2 + classifier, ocr > hrnet v2 + ocr + semantic segmentation\n",
    "out = tf.keras.layers.UpSampling2D((4, 4), interpolation = \"bilinear\")(out)\n",
    "model = tf.keras.Model(x, out)"
   ]
  },
  {
   "cell_type": "code",
   "execution_count": null,
   "metadata": {
    "id": "NFkwsAE_-rvG"
   },
   "outputs": [],
   "source": [
    "ACTIVATION = 'relu'\n",
    "KERNEL_SIZE = (3, 3)\n",
    "EPOCHS = 20\n",
    "kernel_orig = 64\n",
    "INPUT_SHAPE = (HEIGHT, WIDTH, 3)\n",
    "BATCH_NORMAL = [True, True, True, True, True, True, True, True, True, True, True, True, True, True, True, True, True, True] #하고싶은데를 True로 바꾸면 됨\n",
    "DROPOUT = [None, None, None, None, None, None, None, None, None, None, None, None, None, None, None, None, None, None] #하고싶은데에 p를 넣으면 됨. (드롭아웃 비율)"
   ]
  },
  {
   "cell_type": "code",
   "execution_count": null,
   "metadata": {
    "id": "oZiyglxFIBS1"
   },
   "outputs": [],
   "source": [
    "def unet_bn_relu(inputs,\n",
    "                 actf,\n",
    "                 batch_normal = [False, False, False, False, False, False, False, False, False, False, False, False, False, False, False, False, False, False],\n",
    "                 dropout = [None, None, None, None, None, None, None, None, None, None, None, None, None, None, None, None, None, None]):\n",
    "    \n",
    "    c11 = Conv2D(kernel_orig, KERNEL_SIZE, activation=None, padding='same')(inputs)\n",
    "    if batch_normal[0] is True:\n",
    "        c11 = BatchNormalization()(c11)\n",
    "    c11 = Activation(actf)(c11)\n",
    "    if dropout[0] is not None:\n",
    "        c11 = Dropout(dropout[0])(c11)\n",
    "    c12 = Conv2D(kernel_orig, KERNEL_SIZE, activation=None, padding='same')(c11)\n",
    "    if batch_normal[1] is True:\n",
    "        c12 = BatchNormalization()(c12)\n",
    "    c12 = Activation(actf)(c12)\n",
    "    if dropout[1] is not None:\n",
    "        c12 = Dropout(dropout[1])(c12)\n",
    "    p1 = MaxPooling2D((2, 2), strides=2)(c12)\n",
    "\n",
    "    c21 = Conv2D(kernel_orig*2, KERNEL_SIZE, activation=None, padding='same')(p1)\n",
    "    if batch_normal[2] is True:\n",
    "        c21 = BatchNormalization()(c21)\n",
    "    c21 = Activation(actf)(c21)\n",
    "    if dropout[2] is not None:\n",
    "        c21 = Dropout(dropout[2])(c21)\n",
    "    c22 = Conv2D(kernel_orig*2, KERNEL_SIZE, activation=None, padding='same')(c21)\n",
    "    if batch_normal[3] is True:\n",
    "        c22 = BatchNormalization()(c22)\n",
    "    c22 = Activation(actf)(c22)\n",
    "    if dropout[3] is not None:\n",
    "        c22 = Dropout(dropout[3])(c22)\n",
    "    p2 = MaxPooling2D((2, 2), strides=2)(c22)\n",
    "\n",
    "    c31 = Conv2D(kernel_orig*4, KERNEL_SIZE, activation=None, padding='same')(p2)\n",
    "    if batch_normal[4] is True:\n",
    "        c31 = BatchNormalization()(c31)\n",
    "    c31 = Activation(actf)(c31)\n",
    "    if dropout[4] is not None:\n",
    "        c31 = Dropout(dropout[4])(c31)\n",
    "    c32 = Conv2D(kernel_orig*4, KERNEL_SIZE, activation=None, padding='same')(c31)\n",
    "    if batch_normal[5] is True:\n",
    "        c32 = BatchNormalization()(c32)\n",
    "    c32 = Activation(actf)(c32)\n",
    "    if dropout[5] is not None:\n",
    "        c32 = Dropout(dropout[5])(c32)\n",
    "    p3 = MaxPooling2D((2, 2), strides=2)(c32)\n",
    "\n",
    "    c41 = Conv2D(kernel_orig*8, KERNEL_SIZE, activation=None, padding='same')(p3)\n",
    "    if batch_normal[6] is True:\n",
    "        c41 = BatchNormalization()(c41)\n",
    "    c41 = Activation(actf)(c41)\n",
    "    if dropout[6] is not None:\n",
    "        c41 = Dropout(dropout[6])(c41)\n",
    "    c42 = Conv2D(kernel_orig*8, KERNEL_SIZE, activation=None, padding='same')(c41)\n",
    "    if batch_normal[7] is True:\n",
    "        c42 = BatchNormalization()(c42)    \n",
    "    c42 = Activation(actf)(c42)\n",
    "    if dropout[7] is not None:\n",
    "        c42 = Dropout(dropout[7])(c42)\n",
    "    p4 = MaxPooling2D((2, 2), strides=2)(c42)\n",
    "\n",
    "    c51 = Conv2D(kernel_orig*16, KERNEL_SIZE, activation=None, padding='same')(p4)\n",
    "    if batch_normal[8] is True:\n",
    "        c51 = BatchNormalization()(c51)\n",
    "    c51 = Activation(actf)(c51)\n",
    "    if dropout[8] is not None:\n",
    "        c51 = Dropout(dropout[8])(c51)\n",
    "    c52 = Conv2D(kernel_orig*16, KERNEL_SIZE, activation=None, padding='same')(c51)\n",
    "    if batch_normal[9] is True:\n",
    "        c52 = BatchNormalization()(c52)\n",
    "    c52 = Activation(actf)(c52)\n",
    "    if dropout[9] is not None:\n",
    "        c52 = Dropout(dropout[9])(c52)\n",
    "\n",
    "    u6 = Conv2DTranspose(kernel_orig*8, (2, 2), strides=(2, 2))(c52)\n",
    "    u6 = Concatenate()([u6, c42])\n",
    "    c61 = Conv2D(kernel_orig*8, KERNEL_SIZE, activation=None, padding='same')(u6)\n",
    "    if batch_normal[10] is True:\n",
    "        c61 = BatchNormalization()(c61)\n",
    "    c61 = Activation(actf)(c61)\n",
    "    if dropout[10] is not None:\n",
    "        c61 = Dropout(dropout[10])(c61)\n",
    "    c62 = Conv2D(kernel_orig*8, KERNEL_SIZE, activation=None, padding='same')(c61)\n",
    "    if batch_normal[11] is True:\n",
    "        c62 = BatchNormalization()(c62)\n",
    "    c62 = Activation(actf)(c62)\n",
    "    if dropout[11] is not None:\n",
    "        c62 = Dropout(dropout[11])(c62)\n",
    "\n",
    "    u7 = Conv2DTranspose(kernel_orig*4, (2, 2), strides=(2, 2))(c62)\n",
    "    u7 = Concatenate()([u7, c32])\n",
    "    c71 = Conv2D(kernel_orig*4, KERNEL_SIZE, activation=None, padding='same')(u7)\n",
    "    if batch_normal[12] is True:\n",
    "        c71 = BatchNormalization()(c71)\n",
    "    c71 = Activation(actf)(c71)\n",
    "    if dropout[12] is not None:\n",
    "        c71 = Dropout(dropout[12])(c71)\n",
    "    c72 = Conv2D(kernel_orig*4, KERNEL_SIZE, activation=None, padding='same')(c71)\n",
    "    if batch_normal[13] is True:\n",
    "        c72 = BatchNormalization()(c72)\n",
    "    c72 = Activation(actf)(c72)\n",
    "    if dropout[13] is not None:\n",
    "        c72 = Dropout(dropout[13])(c72)\n",
    "\n",
    "    u8 = Conv2DTranspose(16, (2, 2), strides=(2, 2))(c72)\n",
    "    u8 = Concatenate()([u8, c22])\n",
    "    c81 = Conv2D(kernel_orig*2, KERNEL_SIZE, activation=None, padding='same')(u8)\n",
    "    if batch_normal[14] is True:\n",
    "        c81 = BatchNormalization()(c81)\n",
    "    c81 = Activation(actf)(c81)\n",
    "    if dropout[14] is not None:\n",
    "        c81 = Dropout(dropout[14])(c81)\n",
    "    c82 = Conv2D(kernel_orig*2, KERNEL_SIZE, activation=None, padding='same')(c81)\n",
    "    c82 = BatchNormalization()(c82)\n",
    "    if batch_normal[15] is True:\n",
    "        c82 = BatchNormalization()(c82)\n",
    "    c82 = Activation(actf)(c82)\n",
    "    if dropout[15] is not None:\n",
    "        c82 = Dropout(dropout[15])(c82)\n",
    "\n",
    "    u9 = Conv2DTranspose(kernel_orig, (2, 2), strides=(2, 2))(c82)\n",
    "    u9 = Concatenate()([u9, c12])\n",
    "    c91 = Conv2D(kernel_orig, KERNEL_SIZE, activation=None, padding='same')(u9)\n",
    "    if batch_normal[16] is True:\n",
    "        c91 = BatchNormalization()(c91)\n",
    "    c91 = Activation(actf)(c91)\n",
    "    if dropout[16] is not None:\n",
    "        c91 = Dropout(dropout[16])(c91)\n",
    "    c92 = Conv2D(kernel_orig, KERNEL_SIZE, activation=None, padding='same')(c91)\n",
    "    if batch_normal[17] is True:\n",
    "        c92 = BatchNormalization()(c92)\n",
    "    c92 = Activation(actf)(c92)\n",
    "    if dropout[17] is not None:\n",
    "        c92 = Dropout(dropout[17])(c92)\n",
    "\n",
    "\n",
    "    outputs = Conv2D(4, (1, 1), activation=None) (c92)\n",
    "    \n",
    "    return outputs"
   ]
  },
  {
   "cell_type": "code",
   "execution_count": null,
   "metadata": {
    "colab": {
     "base_uri": "https://localhost:8080/"
    },
    "executionInfo": {
     "elapsed": 1134,
     "status": "ok",
     "timestamp": 1670049925232,
     "user": {
      "displayName": "유도현",
      "userId": "00783759444100379662"
     },
     "user_tz": -540
    },
    "id": "SucNla9LidyS",
    "outputId": "90bd2a74-7078-4037-d0d5-20266724b840"
   },
   "outputs": [],
   "source": [
    "model = unet_bn_relu(input_shape=(HEIGHT, WIDTH, 3), actf = ACTIVATION, batch_normal = BATCH_NORMAL, dropout = DROPOUT)\n",
    "model.summary()"
   ]
  },
  {
   "cell_type": "markdown",
   "metadata": {
    "id": "6XZfN--6Lt0C",
    "jp-MarkdownHeadingCollapsed": true,
    "tags": []
   },
   "source": [
    "### U-Net (with pretrained backbone)"
   ]
  },
  {
   "cell_type": "code",
   "execution_count": 21,
   "metadata": {
    "id": "LZusFiFaOaff"
   },
   "outputs": [],
   "source": [
    "SM_FRAMEWORK=tf.keras"
   ]
  },
  {
   "cell_type": "code",
   "execution_count": 29,
   "metadata": {
    "colab": {
     "base_uri": "https://localhost:8080/"
    },
    "executionInfo": {
     "elapsed": 5613,
     "status": "ok",
     "timestamp": 1671180905969,
     "user": {
      "displayName": "유도현",
      "userId": "00783759444100379662"
     },
     "user_tz": -540
    },
    "id": "qW6ib24AL28H",
    "outputId": "5813516f-0186-437c-b4ac-7d06bf4dfd5a"
   },
   "outputs": [
    {
     "name": "stdout",
     "output_type": "stream",
     "text": [
      "Requirement already satisfied: segmentation_models in /usr/local/lib/python3.8/dist-packages (1.0.1)\n",
      "Requirement already satisfied: image-classifiers==1.0.0 in /usr/local/lib/python3.8/dist-packages (from segmentation_models) (1.0.0)\n",
      "Requirement already satisfied: keras-applications<=1.0.8,>=1.0.7 in /usr/local/lib/python3.8/dist-packages (from segmentation_models) (1.0.8)\n",
      "Requirement already satisfied: efficientnet==1.0.0 in /usr/local/lib/python3.8/dist-packages (from segmentation_models) (1.0.0)\n",
      "Requirement already satisfied: scikit-image in /usr/local/lib/python3.8/dist-packages (from efficientnet==1.0.0->segmentation_models) (0.19.3)\n",
      "Requirement already satisfied: h5py in /usr/local/lib/python3.8/dist-packages (from keras-applications<=1.0.8,>=1.0.7->segmentation_models) (3.7.0)\n",
      "Requirement already satisfied: numpy>=1.9.1 in /usr/local/lib/python3.8/dist-packages (from keras-applications<=1.0.8,>=1.0.7->segmentation_models) (1.23.2)\n",
      "Requirement already satisfied: scipy>=1.4.1 in /usr/local/lib/python3.8/dist-packages (from scikit-image->efficientnet==1.0.0->segmentation_models) (1.9.3)\n",
      "Requirement already satisfied: packaging>=20.0 in /usr/local/lib/python3.8/dist-packages (from scikit-image->efficientnet==1.0.0->segmentation_models) (21.3)\n",
      "Requirement already satisfied: pillow!=7.1.0,!=7.1.1,!=8.3.0,>=6.1.0 in /usr/local/lib/python3.8/dist-packages (from scikit-image->efficientnet==1.0.0->segmentation_models) (9.2.0)\n",
      "Requirement already satisfied: PyWavelets>=1.1.1 in /usr/local/lib/python3.8/dist-packages (from scikit-image->efficientnet==1.0.0->segmentation_models) (1.4.1)\n",
      "Requirement already satisfied: tifffile>=2019.7.26 in /usr/local/lib/python3.8/dist-packages (from scikit-image->efficientnet==1.0.0->segmentation_models) (2022.10.10)\n",
      "Requirement already satisfied: imageio>=2.4.1 in /usr/local/lib/python3.8/dist-packages (from scikit-image->efficientnet==1.0.0->segmentation_models) (2.22.4)\n",
      "Requirement already satisfied: networkx>=2.2 in /usr/local/lib/python3.8/dist-packages (from scikit-image->efficientnet==1.0.0->segmentation_models) (2.8.8)\n",
      "Requirement already satisfied: pyparsing!=3.0.5,>=2.0.2 in /usr/local/lib/python3.8/dist-packages (from packaging>=20.0->scikit-image->efficientnet==1.0.0->segmentation_models) (3.0.9)\n",
      "\u001b[33mWARNING: Running pip as the 'root' user can result in broken permissions and conflicting behaviour with the system package manager. It is recommended to use a virtual environment instead: https://pip.pypa.io/warnings/venv\u001b[0m\u001b[33m\n",
      "\u001b[0m"
     ]
    }
   ],
   "source": [
    "!pip install segmentation_models\n",
    "import segmentation_models as sm"
   ]
  },
  {
   "cell_type": "code",
   "execution_count": 30,
   "metadata": {
    "executionInfo": {
     "elapsed": 2,
     "status": "ok",
     "timestamp": 1671180910768,
     "user": {
      "displayName": "유도현",
      "userId": "00783759444100379662"
     },
     "user_tz": -540
    },
    "id": "YRDX89SuODOu"
   },
   "outputs": [],
   "source": [
    "sm.set_framework('tf.keras')"
   ]
  },
  {
   "cell_type": "code",
   "execution_count": 31,
   "metadata": {
    "id": "A3AeO13PMNqQ"
   },
   "outputs": [],
   "source": [
    "BACKBONE = 'mobilenetv2'\n",
    "preprocess_input = sm.get_preprocessing(BACKBONE)"
   ]
  },
  {
   "cell_type": "code",
   "execution_count": 32,
   "metadata": {
    "colab": {
     "base_uri": "https://localhost:8080/"
    },
    "executionInfo": {
     "elapsed": 6650,
     "status": "ok",
     "timestamp": 1670042042339,
     "user": {
      "displayName": "유도현",
      "userId": "00783759444100379662"
     },
     "user_tz": -540
    },
    "id": "NK7qZoMgNTVK",
    "outputId": "9cad82a7-a503-4b7a-bb0d-c510d23673bb"
   },
   "outputs": [],
   "source": [
    "model = sm.Unet(BACKBONE,\n",
    "                classes=N_CLASSES, \n",
    "                input_shape=(HEIGHT,WIDTH,CHANNELS), \n",
    "                activation='sigmoid')"
   ]
  },
  {
   "cell_type": "code",
   "execution_count": 33,
   "metadata": {
    "colab": {
     "base_uri": "https://localhost:8080/"
    },
    "executionInfo": {
     "elapsed": 1420,
     "status": "ok",
     "timestamp": 1670042047170,
     "user": {
      "displayName": "유도현",
      "userId": "00783759444100379662"
     },
     "user_tz": -540
    },
    "id": "5_7R6tGqO2Gz",
    "outputId": "135ef044-7fae-41ca-ca38-f11743bda2e8"
   },
   "outputs": [
    {
     "name": "stdout",
     "output_type": "stream",
     "text": [
      "Model: \"model_1\"\n",
      "__________________________________________________________________________________________________\n",
      " Layer (type)                   Output Shape         Param #     Connected to                     \n",
      "==================================================================================================\n",
      " input_2 (InputLayer)           [(None, 384, 576, 3  0           []                               \n",
      "                                )]                                                                \n",
      "                                                                                                  \n",
      " Conv1_pad (ZeroPadding2D)      (None, 385, 577, 3)  0           ['input_2[0][0]']                \n",
      "                                                                                                  \n",
      " Conv1 (Conv2D)                 (None, 192, 288, 32  864         ['Conv1_pad[0][0]']              \n",
      "                                )                                                                 \n",
      "                                                                                                  \n",
      " bn_Conv1 (BatchNormalization)  (None, 192, 288, 32  128         ['Conv1[0][0]']                  \n",
      "                                )                                                                 \n",
      "                                                                                                  \n",
      " Conv1_relu (ReLU)              (None, 192, 288, 32  0           ['bn_Conv1[0][0]']               \n",
      "                                )                                                                 \n",
      "                                                                                                  \n",
      " expanded_conv_depthwise (Depth  (None, 192, 288, 32  288        ['Conv1_relu[0][0]']             \n",
      " wiseConv2D)                    )                                                                 \n",
      "                                                                                                  \n",
      " expanded_conv_depthwise_BN (Ba  (None, 192, 288, 32  128        ['expanded_conv_depthwise[0][0]']\n",
      " tchNormalization)              )                                                                 \n",
      "                                                                                                  \n",
      " expanded_conv_depthwise_relu (  (None, 192, 288, 32  0          ['expanded_conv_depthwise_BN[0][0\n",
      " ReLU)                          )                                ]']                              \n",
      "                                                                                                  \n",
      " expanded_conv_project (Conv2D)  (None, 192, 288, 16  512        ['expanded_conv_depthwise_relu[0]\n",
      "                                )                                [0]']                            \n",
      "                                                                                                  \n",
      " expanded_conv_project_BN (Batc  (None, 192, 288, 16  64         ['expanded_conv_project[0][0]']  \n",
      " hNormalization)                )                                                                 \n",
      "                                                                                                  \n",
      " block_1_expand (Conv2D)        (None, 192, 288, 96  1536        ['expanded_conv_project_BN[0][0]'\n",
      "                                )                                ]                                \n",
      "                                                                                                  \n",
      " block_1_expand_BN (BatchNormal  (None, 192, 288, 96  384        ['block_1_expand[0][0]']         \n",
      " ization)                       )                                                                 \n",
      "                                                                                                  \n",
      " block_1_expand_relu (ReLU)     (None, 192, 288, 96  0           ['block_1_expand_BN[0][0]']      \n",
      "                                )                                                                 \n",
      "                                                                                                  \n",
      " block_1_pad (ZeroPadding2D)    (None, 193, 289, 96  0           ['block_1_expand_relu[0][0]']    \n",
      "                                )                                                                 \n",
      "                                                                                                  \n",
      " block_1_depthwise (DepthwiseCo  (None, 96, 144, 96)  864        ['block_1_pad[0][0]']            \n",
      " nv2D)                                                                                            \n",
      "                                                                                                  \n",
      " block_1_depthwise_BN (BatchNor  (None, 96, 144, 96)  384        ['block_1_depthwise[0][0]']      \n",
      " malization)                                                                                      \n",
      "                                                                                                  \n",
      " block_1_depthwise_relu (ReLU)  (None, 96, 144, 96)  0           ['block_1_depthwise_BN[0][0]']   \n",
      "                                                                                                  \n",
      " block_1_project (Conv2D)       (None, 96, 144, 24)  2304        ['block_1_depthwise_relu[0][0]'] \n",
      "                                                                                                  \n",
      " block_1_project_BN (BatchNorma  (None, 96, 144, 24)  96         ['block_1_project[0][0]']        \n",
      " lization)                                                                                        \n",
      "                                                                                                  \n",
      " block_2_expand (Conv2D)        (None, 96, 144, 144  3456        ['block_1_project_BN[0][0]']     \n",
      "                                )                                                                 \n",
      "                                                                                                  \n",
      " block_2_expand_BN (BatchNormal  (None, 96, 144, 144  576        ['block_2_expand[0][0]']         \n",
      " ization)                       )                                                                 \n",
      "                                                                                                  \n",
      " block_2_expand_relu (ReLU)     (None, 96, 144, 144  0           ['block_2_expand_BN[0][0]']      \n",
      "                                )                                                                 \n",
      "                                                                                                  \n",
      " block_2_depthwise (DepthwiseCo  (None, 96, 144, 144  1296       ['block_2_expand_relu[0][0]']    \n",
      " nv2D)                          )                                                                 \n",
      "                                                                                                  \n",
      " block_2_depthwise_BN (BatchNor  (None, 96, 144, 144  576        ['block_2_depthwise[0][0]']      \n",
      " malization)                    )                                                                 \n",
      "                                                                                                  \n",
      " block_2_depthwise_relu (ReLU)  (None, 96, 144, 144  0           ['block_2_depthwise_BN[0][0]']   \n",
      "                                )                                                                 \n",
      "                                                                                                  \n",
      " block_2_project (Conv2D)       (None, 96, 144, 24)  3456        ['block_2_depthwise_relu[0][0]'] \n",
      "                                                                                                  \n",
      " block_2_project_BN (BatchNorma  (None, 96, 144, 24)  96         ['block_2_project[0][0]']        \n",
      " lization)                                                                                        \n",
      "                                                                                                  \n",
      " block_2_add (Add)              (None, 96, 144, 24)  0           ['block_1_project_BN[0][0]',     \n",
      "                                                                  'block_2_project_BN[0][0]']     \n",
      "                                                                                                  \n",
      " block_3_expand (Conv2D)        (None, 96, 144, 144  3456        ['block_2_add[0][0]']            \n",
      "                                )                                                                 \n",
      "                                                                                                  \n",
      " block_3_expand_BN (BatchNormal  (None, 96, 144, 144  576        ['block_3_expand[0][0]']         \n",
      " ization)                       )                                                                 \n",
      "                                                                                                  \n",
      " block_3_expand_relu (ReLU)     (None, 96, 144, 144  0           ['block_3_expand_BN[0][0]']      \n",
      "                                )                                                                 \n",
      "                                                                                                  \n",
      " block_3_pad (ZeroPadding2D)    (None, 97, 145, 144  0           ['block_3_expand_relu[0][0]']    \n",
      "                                )                                                                 \n",
      "                                                                                                  \n",
      " block_3_depthwise (DepthwiseCo  (None, 48, 72, 144)  1296       ['block_3_pad[0][0]']            \n",
      " nv2D)                                                                                            \n",
      "                                                                                                  \n",
      " block_3_depthwise_BN (BatchNor  (None, 48, 72, 144)  576        ['block_3_depthwise[0][0]']      \n",
      " malization)                                                                                      \n",
      "                                                                                                  \n",
      " block_3_depthwise_relu (ReLU)  (None, 48, 72, 144)  0           ['block_3_depthwise_BN[0][0]']   \n",
      "                                                                                                  \n",
      " block_3_project (Conv2D)       (None, 48, 72, 32)   4608        ['block_3_depthwise_relu[0][0]'] \n",
      "                                                                                                  \n",
      " block_3_project_BN (BatchNorma  (None, 48, 72, 32)  128         ['block_3_project[0][0]']        \n",
      " lization)                                                                                        \n",
      "                                                                                                  \n",
      " block_4_expand (Conv2D)        (None, 48, 72, 192)  6144        ['block_3_project_BN[0][0]']     \n",
      "                                                                                                  \n",
      " block_4_expand_BN (BatchNormal  (None, 48, 72, 192)  768        ['block_4_expand[0][0]']         \n",
      " ization)                                                                                         \n",
      "                                                                                                  \n",
      " block_4_expand_relu (ReLU)     (None, 48, 72, 192)  0           ['block_4_expand_BN[0][0]']      \n",
      "                                                                                                  \n",
      " block_4_depthwise (DepthwiseCo  (None, 48, 72, 192)  1728       ['block_4_expand_relu[0][0]']    \n",
      " nv2D)                                                                                            \n",
      "                                                                                                  \n",
      " block_4_depthwise_BN (BatchNor  (None, 48, 72, 192)  768        ['block_4_depthwise[0][0]']      \n",
      " malization)                                                                                      \n",
      "                                                                                                  \n",
      " block_4_depthwise_relu (ReLU)  (None, 48, 72, 192)  0           ['block_4_depthwise_BN[0][0]']   \n",
      "                                                                                                  \n",
      " block_4_project (Conv2D)       (None, 48, 72, 32)   6144        ['block_4_depthwise_relu[0][0]'] \n",
      "                                                                                                  \n",
      " block_4_project_BN (BatchNorma  (None, 48, 72, 32)  128         ['block_4_project[0][0]']        \n",
      " lization)                                                                                        \n",
      "                                                                                                  \n",
      " block_4_add (Add)              (None, 48, 72, 32)   0           ['block_3_project_BN[0][0]',     \n",
      "                                                                  'block_4_project_BN[0][0]']     \n",
      "                                                                                                  \n",
      " block_5_expand (Conv2D)        (None, 48, 72, 192)  6144        ['block_4_add[0][0]']            \n",
      "                                                                                                  \n",
      " block_5_expand_BN (BatchNormal  (None, 48, 72, 192)  768        ['block_5_expand[0][0]']         \n",
      " ization)                                                                                         \n",
      "                                                                                                  \n",
      " block_5_expand_relu (ReLU)     (None, 48, 72, 192)  0           ['block_5_expand_BN[0][0]']      \n",
      "                                                                                                  \n",
      " block_5_depthwise (DepthwiseCo  (None, 48, 72, 192)  1728       ['block_5_expand_relu[0][0]']    \n",
      " nv2D)                                                                                            \n",
      "                                                                                                  \n",
      " block_5_depthwise_BN (BatchNor  (None, 48, 72, 192)  768        ['block_5_depthwise[0][0]']      \n",
      " malization)                                                                                      \n",
      "                                                                                                  \n",
      " block_5_depthwise_relu (ReLU)  (None, 48, 72, 192)  0           ['block_5_depthwise_BN[0][0]']   \n",
      "                                                                                                  \n",
      " block_5_project (Conv2D)       (None, 48, 72, 32)   6144        ['block_5_depthwise_relu[0][0]'] \n",
      "                                                                                                  \n",
      " block_5_project_BN (BatchNorma  (None, 48, 72, 32)  128         ['block_5_project[0][0]']        \n",
      " lization)                                                                                        \n",
      "                                                                                                  \n",
      " block_5_add (Add)              (None, 48, 72, 32)   0           ['block_4_add[0][0]',            \n",
      "                                                                  'block_5_project_BN[0][0]']     \n",
      "                                                                                                  \n",
      " block_6_expand (Conv2D)        (None, 48, 72, 192)  6144        ['block_5_add[0][0]']            \n",
      "                                                                                                  \n",
      " block_6_expand_BN (BatchNormal  (None, 48, 72, 192)  768        ['block_6_expand[0][0]']         \n",
      " ization)                                                                                         \n",
      "                                                                                                  \n",
      " block_6_expand_relu (ReLU)     (None, 48, 72, 192)  0           ['block_6_expand_BN[0][0]']      \n",
      "                                                                                                  \n",
      " block_6_pad (ZeroPadding2D)    (None, 49, 73, 192)  0           ['block_6_expand_relu[0][0]']    \n",
      "                                                                                                  \n",
      " block_6_depthwise (DepthwiseCo  (None, 24, 36, 192)  1728       ['block_6_pad[0][0]']            \n",
      " nv2D)                                                                                            \n",
      "                                                                                                  \n",
      " block_6_depthwise_BN (BatchNor  (None, 24, 36, 192)  768        ['block_6_depthwise[0][0]']      \n",
      " malization)                                                                                      \n",
      "                                                                                                  \n",
      " block_6_depthwise_relu (ReLU)  (None, 24, 36, 192)  0           ['block_6_depthwise_BN[0][0]']   \n",
      "                                                                                                  \n",
      " block_6_project (Conv2D)       (None, 24, 36, 64)   12288       ['block_6_depthwise_relu[0][0]'] \n",
      "                                                                                                  \n",
      " block_6_project_BN (BatchNorma  (None, 24, 36, 64)  256         ['block_6_project[0][0]']        \n",
      " lization)                                                                                        \n",
      "                                                                                                  \n",
      " block_7_expand (Conv2D)        (None, 24, 36, 384)  24576       ['block_6_project_BN[0][0]']     \n",
      "                                                                                                  \n",
      " block_7_expand_BN (BatchNormal  (None, 24, 36, 384)  1536       ['block_7_expand[0][0]']         \n",
      " ization)                                                                                         \n",
      "                                                                                                  \n",
      " block_7_expand_relu (ReLU)     (None, 24, 36, 384)  0           ['block_7_expand_BN[0][0]']      \n",
      "                                                                                                  \n",
      " block_7_depthwise (DepthwiseCo  (None, 24, 36, 384)  3456       ['block_7_expand_relu[0][0]']    \n",
      " nv2D)                                                                                            \n",
      "                                                                                                  \n",
      " block_7_depthwise_BN (BatchNor  (None, 24, 36, 384)  1536       ['block_7_depthwise[0][0]']      \n",
      " malization)                                                                                      \n",
      "                                                                                                  \n",
      " block_7_depthwise_relu (ReLU)  (None, 24, 36, 384)  0           ['block_7_depthwise_BN[0][0]']   \n",
      "                                                                                                  \n",
      " block_7_project (Conv2D)       (None, 24, 36, 64)   24576       ['block_7_depthwise_relu[0][0]'] \n",
      "                                                                                                  \n",
      " block_7_project_BN (BatchNorma  (None, 24, 36, 64)  256         ['block_7_project[0][0]']        \n",
      " lization)                                                                                        \n",
      "                                                                                                  \n",
      " block_7_add (Add)              (None, 24, 36, 64)   0           ['block_6_project_BN[0][0]',     \n",
      "                                                                  'block_7_project_BN[0][0]']     \n",
      "                                                                                                  \n",
      " block_8_expand (Conv2D)        (None, 24, 36, 384)  24576       ['block_7_add[0][0]']            \n",
      "                                                                                                  \n",
      " block_8_expand_BN (BatchNormal  (None, 24, 36, 384)  1536       ['block_8_expand[0][0]']         \n",
      " ization)                                                                                         \n",
      "                                                                                                  \n",
      " block_8_expand_relu (ReLU)     (None, 24, 36, 384)  0           ['block_8_expand_BN[0][0]']      \n",
      "                                                                                                  \n",
      " block_8_depthwise (DepthwiseCo  (None, 24, 36, 384)  3456       ['block_8_expand_relu[0][0]']    \n",
      " nv2D)                                                                                            \n",
      "                                                                                                  \n",
      " block_8_depthwise_BN (BatchNor  (None, 24, 36, 384)  1536       ['block_8_depthwise[0][0]']      \n",
      " malization)                                                                                      \n",
      "                                                                                                  \n",
      " block_8_depthwise_relu (ReLU)  (None, 24, 36, 384)  0           ['block_8_depthwise_BN[0][0]']   \n",
      "                                                                                                  \n",
      " block_8_project (Conv2D)       (None, 24, 36, 64)   24576       ['block_8_depthwise_relu[0][0]'] \n",
      "                                                                                                  \n",
      " block_8_project_BN (BatchNorma  (None, 24, 36, 64)  256         ['block_8_project[0][0]']        \n",
      " lization)                                                                                        \n",
      "                                                                                                  \n",
      " block_8_add (Add)              (None, 24, 36, 64)   0           ['block_7_add[0][0]',            \n",
      "                                                                  'block_8_project_BN[0][0]']     \n",
      "                                                                                                  \n",
      " block_9_expand (Conv2D)        (None, 24, 36, 384)  24576       ['block_8_add[0][0]']            \n",
      "                                                                                                  \n",
      " block_9_expand_BN (BatchNormal  (None, 24, 36, 384)  1536       ['block_9_expand[0][0]']         \n",
      " ization)                                                                                         \n",
      "                                                                                                  \n",
      " block_9_expand_relu (ReLU)     (None, 24, 36, 384)  0           ['block_9_expand_BN[0][0]']      \n",
      "                                                                                                  \n",
      " block_9_depthwise (DepthwiseCo  (None, 24, 36, 384)  3456       ['block_9_expand_relu[0][0]']    \n",
      " nv2D)                                                                                            \n",
      "                                                                                                  \n",
      " block_9_depthwise_BN (BatchNor  (None, 24, 36, 384)  1536       ['block_9_depthwise[0][0]']      \n",
      " malization)                                                                                      \n",
      "                                                                                                  \n",
      " block_9_depthwise_relu (ReLU)  (None, 24, 36, 384)  0           ['block_9_depthwise_BN[0][0]']   \n",
      "                                                                                                  \n",
      " block_9_project (Conv2D)       (None, 24, 36, 64)   24576       ['block_9_depthwise_relu[0][0]'] \n",
      "                                                                                                  \n",
      " block_9_project_BN (BatchNorma  (None, 24, 36, 64)  256         ['block_9_project[0][0]']        \n",
      " lization)                                                                                        \n",
      "                                                                                                  \n",
      " block_9_add (Add)              (None, 24, 36, 64)   0           ['block_8_add[0][0]',            \n",
      "                                                                  'block_9_project_BN[0][0]']     \n",
      "                                                                                                  \n",
      " block_10_expand (Conv2D)       (None, 24, 36, 384)  24576       ['block_9_add[0][0]']            \n",
      "                                                                                                  \n",
      " block_10_expand_BN (BatchNorma  (None, 24, 36, 384)  1536       ['block_10_expand[0][0]']        \n",
      " lization)                                                                                        \n",
      "                                                                                                  \n",
      " block_10_expand_relu (ReLU)    (None, 24, 36, 384)  0           ['block_10_expand_BN[0][0]']     \n",
      "                                                                                                  \n",
      " block_10_depthwise (DepthwiseC  (None, 24, 36, 384)  3456       ['block_10_expand_relu[0][0]']   \n",
      " onv2D)                                                                                           \n",
      "                                                                                                  \n",
      " block_10_depthwise_BN (BatchNo  (None, 24, 36, 384)  1536       ['block_10_depthwise[0][0]']     \n",
      " rmalization)                                                                                     \n",
      "                                                                                                  \n",
      " block_10_depthwise_relu (ReLU)  (None, 24, 36, 384)  0          ['block_10_depthwise_BN[0][0]']  \n",
      "                                                                                                  \n",
      " block_10_project (Conv2D)      (None, 24, 36, 96)   36864       ['block_10_depthwise_relu[0][0]']\n",
      "                                                                                                  \n",
      " block_10_project_BN (BatchNorm  (None, 24, 36, 96)  384         ['block_10_project[0][0]']       \n",
      " alization)                                                                                       \n",
      "                                                                                                  \n",
      " block_11_expand (Conv2D)       (None, 24, 36, 576)  55296       ['block_10_project_BN[0][0]']    \n",
      "                                                                                                  \n",
      " block_11_expand_BN (BatchNorma  (None, 24, 36, 576)  2304       ['block_11_expand[0][0]']        \n",
      " lization)                                                                                        \n",
      "                                                                                                  \n",
      " block_11_expand_relu (ReLU)    (None, 24, 36, 576)  0           ['block_11_expand_BN[0][0]']     \n",
      "                                                                                                  \n",
      " block_11_depthwise (DepthwiseC  (None, 24, 36, 576)  5184       ['block_11_expand_relu[0][0]']   \n",
      " onv2D)                                                                                           \n",
      "                                                                                                  \n",
      " block_11_depthwise_BN (BatchNo  (None, 24, 36, 576)  2304       ['block_11_depthwise[0][0]']     \n",
      " rmalization)                                                                                     \n",
      "                                                                                                  \n",
      " block_11_depthwise_relu (ReLU)  (None, 24, 36, 576)  0          ['block_11_depthwise_BN[0][0]']  \n",
      "                                                                                                  \n",
      " block_11_project (Conv2D)      (None, 24, 36, 96)   55296       ['block_11_depthwise_relu[0][0]']\n",
      "                                                                                                  \n",
      " block_11_project_BN (BatchNorm  (None, 24, 36, 96)  384         ['block_11_project[0][0]']       \n",
      " alization)                                                                                       \n",
      "                                                                                                  \n",
      " block_11_add (Add)             (None, 24, 36, 96)   0           ['block_10_project_BN[0][0]',    \n",
      "                                                                  'block_11_project_BN[0][0]']    \n",
      "                                                                                                  \n",
      " block_12_expand (Conv2D)       (None, 24, 36, 576)  55296       ['block_11_add[0][0]']           \n",
      "                                                                                                  \n",
      " block_12_expand_BN (BatchNorma  (None, 24, 36, 576)  2304       ['block_12_expand[0][0]']        \n",
      " lization)                                                                                        \n",
      "                                                                                                  \n",
      " block_12_expand_relu (ReLU)    (None, 24, 36, 576)  0           ['block_12_expand_BN[0][0]']     \n",
      "                                                                                                  \n",
      " block_12_depthwise (DepthwiseC  (None, 24, 36, 576)  5184       ['block_12_expand_relu[0][0]']   \n",
      " onv2D)                                                                                           \n",
      "                                                                                                  \n",
      " block_12_depthwise_BN (BatchNo  (None, 24, 36, 576)  2304       ['block_12_depthwise[0][0]']     \n",
      " rmalization)                                                                                     \n",
      "                                                                                                  \n",
      " block_12_depthwise_relu (ReLU)  (None, 24, 36, 576)  0          ['block_12_depthwise_BN[0][0]']  \n",
      "                                                                                                  \n",
      " block_12_project (Conv2D)      (None, 24, 36, 96)   55296       ['block_12_depthwise_relu[0][0]']\n",
      "                                                                                                  \n",
      " block_12_project_BN (BatchNorm  (None, 24, 36, 96)  384         ['block_12_project[0][0]']       \n",
      " alization)                                                                                       \n",
      "                                                                                                  \n",
      " block_12_add (Add)             (None, 24, 36, 96)   0           ['block_11_add[0][0]',           \n",
      "                                                                  'block_12_project_BN[0][0]']    \n",
      "                                                                                                  \n",
      " block_13_expand (Conv2D)       (None, 24, 36, 576)  55296       ['block_12_add[0][0]']           \n",
      "                                                                                                  \n",
      " block_13_expand_BN (BatchNorma  (None, 24, 36, 576)  2304       ['block_13_expand[0][0]']        \n",
      " lization)                                                                                        \n",
      "                                                                                                  \n",
      " block_13_expand_relu (ReLU)    (None, 24, 36, 576)  0           ['block_13_expand_BN[0][0]']     \n",
      "                                                                                                  \n",
      " block_13_pad (ZeroPadding2D)   (None, 25, 37, 576)  0           ['block_13_expand_relu[0][0]']   \n",
      "                                                                                                  \n",
      " block_13_depthwise (DepthwiseC  (None, 12, 18, 576)  5184       ['block_13_pad[0][0]']           \n",
      " onv2D)                                                                                           \n",
      "                                                                                                  \n",
      " block_13_depthwise_BN (BatchNo  (None, 12, 18, 576)  2304       ['block_13_depthwise[0][0]']     \n",
      " rmalization)                                                                                     \n",
      "                                                                                                  \n",
      " block_13_depthwise_relu (ReLU)  (None, 12, 18, 576)  0          ['block_13_depthwise_BN[0][0]']  \n",
      "                                                                                                  \n",
      " block_13_project (Conv2D)      (None, 12, 18, 160)  92160       ['block_13_depthwise_relu[0][0]']\n",
      "                                                                                                  \n",
      " block_13_project_BN (BatchNorm  (None, 12, 18, 160)  640        ['block_13_project[0][0]']       \n",
      " alization)                                                                                       \n",
      "                                                                                                  \n",
      " block_14_expand (Conv2D)       (None, 12, 18, 960)  153600      ['block_13_project_BN[0][0]']    \n",
      "                                                                                                  \n",
      " block_14_expand_BN (BatchNorma  (None, 12, 18, 960)  3840       ['block_14_expand[0][0]']        \n",
      " lization)                                                                                        \n",
      "                                                                                                  \n",
      " block_14_expand_relu (ReLU)    (None, 12, 18, 960)  0           ['block_14_expand_BN[0][0]']     \n",
      "                                                                                                  \n",
      " block_14_depthwise (DepthwiseC  (None, 12, 18, 960)  8640       ['block_14_expand_relu[0][0]']   \n",
      " onv2D)                                                                                           \n",
      "                                                                                                  \n",
      " block_14_depthwise_BN (BatchNo  (None, 12, 18, 960)  3840       ['block_14_depthwise[0][0]']     \n",
      " rmalization)                                                                                     \n",
      "                                                                                                  \n",
      " block_14_depthwise_relu (ReLU)  (None, 12, 18, 960)  0          ['block_14_depthwise_BN[0][0]']  \n",
      "                                                                                                  \n",
      " block_14_project (Conv2D)      (None, 12, 18, 160)  153600      ['block_14_depthwise_relu[0][0]']\n",
      "                                                                                                  \n",
      " block_14_project_BN (BatchNorm  (None, 12, 18, 160)  640        ['block_14_project[0][0]']       \n",
      " alization)                                                                                       \n",
      "                                                                                                  \n",
      " block_14_add (Add)             (None, 12, 18, 160)  0           ['block_13_project_BN[0][0]',    \n",
      "                                                                  'block_14_project_BN[0][0]']    \n",
      "                                                                                                  \n",
      " block_15_expand (Conv2D)       (None, 12, 18, 960)  153600      ['block_14_add[0][0]']           \n",
      "                                                                                                  \n",
      " block_15_expand_BN (BatchNorma  (None, 12, 18, 960)  3840       ['block_15_expand[0][0]']        \n",
      " lization)                                                                                        \n",
      "                                                                                                  \n",
      " block_15_expand_relu (ReLU)    (None, 12, 18, 960)  0           ['block_15_expand_BN[0][0]']     \n",
      "                                                                                                  \n",
      " block_15_depthwise (DepthwiseC  (None, 12, 18, 960)  8640       ['block_15_expand_relu[0][0]']   \n",
      " onv2D)                                                                                           \n",
      "                                                                                                  \n",
      " block_15_depthwise_BN (BatchNo  (None, 12, 18, 960)  3840       ['block_15_depthwise[0][0]']     \n",
      " rmalization)                                                                                     \n",
      "                                                                                                  \n",
      " block_15_depthwise_relu (ReLU)  (None, 12, 18, 960)  0          ['block_15_depthwise_BN[0][0]']  \n",
      "                                                                                                  \n",
      " block_15_project (Conv2D)      (None, 12, 18, 160)  153600      ['block_15_depthwise_relu[0][0]']\n",
      "                                                                                                  \n",
      " block_15_project_BN (BatchNorm  (None, 12, 18, 160)  640        ['block_15_project[0][0]']       \n",
      " alization)                                                                                       \n",
      "                                                                                                  \n",
      " block_15_add (Add)             (None, 12, 18, 160)  0           ['block_14_add[0][0]',           \n",
      "                                                                  'block_15_project_BN[0][0]']    \n",
      "                                                                                                  \n",
      " block_16_expand (Conv2D)       (None, 12, 18, 960)  153600      ['block_15_add[0][0]']           \n",
      "                                                                                                  \n",
      " block_16_expand_BN (BatchNorma  (None, 12, 18, 960)  3840       ['block_16_expand[0][0]']        \n",
      " lization)                                                                                        \n",
      "                                                                                                  \n",
      " block_16_expand_relu (ReLU)    (None, 12, 18, 960)  0           ['block_16_expand_BN[0][0]']     \n",
      "                                                                                                  \n",
      " block_16_depthwise (DepthwiseC  (None, 12, 18, 960)  8640       ['block_16_expand_relu[0][0]']   \n",
      " onv2D)                                                                                           \n",
      "                                                                                                  \n",
      " block_16_depthwise_BN (BatchNo  (None, 12, 18, 960)  3840       ['block_16_depthwise[0][0]']     \n",
      " rmalization)                                                                                     \n",
      "                                                                                                  \n",
      " block_16_depthwise_relu (ReLU)  (None, 12, 18, 960)  0          ['block_16_depthwise_BN[0][0]']  \n",
      "                                                                                                  \n",
      " block_16_project (Conv2D)      (None, 12, 18, 320)  307200      ['block_16_depthwise_relu[0][0]']\n",
      "                                                                                                  \n",
      " block_16_project_BN (BatchNorm  (None, 12, 18, 320)  1280       ['block_16_project[0][0]']       \n",
      " alization)                                                                                       \n",
      "                                                                                                  \n",
      " Conv_1 (Conv2D)                (None, 12, 18, 1280  409600      ['block_16_project_BN[0][0]']    \n",
      "                                )                                                                 \n",
      "                                                                                                  \n",
      " Conv_1_bn (BatchNormalization)  (None, 12, 18, 1280  5120       ['Conv_1[0][0]']                 \n",
      "                                )                                                                 \n",
      "                                                                                                  \n",
      " out_relu (ReLU)                (None, 12, 18, 1280  0           ['Conv_1_bn[0][0]']              \n",
      "                                )                                                                 \n",
      "                                                                                                  \n",
      " decoder_stage0_upsampling (UpS  (None, 24, 36, 1280  0          ['out_relu[0][0]']               \n",
      " ampling2D)                     )                                                                 \n",
      "                                                                                                  \n",
      " decoder_stage0_concat (Concate  (None, 24, 36, 1856  0          ['decoder_stage0_upsampling[0][0]\n",
      " nate)                          )                                ',                               \n",
      "                                                                  'block_13_expand_relu[0][0]']   \n",
      "                                                                                                  \n",
      " decoder_stage0a_conv (Conv2D)  (None, 24, 36, 256)  4276224     ['decoder_stage0_concat[0][0]']  \n",
      "                                                                                                  \n",
      " decoder_stage0a_bn (BatchNorma  (None, 24, 36, 256)  1024       ['decoder_stage0a_conv[0][0]']   \n",
      " lization)                                                                                        \n",
      "                                                                                                  \n",
      " decoder_stage0a_relu (Activati  (None, 24, 36, 256)  0          ['decoder_stage0a_bn[0][0]']     \n",
      " on)                                                                                              \n",
      "                                                                                                  \n",
      " decoder_stage0b_conv (Conv2D)  (None, 24, 36, 256)  589824      ['decoder_stage0a_relu[0][0]']   \n",
      "                                                                                                  \n",
      " decoder_stage0b_bn (BatchNorma  (None, 24, 36, 256)  1024       ['decoder_stage0b_conv[0][0]']   \n",
      " lization)                                                                                        \n",
      "                                                                                                  \n",
      " decoder_stage0b_relu (Activati  (None, 24, 36, 256)  0          ['decoder_stage0b_bn[0][0]']     \n",
      " on)                                                                                              \n",
      "                                                                                                  \n",
      " decoder_stage1_upsampling (UpS  (None, 48, 72, 256)  0          ['decoder_stage0b_relu[0][0]']   \n",
      " ampling2D)                                                                                       \n",
      "                                                                                                  \n",
      " decoder_stage1_concat (Concate  (None, 48, 72, 448)  0          ['decoder_stage1_upsampling[0][0]\n",
      " nate)                                                           ',                               \n",
      "                                                                  'block_6_expand_relu[0][0]']    \n",
      "                                                                                                  \n",
      " decoder_stage1a_conv (Conv2D)  (None, 48, 72, 128)  516096      ['decoder_stage1_concat[0][0]']  \n",
      "                                                                                                  \n",
      " decoder_stage1a_bn (BatchNorma  (None, 48, 72, 128)  512        ['decoder_stage1a_conv[0][0]']   \n",
      " lization)                                                                                        \n",
      "                                                                                                  \n",
      " decoder_stage1a_relu (Activati  (None, 48, 72, 128)  0          ['decoder_stage1a_bn[0][0]']     \n",
      " on)                                                                                              \n",
      "                                                                                                  \n",
      " decoder_stage1b_conv (Conv2D)  (None, 48, 72, 128)  147456      ['decoder_stage1a_relu[0][0]']   \n",
      "                                                                                                  \n",
      " decoder_stage1b_bn (BatchNorma  (None, 48, 72, 128)  512        ['decoder_stage1b_conv[0][0]']   \n",
      " lization)                                                                                        \n",
      "                                                                                                  \n",
      " decoder_stage1b_relu (Activati  (None, 48, 72, 128)  0          ['decoder_stage1b_bn[0][0]']     \n",
      " on)                                                                                              \n",
      "                                                                                                  \n",
      " decoder_stage2_upsampling (UpS  (None, 96, 144, 128  0          ['decoder_stage1b_relu[0][0]']   \n",
      " ampling2D)                     )                                                                 \n",
      "                                                                                                  \n",
      " decoder_stage2_concat (Concate  (None, 96, 144, 272  0          ['decoder_stage2_upsampling[0][0]\n",
      " nate)                          )                                ',                               \n",
      "                                                                  'block_3_expand_relu[0][0]']    \n",
      "                                                                                                  \n",
      " decoder_stage2a_conv (Conv2D)  (None, 96, 144, 64)  156672      ['decoder_stage2_concat[0][0]']  \n",
      "                                                                                                  \n",
      " decoder_stage2a_bn (BatchNorma  (None, 96, 144, 64)  256        ['decoder_stage2a_conv[0][0]']   \n",
      " lization)                                                                                        \n",
      "                                                                                                  \n",
      " decoder_stage2a_relu (Activati  (None, 96, 144, 64)  0          ['decoder_stage2a_bn[0][0]']     \n",
      " on)                                                                                              \n",
      "                                                                                                  \n",
      " decoder_stage2b_conv (Conv2D)  (None, 96, 144, 64)  36864       ['decoder_stage2a_relu[0][0]']   \n",
      "                                                                                                  \n",
      " decoder_stage2b_bn (BatchNorma  (None, 96, 144, 64)  256        ['decoder_stage2b_conv[0][0]']   \n",
      " lization)                                                                                        \n",
      "                                                                                                  \n",
      " decoder_stage2b_relu (Activati  (None, 96, 144, 64)  0          ['decoder_stage2b_bn[0][0]']     \n",
      " on)                                                                                              \n",
      "                                                                                                  \n",
      " decoder_stage3_upsampling (UpS  (None, 192, 288, 64  0          ['decoder_stage2b_relu[0][0]']   \n",
      " ampling2D)                     )                                                                 \n",
      "                                                                                                  \n",
      " decoder_stage3_concat (Concate  (None, 192, 288, 16  0          ['decoder_stage3_upsampling[0][0]\n",
      " nate)                          0)                               ',                               \n",
      "                                                                  'block_1_expand_relu[0][0]']    \n",
      "                                                                                                  \n",
      " decoder_stage3a_conv (Conv2D)  (None, 192, 288, 32  46080       ['decoder_stage3_concat[0][0]']  \n",
      "                                )                                                                 \n",
      "                                                                                                  \n",
      " decoder_stage3a_bn (BatchNorma  (None, 192, 288, 32  128        ['decoder_stage3a_conv[0][0]']   \n",
      " lization)                      )                                                                 \n",
      "                                                                                                  \n",
      " decoder_stage3a_relu (Activati  (None, 192, 288, 32  0          ['decoder_stage3a_bn[0][0]']     \n",
      " on)                            )                                                                 \n",
      "                                                                                                  \n",
      " decoder_stage3b_conv (Conv2D)  (None, 192, 288, 32  9216        ['decoder_stage3a_relu[0][0]']   \n",
      "                                )                                                                 \n",
      "                                                                                                  \n",
      " decoder_stage3b_bn (BatchNorma  (None, 192, 288, 32  128        ['decoder_stage3b_conv[0][0]']   \n",
      " lization)                      )                                                                 \n",
      "                                                                                                  \n",
      " decoder_stage3b_relu (Activati  (None, 192, 288, 32  0          ['decoder_stage3b_bn[0][0]']     \n",
      " on)                            )                                                                 \n",
      "                                                                                                  \n",
      " decoder_stage4_upsampling (UpS  (None, 384, 576, 32  0          ['decoder_stage3b_relu[0][0]']   \n",
      " ampling2D)                     )                                                                 \n",
      "                                                                                                  \n",
      " decoder_stage4a_conv (Conv2D)  (None, 384, 576, 16  4608        ['decoder_stage4_upsampling[0][0]\n",
      "                                )                                ']                               \n",
      "                                                                                                  \n",
      " decoder_stage4a_bn (BatchNorma  (None, 384, 576, 16  64         ['decoder_stage4a_conv[0][0]']   \n",
      " lization)                      )                                                                 \n",
      "                                                                                                  \n",
      " decoder_stage4a_relu (Activati  (None, 384, 576, 16  0          ['decoder_stage4a_bn[0][0]']     \n",
      " on)                            )                                                                 \n",
      "                                                                                                  \n",
      " decoder_stage4b_conv (Conv2D)  (None, 384, 576, 16  2304        ['decoder_stage4a_relu[0][0]']   \n",
      "                                )                                                                 \n",
      "                                                                                                  \n",
      " decoder_stage4b_bn (BatchNorma  (None, 384, 576, 16  64         ['decoder_stage4b_conv[0][0]']   \n",
      " lization)                      )                                                                 \n",
      "                                                                                                  \n",
      " decoder_stage4b_relu (Activati  (None, 384, 576, 16  0          ['decoder_stage4b_bn[0][0]']     \n",
      " on)                            )                                                                 \n",
      "                                                                                                  \n",
      " final_conv (Conv2D)            (None, 384, 576, 4)  580         ['decoder_stage4b_relu[0][0]']   \n",
      "                                                                                                  \n",
      " sigmoid (Activation)           (None, 384, 576, 4)  0           ['final_conv[0][0]']             \n",
      "                                                                                                  \n",
      "==================================================================================================\n",
      "Total params: 8,047,876\n",
      "Trainable params: 8,011,780\n",
      "Non-trainable params: 36,096\n",
      "__________________________________________________________________________________________________\n"
     ]
    }
   ],
   "source": [
    "model.summary()"
   ]
  },
  {
   "cell_type": "markdown",
   "metadata": {
    "id": "VuKkEdS6VsPw",
    "jp-MarkdownHeadingCollapsed": true,
    "tags": []
   },
   "source": [
    "## Training"
   ]
  },
  {
   "cell_type": "code",
   "execution_count": 37,
   "metadata": {
    "executionInfo": {
     "elapsed": 356,
     "status": "ok",
     "timestamp": 1671176817482,
     "user": {
      "displayName": "유도현",
      "userId": "00783759444100379662"
     },
     "user_tz": -540
    },
    "id": "dc6BA0mnVsPr"
   },
   "outputs": [],
   "source": [
    "def dice_coef(y_true, y_pred, smooth=1):\n",
    "    y_true_f = K.flatten(y_true)\n",
    "    y_pred_f = K.flatten(y_pred)\n",
    "    intersection = K.sum(y_true_f * y_pred_f)\n",
    "    return (2. * intersection + smooth) / (K.sum(y_true_f) + K.sum(y_pred_f) + smooth)\n",
    "\n",
    "def dice_loss(y_true, y_pred):\n",
    "    smooth = 1.\n",
    "    y_true_f = K.flatten(y_true)\n",
    "    y_pred_f = K.flatten(y_pred)\n",
    "    intersection = y_true_f * y_pred_f\n",
    "    score = (2. * K.sum(intersection) + smooth) / (K.sum(y_true_f) + K.sum(y_pred_f) + smooth)\n",
    "    return 1. - score\n",
    "\n",
    "def bce_dice_loss(y_true, y_pred):\n",
    "    return (binary_crossentropy(y_true, y_pred) + 3*dice_loss(y_true, y_pred))/4"
   ]
  },
  {
   "cell_type": "code",
   "execution_count": 38,
   "metadata": {
    "id": "sQM4rc-EVsPx"
   },
   "outputs": [],
   "source": [
    "earlystopping = EarlyStopping(monitor='val_loss', \n",
    "                             mode='min', \n",
    "                             patience=ES_PATIENCE,\n",
    "                             restore_best_weights=True,\n",
    "                             verbose=1)\n",
    "\n",
    "reduce_lr = ReduceLROnPlateau(monitor='val_loss', \n",
    "                              mode='min',\n",
    "                              patience=RLROP_PATIENCE,\n",
    "                              factor=DECAY_DROP,\n",
    "                              min_lr=1e-6,\n",
    "                              verbose=1)\n",
    "\n",
    "checkpoint = ModelCheckpoint(filepath = Hymynameis+'/understanding_cloud_organization/hrnet.h5', save_best_only=True)\n",
    "\n",
    "metric_list = [dice_coef]\n",
    "callback_list = [earlystopping, reduce_lr, checkpoint]\n",
    "optimizer = Adam(lr = LEARNING_RATE)\n",
    "\n",
    "model.compile(optimizer=optimizer, \n",
    "              loss=bce_dice_loss, \n",
    "              metrics=metric_list)\n",
    "\n"
   ]
  },
  {
   "cell_type": "code",
   "execution_count": null,
   "metadata": {
    "colab": {
     "base_uri": "https://localhost:8080/",
     "height": 450
    },
    "executionInfo": {
     "elapsed": 114989,
     "status": "error",
     "timestamp": 1670051610353,
     "user": {
      "displayName": "유도현",
      "userId": "00783759444100379662"
     },
     "user_tz": -540
    },
    "id": "8g91hq5aVsPx",
    "outputId": "fac06a06-1812-4f86-bd55-2b83d68d25a6"
   },
   "outputs": [
    {
     "name": "stdout",
     "output_type": "stream",
     "text": [
      "Epoch 1/50\n",
      "277/277 [==============================] - ETA: 0s - loss: 0.5087 - dice_coef: 0.4596"
     ]
    }
   ],
   "source": [
    "history = model.fit_generator(\n",
    "    train_generator,\n",
    "    validation_data=val_generator,\n",
    "    callbacks=callback_list,\n",
    "    epochs=EPOCHS,\n",
    "    verbose=1\n",
    ")"
   ]
  },
  {
   "cell_type": "markdown",
   "metadata": {
    "id": "9KtvAv4gUZKj"
   },
   "source": [
    "Model 4-1 : U-Net (Encoder : VGG19)"
   ]
  },
  {
   "cell_type": "code",
   "execution_count": 80,
   "metadata": {},
   "outputs": [],
   "source": [
    "def draw_convex_hull(mask, mode='convex'):\n",
    "    img = np.zeros(mask.shape)\n",
    "    contours, hier = cv2.findContours(mask, cv2.RETR_TREE, cv2.CHAIN_APPROX_SIMPLE)\n",
    "    for c in contours:\n",
    "        if mode=='rect': # simple rectangle\n",
    "            x, y, w, h = cv2.boundingRect(c)\n",
    "            cv2.rectangle(img, (x, y), (x+w, y+h), (255, 255, 255), -1)\n",
    "        elif mode=='convex': # minimum convex hull\n",
    "            hull = cv2.convexHull(c)\n",
    "            cv2.drawContours(img, [hull], 0, (255, 255, 255),-1)\n",
    "        elif mode=='approx':\n",
    "            epsilon = 0.02*cv2.arcLength(c,True)\n",
    "            approx = cv2.approxPolyDP(c,epsilon,True)\n",
    "            cv2.drawContours(img, [approx], 0, (255, 255, 255),-1)\n",
    "        else: # minimum area rectangle\n",
    "            rect = cv2.minAreaRect(c)\n",
    "            box = cv2.boxPoints(rect)\n",
    "            box = np.int0(box)\n",
    "            cv2.drawContours(img, [box], 0, (255, 255, 255),-1)\n",
    "    return img/255.\n",
    "\n",
    "def post_process(probability, threshold, min_size):\n",
    "    \"\"\"\n",
    "    Post processing of each predicted mask, components with lesser number of pixels\n",
    "    than `min_size` are ignored\n",
    "    \"\"\"\n",
    "    \n",
    "    mask = cv2.threshold(probability, threshold, 1, cv2.THRESH_BINARY)[1]\n",
    "    \n",
    "    num_component, component = cv2.connectedComponents(mask.astype(np.uint8))\n",
    "    predictions = np.zeros((384,576), np.float32)\n",
    "    num = 0\n",
    "    for c in range(1, num_component):\n",
    "        p = (component == c)\n",
    "        if p.sum() > min_size:\n",
    "            predictions[p] = 1\n",
    "            num += 1\n",
    "    return predictions, num\n",
    "\n",
    "def make_mask(df, image_label, cv_shape = (384,576),debug=False):\n",
    "    \"\"\"\n",
    "    Create mask based on df, image name and shape.\n",
    "    \"\"\"\n",
    "    if debug:\n",
    "        print(cv_shape)\n",
    "    df = df.set_index('Image_Label')\n",
    "    encoded_mask = df.loc[image_label, 'EncodedPixels']\n",
    "#     print('encode: ',encoded_mask[:10])\n",
    "    mask = np.zeros((384,576), dtype=np.float32)\n",
    "    if encoded_mask is not np.nan:\n",
    "        mask = rle2mask(encoded_mask,cv_shape) # original size\n",
    "            \n",
    "    return mask\n",
    "\n",
    "def np_resize(img, input_shape, graystyle=False):\n",
    "    \"\"\"\n",
    "    Reshape a numpy array, which is input_shape=(height, width), \n",
    "    as opposed to input_shape=(width, height) for cv2\n",
    "    \"\"\"\n",
    "\n",
    "    height, width = input_shape\n",
    "    resized_img = cv2.resize(img, (width, height))\n",
    "    \n",
    "    # keep dimension\n",
    "    if graystyle:\n",
    "        resized_img = resized_img[..., None]\n",
    "        \n",
    "    return resized_img\n",
    "\n",
    "def mask2rle(img):\n",
    "    '''\n",
    "    img: a mask image, numpy array, 1 - mask, 0 - background\n",
    "    Returns run length as string formated\n",
    "    \n",
    "    img.T.flatten()\n",
    "    image(width x height x channel), \n",
    "    from width -> height -> channel flatten a one dimension array \n",
    "    '''\n",
    "    pixels= img.T.flatten()\n",
    "    pixels = np.concatenate([[0], pixels, [0]])  # add 0 to the beginning and end of array\n",
    "    runs = np.where(pixels[1:] != pixels[:-1])[0] + 1\n",
    "    runs[1::2] -= runs[::2]\n",
    "    return ' '.join(str(x) for x in runs)\n",
    "\n",
    "def rle2mask(rle, input_shape):\n",
    "    width, height = input_shape[:2]\n",
    "    \n",
    "    mask= np.zeros( width*height ).astype(np.uint8)\n",
    "    \n",
    "    array = np.asarray([int(x) for x in rle.split()])\n",
    "    starts = array[0::2]\n",
    "    lengths = array[1::2]\n",
    "\n",
    "    current_position = 0\n",
    "    for index, start in enumerate(starts):\n",
    "        mask[int(start):int(start+lengths[index])] = 1\n",
    "        current_position += lengths[index]\n",
    "        \n",
    "    return mask.reshape(height, width).T\n",
    "\n",
    "def build_masks(rles, input_shape, reshape=None):\n",
    "    depth = len(rles)\n",
    "    \n",
    "    if reshape is None:\n",
    "        masks = np.zeros((*input_shape, depth))\n",
    "    else:\n",
    "        masks = np.zeros((*reshape, depth))\n",
    "    \n",
    "    for i, rle in enumerate(rles):\n",
    "        if type(rle) is str:\n",
    "            if reshape is None:\n",
    "                masks[:, :, i] = rle2mask(rle, input_shape)\n",
    "            else:\n",
    "                mask = rle2mask(rle, input_shape)\n",
    "                reshaped_mask = np_resize(mask, reshape)\n",
    "                masks[:, :, i] = reshaped_mask\n",
    "    \n",
    "    return masks\n",
    "\n",
    "def build_rles(masks, reshape=None):\n",
    "    width, height, depth = masks.shape\n",
    "    \n",
    "    rles = []\n",
    "    \n",
    "    for i in range(depth):\n",
    "        mask = masks[:, :, i]\n",
    "        \n",
    "        if reshape:\n",
    "            mask = mask.astype(np.float32)\n",
    "            mask = np_resize(mask, reshape).astype(np.int8)\n",
    "        \n",
    "        rle = mask2rle(mask) \n",
    "        rles.append(rle)\n",
    "        \n",
    "    return rles"
   ]
  },
  {
   "cell_type": "markdown",
   "metadata": {},
   "source": [
    "1. 아무 이미지를 가져온다.\n",
    "2. 해당 이미지의 라벨을 모폴로지컬 변환을 통해 보여준다.\n",
    "2. 해당 이미지를 예측해본다.\n",
    "3. 2. 간의 차이를 본다."
   ]
  },
  {
   "cell_type": "code",
   "execution_count": null,
   "metadata": {},
   "outputs": [],
   "source": []
  },
  {
   "cell_type": "code",
   "execution_count": null,
   "metadata": {},
   "outputs": [],
   "source": []
  },
  {
   "cell_type": "code",
   "execution_count": null,
   "metadata": {},
   "outputs": [],
   "source": []
  },
  {
   "cell_type": "code",
   "execution_count": null,
   "metadata": {},
   "outputs": [],
   "source": []
  },
  {
   "cell_type": "code",
   "execution_count": null,
   "metadata": {},
   "outputs": [],
   "source": []
  },
  {
   "cell_type": "code",
   "execution_count": null,
   "metadata": {},
   "outputs": [],
   "source": []
  },
  {
   "cell_type": "code",
   "execution_count": null,
   "metadata": {},
   "outputs": [],
   "source": []
  },
  {
   "cell_type": "code",
   "execution_count": null,
   "metadata": {},
   "outputs": [],
   "source": []
  },
  {
   "cell_type": "markdown",
   "metadata": {},
   "source": [
    "# Ablation Studies"
   ]
  },
  {
   "cell_type": "markdown",
   "metadata": {},
   "source": [
    "## Convex Hull and Self-supervised Learning"
   ]
  },
  {
   "cell_type": "markdown",
   "metadata": {},
   "source": [
    "1. 오리지널 이미지"
   ]
  },
  {
   "cell_type": "code",
   "execution_count": 106,
   "metadata": {},
   "outputs": [
    {
     "data": {
      "image/png": "[encoded data removed]",
      "text/plain": [
       "<Figure size 640x480 with 1 Axes>"
      ]
     },
     "metadata": {},
     "output_type": "display_data"
    }
   ],
   "source": [
    "image = cv2.imread('/tf/understanding_cloud_organization/train_images/0011165.jpg')\n",
    "image = cv2.resize(image, dsize = (576,384))\n",
    "plt.imshow(image)\n",
    "plt.show()"
   ]
  },
  {
   "cell_type": "markdown",
   "metadata": {},
   "source": [
    "2. 이미지의 라벨을 불러온다."
   ]
  },
  {
   "cell_type": "code",
   "execution_count": 168,
   "metadata": {},
   "outputs": [
    {
     "name": "stdout",
     "output_type": "stream",
     "text": [
      "라벨의 총 넓이는 86998입니다.\n"
     ]
    },
    {
     "data": {
      "image/png": "[encoded data removed]",
      "text/plain": [
       "<Figure size 640x480 with 1 Axes>"
      ]
     },
     "metadata": {},
     "output_type": "display_data"
    }
   ],
   "source": [
    "sub1 = rle2mask(train_df.iloc[1,1], input_shape = (1400, 2100))\n",
    "sub1 = np_resize(sub1, (384, 576))\n",
    "sub = np.stack((sub0,sub1,sub2,sub3), axis = -1)\n",
    "print(\"라벨의 총 넓이는 {}입니다.\".format(sub1.sum()))\n",
    "plt.imshow(sub1)\n",
    "plt.show()"
   ]
  },
  {
   "cell_type": "markdown",
   "metadata": {},
   "source": [
    "2. 이미지의 예측값을 본다. "
   ]
  },
  {
   "cell_type": "code",
   "execution_count": 108,
   "metadata": {},
   "outputs": [
    {
     "name": "stdout",
     "output_type": "stream",
     "text": [
      "1/1 [==============================] - 0s 17ms/step\n"
     ]
    },
    {
     "data": {
      "text/plain": [
       "(1, 384, 576, 4)"
      ]
     },
     "execution_count": 108,
     "metadata": {},
     "output_type": "execute_result"
    }
   ],
   "source": [
    "image = np.expand_dims(image, axis=0)\n",
    "predicted_label = model.predict(image)\n",
    "predicted_label.shape"
   ]
  },
  {
   "cell_type": "code",
   "execution_count": 171,
   "metadata": {},
   "outputs": [
    {
     "name": "stdout",
     "output_type": "stream",
     "text": [
      "예측값의 총 넓이는 541입니다. \n"
     ]
    },
    {
     "data": {
      "image/png": "[encoded data removed]",
      "text/plain": [
       "<Figure size 640x480 with 1 Axes>"
      ]
     },
     "metadata": {},
     "output_type": "display_data"
    }
   ],
   "source": [
    "#predicted_label[0,:,:,0].shape\n",
    "print(\"예측값의 총 넓이는 {}입니다. \".format((predicted_label[0,:,:,1]>0.5).sum()))\n",
    "plt.imshow(predicted_label[0,:,:,1] > 0.2, cmap = 'gray')\n",
    "plt.show()"
   ]
  },
  {
   "cell_type": "markdown",
   "metadata": {},
   "source": [
    "구름의 결과값이 Scatter되어있기 때문에, Post-process stage에서 Convex Hull Algorithm을 적용하면 성능이 향상될 것으로 예측됩니다."
   ]
  },
  {
   "cell_type": "code",
   "execution_count": 192,
   "metadata": {},
   "outputs": [
    {
     "name": "stdout",
     "output_type": "stream",
     "text": [
      "컨벡스Hull 적용한 예측값의 총 넓이는 541입니다. 참고로 이건 (label데이터가 있는) training dataset에 대해서 조사한거고 하나만 본거라... 정확하진 않음 오버피팅 문제가 있을수도 있음을 명시하시오.\n"
     ]
    },
    {
     "data": {
      "image/png": "[encoded data removed]",
      "text/plain": [
       "<Figure size 640x480 with 1 Axes>"
      ]
     },
     "metadata": {},
     "output_type": "display_data"
    }
   ],
   "source": [
    "cross = cv2.getStructuringElement(cv2.MORPH_CROSS, (3, 3))\n",
    "ellipse = cv2.getStructuringElement(cv2.MORPH_ELLIPSE, (7, 7))\n",
    "rect = cv2.getStructuringElement(cv2.MORPH_RECT, (7, 7))\n",
    "img = (predicted_label[0,:,:,1] > 0.2).astype('float32')\n",
    "#dil = cv2.dilate(img, cross, iterations=10)\n",
    "con = draw_convex_hull(dil.astype(np.uint8), mode='convex')\n",
    "print(\"컨벡스Hull 적용한 예측값의 총 넓이는 {}입니다. 참고로 이건 (label데이터가 있는) training dataset에 대해서 조사한거고 하나만 본거라... 정확하진 않음 오버피팅 문제가 있을수도 있음을 명시하시오.\".format((predicted_label[0,:,:,1]>0.5).sum()))\n",
    "plt.imshow(con)\n",
    "plt.show()"
   ]
  },
  {
   "cell_type": "markdown",
   "metadata": {},
   "source": [
    "--> Convex Hull 이후의 성능 개선이 미미한 이유는, 라벨의 이미지가 큰 사각형이라는 점을 이용할 수 없기 때문이라고 판단하였음. 때문에 Convex Hull 알고리즘의 대안으로, 위와 비슷한 이미지를 생성해낸 후, 이를 사각형의 큰 라벨로 바꾸는 모델을 학습시켜 Post-process에도 딥러닝을 적용시키는 방안에 대해 생각함."
   ]
  },
  {
   "cell_type": "markdown",
   "metadata": {},
   "source": [
    "## Idea: Self-Supervised Learning Methods를 통한 Label에 대한 Post-processing"
   ]
  },
  {
   "cell_type": "markdown",
   "metadata": {},
   "source": [
    "### Label에서 0.999%를 제거합니다."
   ]
  },
  {
   "cell_type": "code",
   "execution_count": 196,
   "metadata": {},
   "outputs": [
    {
     "data": {
      "image/png": "[encoded data removed]",
      "text/plain": [
       "<Figure size 640x480 with 1 Axes>"
      ]
     },
     "metadata": {},
     "output_type": "display_data"
    }
   ],
   "source": [
    "cross = cv2.getStructuringElement(cv2.MORPH_CROSS, (3, 3))\n",
    "ellipse = cv2.getStructuringElement(cv2.MORPH_ELLIPSE, (7, 7))\n",
    "rect = cv2.getStructuringElement(cv2.MORPH_RECT, (7, 7))\n",
    "modified_label = (np.multiply(sub1, np.random.random_sample((384,576))) > 0.999).astype('uint8')\n",
    "plt.imshow(modified_label)\n",
    "plt.show()"
   ]
  },
  {
   "cell_type": "markdown",
   "metadata": {},
   "source": [
    " Morphological dilation을 통해 원본을 복구함."
   ]
  },
  {
   "cell_type": "code",
   "execution_count": 197,
   "metadata": {},
   "outputs": [
    {
     "data": {
      "image/png": "[encoded data removed]",
      "text/plain": [
       "<Figure size 640x480 with 1 Axes>"
      ]
     },
     "metadata": {},
     "output_type": "display_data"
    }
   ],
   "source": [
    "modified_label = cv2.dilate(modified_label, cross, iterations=30)\n",
    "plt.imshow(modified_label)\n",
    "plt.show()"
   ]
  },
  {
   "cell_type": "markdown",
   "metadata": {},
   "source": [
    "Convex-Hull을 적용시키면 아래와 같은 사진이 등장함."
   ]
  },
  {
   "cell_type": "code",
   "execution_count": 198,
   "metadata": {},
   "outputs": [
    {
     "data": {
      "image/png": "[encoded data removed]",
      "text/plain": [
       "<Figure size 640x480 with 1 Axes>"
      ]
     },
     "metadata": {},
     "output_type": "display_data"
    }
   ],
   "source": [
    "modified_label = draw_convex_hull(modified_label, mode='convex')\n",
    "plt.imshow(modified_label)\n",
    "plt.show()"
   ]
  },
  {
   "cell_type": "code",
   "execution_count": null,
   "metadata": {},
   "outputs": [],
   "source": []
  },
  {
   "cell_type": "code",
   "execution_count": null,
   "metadata": {},
   "outputs": [],
   "source": []
  },
  {
   "cell_type": "code",
   "execution_count": null,
   "metadata": {},
   "outputs": [],
   "source": []
  },
  {
   "cell_type": "code",
   "execution_count": null,
   "metadata": {},
   "outputs": [],
   "source": []
  },
  {
   "cell_type": "code",
   "execution_count": null,
   "metadata": {},
   "outputs": [],
   "source": []
  },
  {
   "cell_type": "code",
   "execution_count": null,
   "metadata": {},
   "outputs": [],
   "source": []
  },
  {
   "cell_type": "markdown",
   "metadata": {
    "id": "C5eKHNz-VsPx",
    "tags": []
   },
   "source": [
    "## Evaluation"
   ]
  },
  {
   "cell_type": "code",
   "execution_count": 111,
   "metadata": {
    "id": "pXgrlqvtVsPx"
   },
   "outputs": [],
   "source": [
    "hist_df = pd.DataFrame(history.history) "
   ]
  },
  {
   "cell_type": "code",
   "execution_count": 118,
   "metadata": {},
   "outputs": [
    {
     "data": {
      "text/plain": [
       "loss             0.508718\n",
       "dice_coef        0.623382\n",
       "val_loss         0.727976\n",
       "val_dice_coef    0.562098\n",
       "lr               0.000500\n",
       "dtype: float64"
      ]
     },
     "execution_count": 118,
     "metadata": {},
     "output_type": "execute_result"
    }
   ],
   "source": [
    "hist_df.max()"
   ]
  },
  {
   "cell_type": "code",
   "execution_count": 115,
   "metadata": {
    "colab": {
     "base_uri": "https://localhost:8080/",
     "height": 279
    },
    "executionInfo": {
     "elapsed": 3,
     "status": "ok",
     "timestamp": 1669923209145,
     "user": {
      "displayName": "유도현",
      "userId": "00783759444100379662"
     },
     "user_tz": -540
    },
    "id": "690akjm41asb",
    "outputId": "43c9fac9-7da3-42d5-8367-84825d5adc05"
   },
   "outputs": [
    {
     "data": {
      "image/png": "[encoded data removed]",
      "text/plain": [
       "<Figure size 640x480 with 2 Axes>"
      ]
     },
     "metadata": {},
     "output_type": "display_data"
    }
   ],
   "source": [
    "fig, loss_ax = plt.subplots(1,2)\n",
    "\n",
    "loss_ax[0].plot(history.history['loss'], 'y', label='loss')\n",
    "loss_ax[0].plot(history.history['val_loss'], 'r', label='val loss')\n",
    "loss_ax[0].set_xlabel('epoch')\n",
    "loss_ax[0].set_ylabel('loss')\n",
    "loss_ax[0].legend(loc='upper right')\n",
    "\n",
    "loss_ax[1].plot(history.history['dice_coef'], 'b', label='dice_coef')\n",
    "loss_ax[1].plot(history.history['val_dice_coef'], 'g', label='val_dice_coef')\n",
    "loss_ax[1].set_ylabel('dice_coef')\n",
    "loss_ax[1].legend(loc='lower right')\n",
    "\n",
    "plt.show()"
   ]
  },
  {
   "cell_type": "markdown",
   "metadata": {
    "id": "lIJDU5XWVsPy",
    "tags": []
   },
   "source": [
    "## Predicting (using min_size post-processing)"
   ]
  },
  {
   "cell_type": "code",
   "execution_count": null,
   "metadata": {
    "executionInfo": {
     "elapsed": 631,
     "status": "ok",
     "timestamp": 1671176866584,
     "user": {
      "displayName": "유도현",
      "userId": "00783759444100379662"
     },
     "user_tz": -540
    },
    "id": "YNa_7c_MVsPy"
   },
   "outputs": [],
   "source": [
    "best_threshold = 0.5\n",
    "best_size = 15000  # 이것도 hyper parameter라 우리가 직접 바꿔가면서 테스트해봐야됨."
   ]
  },
  {
   "cell_type": "code",
   "execution_count": null,
   "metadata": {
    "executionInfo": {
     "elapsed": 1,
     "status": "ok",
     "timestamp": 1671176870059,
     "user": {
      "displayName": "유도현",
      "userId": "00783759444100379662"
     },
     "user_tz": -540
    },
    "id": "0hET-I6_VsPy"
   },
   "outputs": [],
   "source": [
    "def post_process(probability, threshold, min_size):\n",
    "    \"\"\"\n",
    "    Post processing of each predicted mask, components with lesser number of pixels\n",
    "    than `min_size` are ignored\n",
    "    \"\"\"\n",
    "    \n",
    "    mask = cv2.threshold(probability, threshold, 1, cv2.THRESH_BINARY)[1]\n",
    "    \n",
    "    num_component, component = cv2.connectedComponents(mask.astype(np.uint8))\n",
    "    predictions = np.zeros((350, 525), np.float32)\n",
    "    num = 0\n",
    "    for c in range(1, num_component):\n",
    "        p = (component == c)\n",
    "        if p.sum() > min_size:\n",
    "            predictions[p] = 1\n",
    "            num += 1\n",
    "    return predictions, num\n"
   ]
  },
  {
   "cell_type": "code",
   "execution_count": null,
   "metadata": {
    "executionInfo": {
     "elapsed": 2,
     "status": "ok",
     "timestamp": 1671176871646,
     "user": {
      "displayName": "유도현",
      "userId": "00783759444100379662"
     },
     "user_tz": -540
    },
    "id": "0zXVWVXZ4dY-"
   },
   "outputs": [],
   "source": [
    "def post_process2(probability, threshold, min_size):\n",
    "    \"\"\"\n",
    "    Post processing of each predicted mask, components with lesser number of pixels\n",
    "    than `min_size` are ignored\n",
    "    \"\"\"\n",
    "    \n",
    "    mask = cv2.threshold(probability, threshold, 1, cv2.THRESH_BINARY)[1]\n",
    "    \n",
    "    #num_component, component = cv2.connectedComponents(mask.astype(np.uint8))\n",
    "    #predictions = np.zeros((350, 525), np.float32)\n",
    "    #num = 0\n",
    "    #for c in range(1, num_component):\n",
    "        #p = (component == c)\n",
    "        #if p.sum() > min_size:\n",
    "            #predictions[p] = 1\n",
    "            #num += 1\n",
    "    return mask"
   ]
  },
  {
   "cell_type": "code",
   "execution_count": null,
   "metadata": {
    "id": "DW7K6CfqVsPy"
   },
   "outputs": [],
   "source": [
    "# sigmoid = lambda x: 1 / (1 + np.exp(-x))"
   ]
  },
  {
   "cell_type": "markdown",
   "metadata": {
    "id": "FIZStgpqVsPy"
   },
   "source": [
    "Predict output shape is (320,480,4). 4 is classes(Fish, Flower, Gravel, Surger)\n",
    "\n",
    "Using `pred_masks[...,k] ` or `pred_masks[:,:,k]` get one class of mask image."
   ]
  },
  {
   "cell_type": "code",
   "execution_count": null,
   "metadata": {
    "colab": {
     "base_uri": "https://localhost:8080/"
    },
    "executionInfo": {
     "elapsed": 284643,
     "status": "ok",
     "timestamp": 1671182348293,
     "user": {
      "displayName": "유도현",
      "userId": "00783759444100379662"
     },
     "user_tz": -540
    },
    "id": "t1wxhXwMVsPz",
    "outputId": "bec8ab7b-c743-4452-90ce-d78dce975add"
   },
   "outputs": [],
   "source": [
    "#model.load_weights('model.h5')\n",
    "test_df = []\n",
    "encoded_pixels = []\n",
    "TEST_BATCH_SIZE = 500\n",
    "\n",
    "for i in range(0, test_images.shape[0], TEST_BATCH_SIZE):\n",
    "    batch_idx = list(\n",
    "        range(i, min(test_images.shape[0], i + TEST_BATCH_SIZE))\n",
    "    )\n",
    "\n",
    "    test_generator = DataGenerator(\n",
    "        batch_idx,\n",
    "        df=test_images,\n",
    "        shuffle=False,\n",
    "        mode='predict',\n",
    "        dim=(350, 525),\n",
    "        reshape=(384, 576),\n",
    "        n_channels=3,\n",
    "        graystyle=False,\n",
    "        base_path=Hymynameis+'/understanding_cloud_organization/test_images',\n",
    "        target_df=submission_df,\n",
    "        batch_size=1,\n",
    "        n_classes=4\n",
    "    )\n",
    "\n",
    "    batch_pred_masks = model5.predict_generator(\n",
    "        test_generator, \n",
    "        workers=1,\n",
    "        verbose=1\n",
    "    ) \n",
    "    # Predict out put shape is (384X576X4)\n",
    "    # 4  = 4 classes, Fish, Flower, Gravel Surger.\n",
    "    \n",
    "    for j, idx in enumerate(batch_idx):\n",
    "        filename = test_images['ImageId'].iloc[idx]\n",
    "        image_df = submission_df[submission_df['ImageId'] == filename].copy()\n",
    "        \n",
    "        # Batch prediction result set\n",
    "        pred_masks = batch_pred_masks[j, ].round().astype(int)\n",
    "        pred_rles = build_rles(pred_masks, reshape=(350, 525))\n",
    "        \n",
    "        image_df['EncodedPixels'] = pred_rles\n",
    "        \n",
    "        test_df.append(image_df)\n",
    "        \n",
    "        \n",
    "        for k in range(pred_masks.shape[-1]):\n",
    "            pred_mask = pred_masks[...,k].astype('float32') \n",
    "            \n",
    "            if pred_mask.shape != (350, 525):\n",
    "                pred_mask = cv2.resize(pred_mask, dsize=(525, 350), interpolation=cv2.INTER_LINEAR)\n",
    "            \n",
    "            pred_mask = post_process2(pred_mask, best_threshold, best_size ) #여기부터 수정\n",
    "            \n",
    "            r = mask2rle(pred_mask)\n",
    "            encoded_pixels.append(r)\n",
    "        \"\"\"\n",
    "        # pred_rles = build_rles(pred_masks, reshape=(350, 525))\n",
    "\n",
    "            #image_df['EncodedPixels'] = encoded_pixels\n",
    "            #test_df.append(image_df)\n",
    "        \"\"\""
   ]
  },
  {
   "cell_type": "code",
   "execution_count": null,
   "metadata": {
    "id": "9Im6ONCz43KR"
   },
   "outputs": [],
   "source": [
    "            pred_mask, num_predict = post_process(pred_mask, best_threshold, best_size ) #수정\n",
    "            \n",
    "            if num_predict == 0:\n",
    "                encoded_pixels.append('')\n",
    "            else:\n",
    "                r = mask2rle(pred_mask)\n",
    "                encoded_pixels.append(r)"
   ]
  },
  {
   "cell_type": "code",
   "execution_count": null,
   "metadata": {
    "colab": {
     "base_uri": "https://localhost:8080/",
     "height": 677
    },
    "executionInfo": {
     "elapsed": 529,
     "status": "ok",
     "timestamp": 1671182363699,
     "user": {
      "displayName": "유도현",
      "userId": "00783759444100379662"
     },
     "user_tz": -540
    },
    "id": "HamZf1YvVsPz",
    "outputId": "c2ec1774-1279-407a-f9f6-c833238884a3"
   },
   "outputs": [],
   "source": [
    "submission_df['EncodedPixels'] = encoded_pixels\n",
    "submission_df.head(20)"
   ]
  },
  {
   "cell_type": "code",
   "execution_count": null,
   "metadata": {
    "colab": {
     "base_uri": "https://localhost:8080/"
    },
    "executionInfo": {
     "elapsed": 2,
     "status": "ok",
     "timestamp": 1671180494667,
     "user": {
      "displayName": "유도현",
      "userId": "00783759444100379662"
     },
     "user_tz": -540
    },
    "id": "4gBzqG3xGWe2",
    "outputId": "50a9e969-9127-4389-9a1b-93a5f1a48691"
   },
   "outputs": [],
   "source": [
    "cd /content/drive/MyDrive/Colab Notebooks"
   ]
  },
  {
   "cell_type": "code",
   "execution_count": null,
   "metadata": {
    "executionInfo": {
     "elapsed": 1333,
     "status": "ok",
     "timestamp": 1671182369746,
     "user": {
      "displayName": "유도현",
      "userId": "00783759444100379662"
     },
     "user_tz": -540
    },
    "id": "Cwg7WKlGOPch"
   },
   "outputs": [],
   "source": [
    "submission_df.to_csv('submission_mobile_nopost.csv', columns=['Image_Label', 'EncodedPixels'], index=False)"
   ]
  },
  {
   "cell_type": "markdown",
   "metadata": {
    "id": "SUVK7LvkVsPz"
   },
   "source": [
    "encoded_pixels"
   ]
  },
  {
   "cell_type": "code",
   "execution_count": null,
   "metadata": {
    "id": "4vCNyFzKVsPz"
   },
   "outputs": [],
   "source": [
    "#test_df = pd.concat(test_df)\n",
    "#test_df.drop(columns='ImageId', inplace=True)\n",
    "#test_df.to_csv('all_flower_submission.csv', index=False)"
   ]
  },
  {
   "cell_type": "markdown",
   "metadata": {
    "id": "GU47Bu97a1vP",
    "tags": []
   },
   "source": [
    "## Show segmentation masks (applying Convex-hull algorithm)"
   ]
  },
  {
   "cell_type": "code",
   "execution_count": null,
   "metadata": {
    "executionInfo": {
     "elapsed": 349,
     "status": "ok",
     "timestamp": 1671189433127,
     "user": {
      "displayName": "유도현",
      "userId": "00783759444100379662"
     },
     "user_tz": -540
    },
    "id": "SRiRkvv_sLQC"
   },
   "outputs": [],
   "source": [
    "sub = pd.read_csv(\"//drive/MyDrive/Colab Notebooks/submission_ensemble5_mobeffihrnet.csv\")"
   ]
  },
  {
   "cell_type": "code",
   "execution_count": null,
   "metadata": {
    "colab": {
     "base_uri": "https://localhost:8080/",
     "height": 206
    },
    "executionInfo": {
     "elapsed": 598,
     "status": "ok",
     "timestamp": 1671189436585,
     "user": {
      "displayName": "유도현",
      "userId": "00783759444100379662"
     },
     "user_tz": -540
    },
    "id": "53AgM8dCsY51",
    "outputId": "43cc2a09-a0e1-486d-9fb2-0018f7335799"
   },
   "outputs": [],
   "source": [
    "sub['ImageId'] = sub['Image_Label'].apply(lambda x : x.split('_')[0])\n",
    "sub.head()"
   ]
  },
  {
   "cell_type": "code",
   "execution_count": null,
   "metadata": {
    "colab": {
     "base_uri": "https://localhost:8080/"
    },
    "executionInfo": {
     "elapsed": 2,
     "status": "ok",
     "timestamp": 1671189438301,
     "user": {
      "displayName": "유도현",
      "userId": "00783759444100379662"
     },
     "user_tz": -540
    },
    "id": "YQVInRadtG2w",
    "outputId": "4a0bba9f-664d-45f4-ee6d-b2babd5fe7da"
   },
   "outputs": [],
   "source": [
    "import random\n",
    "\n",
    "test_images_ids = random.sample(list(sub['ImageId'].unique()), 2)\n",
    "test_images_ids"
   ]
  },
  {
   "cell_type": "code",
   "execution_count": null,
   "metadata": {
    "id": "7wAzjjOFTig3"
   },
   "outputs": [],
   "source": [
    "#test_images_ids = ['0038327.jpg', '004f759.jpg']"
   ]
  },
  {
   "cell_type": "code",
   "execution_count": null,
   "metadata": {
    "executionInfo": {
     "elapsed": 339,
     "status": "ok",
     "timestamp": 1671183941599,
     "user": {
      "displayName": "유도현",
      "userId": "00783759444100379662"
     },
     "user_tz": -540
    },
    "id": "Q8_Iv1ZvxiSQ"
   },
   "outputs": [],
   "source": [
    "def make_mask(df, image_label, cv_shape = (350, 525),debug=False):\n",
    "    \"\"\"\n",
    "    Create mask based on df, image name and shape.\n",
    "    \"\"\"\n",
    "    if debug:\n",
    "        print(cv_shape)\n",
    "    df = df.set_index('Image_Label')\n",
    "    encoded_mask = df.loc[image_label, 'EncodedPixels']\n",
    "#     print('encode: ',encoded_mask[:10])\n",
    "    mask = np.zeros((350, 525), dtype=np.float32)\n",
    "    if encoded_mask is not np.nan:\n",
    "        mask = rle2mask(encoded_mask,cv_shape) # original size\n",
    "            \n",
    "    return mask"
   ]
  },
  {
   "cell_type": "code",
   "execution_count": null,
   "metadata": {
    "executionInfo": {
     "elapsed": 1,
     "status": "ok",
     "timestamp": 1671183943071,
     "user": {
      "displayName": "유도현",
      "userId": "00783759444100379662"
     },
     "user_tz": -540
    },
    "id": "ZkMn4Udeq2Bg"
   },
   "outputs": [],
   "source": [
    "def show_image(image,figsize=None,title=None):\n",
    "    \n",
    "    if figsize is not None:\n",
    "        fig = plt.figure(figsize=figsize)\n",
    "#     else: # crash!!\n",
    "#         fig = plt.figure()\n",
    "        \n",
    "    if image.ndim == 2:\n",
    "        plt.imshow(image,cmap='gray')\n",
    "    else:\n",
    "        plt.imshow(image)\n",
    "        \n",
    "    if title is not None:\n",
    "        plt.title(title)\n",
    "        \n",
    "def show_Nimages(imgs,scale=1):\n",
    "\n",
    "    N=len(imgs)\n",
    "    fig = plt.figure(figsize=(25/scale, 16/scale))\n",
    "    for i, img in enumerate(imgs):\n",
    "        ax = fig.add_subplot(1, N, i + 1, xticks=[], yticks=[])\n",
    "        show_image(img)\n",
    "    plt.show()\n",
    "\n",
    "def draw_masks(img2,img_mask_list):\n",
    "    \n",
    "    img = img2.copy()\n",
    "    for ii in range(4): # for each of the 4 masks\n",
    "        color_mask = np.zeros(img2.shape)\n",
    "        temp_mask = np.ones([img2.shape[0],img2.shape[1]])*127./255.\n",
    "        temp_mask[img_mask_list[ii] == 0] = 0\n",
    "        if ii < 3: # use different color for each mask\n",
    "            color_mask[:,:,ii] = temp_mask\n",
    "        else:\n",
    "            color_mask[:,:,0],color_mask[:,:,1],color_mask[:,:,2] = temp_mask,temp_mask,temp_mask # broadcasting to 3 channels\n",
    "    \n",
    "        img += color_mask\n",
    "        \n",
    "    return img"
   ]
  },
  {
   "cell_type": "code",
   "execution_count": null,
   "metadata": {
    "executionInfo": {
     "elapsed": 1,
     "status": "ok",
     "timestamp": 1671183944736,
     "user": {
      "displayName": "유도현",
      "userId": "00783759444100379662"
     },
     "user_tz": -540
    },
    "id": "HK6lPRcBrH0a"
   },
   "outputs": [],
   "source": [
    "def draw_convex_hull(mask, mode='convex'):\n",
    "    \n",
    "    img = np.zeros(mask.shape)\n",
    "    contours, hier = cv2.findContours(mask, cv2.RETR_TREE, cv2.CHAIN_APPROX_SIMPLE)\n",
    "    \n",
    "    for c in contours:\n",
    "        if mode=='rect': # simple rectangle\n",
    "            x, y, w, h = cv2.boundingRect(c)\n",
    "            cv2.rectangle(img, (x, y), (x+w, y+h), (255, 255, 255), -1)\n",
    "        elif mode=='convex': # minimum convex hull\n",
    "            hull = cv2.convexHull(c)\n",
    "            cv2.drawContours(img, [hull], 0, (255, 255, 255),-1)\n",
    "        elif mode=='approx':\n",
    "            epsilon = 0.02*cv2.arcLength(c,True)\n",
    "            approx = cv2.approxPolyDP(c,epsilon,True)\n",
    "            cv2.drawContours(img, [approx], 0, (255, 255, 255),-1)\n",
    "        else: # minimum area rectangle\n",
    "            rect = cv2.minAreaRect(c)\n",
    "            box = cv2.boxPoints(rect)\n",
    "            box = np.int0(box)\n",
    "            cv2.drawContours(img, [box], 0, (255, 255, 255),-1)\n",
    "    return img/255."
   ]
  },
  {
   "cell_type": "code",
   "execution_count": null,
   "metadata": {
    "colab": {
     "base_uri": "https://localhost:8080/",
     "height": 1000
    },
    "executionInfo": {
     "elapsed": 3660,
     "status": "ok",
     "timestamp": 1671189445842,
     "user": {
      "displayName": "유도현",
      "userId": "00783759444100379662"
     },
     "user_tz": -540
    },
    "id": "XBmvjttfrcXa",
    "outputId": "51ef0aad-349a-4213-c37d-aa2c110e563e"
   },
   "outputs": [],
   "source": [
    "mode='convex' # choose from 'rect', 'min', 'convex' and 'approx'\n",
    "\n",
    "class_names = ['Fish', 'Flower', 'Gravel', 'Sugar']\n",
    "test_imgs_folder = Hymynameis+'/understanding_cloud_organization/test_images'\n",
    "NN=2\n",
    "folder_images=test_imgs_folder\n",
    "images_list = test_images_ids #os.listdir(folder_images)\n",
    "current_batch = images_list[0: NN]\n",
    "print(current_batch)\n",
    "\n",
    "for i, image_name in enumerate(current_batch):\n",
    "    path = os.path.join(folder_images, image_name)\n",
    "    print(path)\n",
    "    img = cv2.imread(path).astype(np.float32) # use already-resized ryches' dataset\n",
    "    img = np_resize(img, (350, 525))\n",
    "    print(img.max(), img.min())\n",
    "    img = img/255.\n",
    "    \n",
    "    img2 = cv2.cvtColor(img, cv2.COLOR_BGR2GRAY)\n",
    "    img2 = np.stack([img2,img2,img2],axis=-1)\n",
    "         \n",
    "    img_mask=[]\n",
    "    img_mask_convex=[]\n",
    "    \n",
    "    for class_id in range(4):\n",
    "        img_mask.append(make_mask(sub, image_name + '_' + class_names[class_id],\n",
    "                                  cv_shape = (350, 525)))\n",
    "        print(img_mask[class_id].min(), img_mask[class_id].max())\n",
    "        img_mask_convex.append(draw_convex_hull(img_mask[class_id].astype(np.uint8), mode=mode))\n",
    "        img_mask_convex[class_id][img2[:,:,0]<=2/255.] = 0\n",
    "    \n",
    "    img3 = draw_masks(img2,img_mask)\n",
    "    img4 = draw_masks(img2,img_mask_convex)\n",
    "    show_Nimages([img2,img3,img4])\n",
    "    show_Nimages(img_mask)\n",
    "#     show_Nimages([img2]+img_mask_convex)\n",
    "    show_Nimages(img_mask_convex)"
   ]
  },
  {
   "cell_type": "markdown",
   "metadata": {
    "id": "QJRmIV0u6uLu",
    "tags": []
   },
   "source": [
    "## Final Prediction using convex hull\n",
    "- 앙상블한 결과도 이 코드 적용시켜야됨."
   ]
  },
  {
   "cell_type": "code",
   "execution_count": null,
   "metadata": {
    "colab": {
     "base_uri": "https://localhost:8080/",
     "height": 49,
     "referenced_widgets": [
      "972f26934f3148b2ab5131094091efca",
      "bcef286800494504b14101cf10e84ece",
      "fde2cb3ce6ee402e9ef93cd8385c3325",
      "fa3c0621f4cb47f8a8fb6cd845704ffb",
      "9911c60d30684102a20ad52f657482d8",
      "91ad2e448e99444aa9d73f15b250c769",
      "a76b3a0111cf49749ac5bc1d65dfc176",
      "176fdb31626d4238ba1b9bf40479a2d7",
      "4576d93132d14375ac886784af3edd03",
      "9ea3853700c64c53856f84132e41a2dd",
      "cf42b65e05dc498fade964149c7cf8ec"
     ]
    },
    "executionInfo": {
     "elapsed": 863469,
     "status": "ok",
     "timestamp": 1671190317358,
     "user": {
      "displayName": "유도현",
      "userId": "00783759444100379662"
     },
     "user_tz": -540
    },
    "id": "RK_ZlQ9B68fl",
    "outputId": "cbe19a50-e639-4f43-e5aa-e98676396b2b"
   },
   "outputs": [],
   "source": [
    "model_class_names=['Fish', 'Flower', 'Gravel', 'Sugar']\n",
    "mode='convex' # choose from 'rect', 'min', 'convex' and 'approx'\n",
    "\n",
    "img_label_list = []\n",
    "enc_pixels_list = []\n",
    "test_imgs = os.listdir(folder_images)\n",
    "for test_img_i, test_img in enumerate(tqdm(test_imgs)):\n",
    "    for class_i, class_name in enumerate(model_class_names):\n",
    "        \n",
    "        path = os.path.join(folder_images, test_img)\n",
    "        img = cv2.imread(path).astype(np.float32)\n",
    "        img = np_resize(img, (350, 525))\n",
    "        img = img/255.\n",
    "        img2 = cv2.cvtColor(img, cv2.COLOR_BGR2GRAY)\n",
    "        \n",
    "        img_label_list.append(f'{test_img}_{class_name}')\n",
    "        \n",
    "        mask = make_mask(sub, test_img + '_' + class_name, cv_shape=(350,525))\n",
    "        if True:\n",
    "        #if class_name == 'Flower' or class_name =='Sugar': # you can decide to post-process for some certain classes \n",
    "            mask = draw_convex_hull(mask.astype(np.uint8), mode=mode)\n",
    "        mask[img2<=2/255.] = 0\n",
    "        mask, num_predict = post_process(mask, best_threshold, best_size)\n",
    "        \n",
    "        if mask.sum() == 0:\n",
    "            enc_pixels_list.append('')\n",
    "        else:\n",
    "            enc_pixels_list.append(mask2rle(mask))\n",
    "            \n",
    "submission_df2 = pd.DataFrame({'Image_Label': img_label_list, 'EncodedPixels': enc_pixels_list})"
   ]
  },
  {
   "cell_type": "code",
   "execution_count": null,
   "metadata": {
    "colab": {
     "base_uri": "https://localhost:8080/",
     "height": 677
    },
    "executionInfo": {
     "elapsed": 357,
     "status": "ok",
     "timestamp": 1671190330567,
     "user": {
      "displayName": "유도현",
      "userId": "00783759444100379662"
     },
     "user_tz": -540
    },
    "id": "l8kSb4kBOdEM",
    "outputId": "bbfc092a-e2b3-4b5c-c276-6704d7f52f09"
   },
   "outputs": [],
   "source": [
    "submission_df2.sort_values(by='Image_Label').head(20)"
   ]
  },
  {
   "cell_type": "markdown",
   "metadata": {
    "id": "G0_34uutRo7P"
   },
   "source": [
    "- check if it has been processed correctly"
   ]
  },
  {
   "cell_type": "code",
   "execution_count": null,
   "metadata": {
    "id": "iQcDVlJ7Rzx-"
   },
   "outputs": [],
   "source": [
    "submission_df2['ImageId'] = submission_df2['Image_Label'].apply(lambda x : x.split('_')[0])"
   ]
  },
  {
   "cell_type": "code",
   "execution_count": null,
   "metadata": {
    "colab": {
     "base_uri": "https://localhost:8080/"
    },
    "executionInfo": {
     "elapsed": 2,
     "status": "ok",
     "timestamp": 1669630227514,
     "user": {
      "displayName": "유도현",
      "userId": "00783759444100379662"
     },
     "user_tz": -540
    },
    "id": "RjO0BihbSF1C",
    "outputId": "2b524bc1-2b27-4a98-9838-1a8a0b07f2fe"
   },
   "outputs": [],
   "source": [
    "test_images_ids = random.sample(list(submission_df2['ImageId'].unique()), 2)\n",
    "test_images_ids"
   ]
  },
  {
   "cell_type": "code",
   "execution_count": null,
   "metadata": {
    "id": "DY_5xqAYgP3N"
   },
   "outputs": [],
   "source": [
    "# test_images_ids = ['0038327.jpg', '004f759.jpg']"
   ]
  },
  {
   "cell_type": "code",
   "execution_count": null,
   "metadata": {
    "colab": {
     "base_uri": "https://localhost:8080/",
     "height": 1000
    },
    "executionInfo": {
     "elapsed": 3077,
     "status": "ok",
     "timestamp": 1669630235644,
     "user": {
      "displayName": "유도현",
      "userId": "00783759444100379662"
     },
     "user_tz": -540
    },
    "id": "bXDrDhAsSHN9",
    "outputId": "4461b274-01ae-4ec2-ca10-b0aaf545826f"
   },
   "outputs": [],
   "source": [
    "mode='convex' # choose from 'rect', 'min', 'convex' and 'approx'\n",
    "\n",
    "class_names = ['Fish', 'Flower', 'Gravel', 'Sugar']\n",
    "test_imgs_folder = Hymynameis+'/understanding_cloud_organization/test_images'\n",
    "NN=2\n",
    "folder_images=test_imgs_folder\n",
    "images_list = test_images_ids #os.listdir(folder_images)\n",
    "current_batch = images_list[0: NN]\n",
    "print(current_batch)\n",
    "\n",
    "for i, image_name in enumerate(current_batch):\n",
    "    path = os.path.join(folder_images, image_name)\n",
    "    print(path)\n",
    "    img = cv2.imread(path).astype(np.float32) # use already-resized ryches' dataset\n",
    "    img = np_resize(img, (350, 525))\n",
    "    print(img.max(), img.min())\n",
    "    img = img/255.\n",
    "    \n",
    "    img2 = cv2.cvtColor(img, cv2.COLOR_BGR2GRAY)\n",
    "    img2 = np.stack([img2,img2,img2],axis=-1)\n",
    "    \n",
    "    mode='convex'\n",
    "    img_mask=[]\n",
    "    img_mask_convex=[]\n",
    "    for class_id in range(4):\n",
    "        img_mask.append(make_mask(submission_df2, image_name + '_' + class_names[class_id],\n",
    "                                  cv_shape = (350, 525)))\n",
    "        img_mask_convex.append(draw_convex_hull(img_mask[class_id].astype(np.uint8), mode=mode))\n",
    "        img_mask_convex[class_id][img2[:,:,0]<=2/255.] = 0\n"
   ]
  },
  {
   "cell_type": "markdown",
   "metadata": {
    "id": "yYfHv21ESK-i"
   },
   "source": [
    "- final output"
   ]
  },
  {
   "cell_type": "code",
   "execution_count": null,
   "metadata": {
    "executionInfo": {
     "elapsed": 1096,
     "status": "ok",
     "timestamp": 1671190342085,
     "user": {
      "displayName": "유도현",
      "userId": "00783759444100379662"
     },
     "user_tz": -540
    },
    "id": "p6ZtG-aUOfG_"
   },
   "outputs": [],
   "source": [
    "submission_df2.sort_values(by='Image_Label').to_csv('submission_ensemble5_convex.csv', columns=['Image_Label', 'EncodedPixels'], index=False)"
   ]
  },
  {
   "cell_type": "markdown",
   "metadata": {
    "id": "hK4dAnDsakzx",
    "tags": []
   },
   "source": [
    "## Ensemble"
   ]
  },
  {
   "cell_type": "code",
   "execution_count": null,
   "metadata": {
    "id": "XJtesXrraqlu"
   },
   "outputs": [],
   "source": [
    "# hrnet : private 0.63032\n",
    "model1 = tf.keras.models.load_model(Hymynameis+'/understanding_cloud_organization/hrnet.h5', custom_objects={'bce_dice_loss': bce_dice_loss, 'dice_coef' : dice_coef})\n",
    "# efficientnetb1 + unet : private 0.64324\n",
    "model2 = tf.keras.models.load_model(Hymynameis+'/understanding_cloud_organization/effb1unet.h5', compile=False)\n",
    "# resnet50 + deeplabv3+ : private 0.5792\n",
    "model3 = tf.keras.models.load_model(Hymynameis+'/understanding_cloud_organization/deeplab.h5', custom_objects={'bce_dice_loss': bce_dice_loss, 'dice_coef' : dice_coef})"
   ]
  },
  {
   "cell_type": "code",
   "execution_count": null,
   "metadata": {
    "colab": {
     "base_uri": "https://localhost:8080/"
    },
    "executionInfo": {
     "elapsed": 753787,
     "status": "ok",
     "timestamp": 1671189127222,
     "user": {
      "displayName": "유도현",
      "userId": "00783759444100379662"
     },
     "user_tz": -540
    },
    "id": "Ihcnem7PapEM",
    "outputId": "05c3b6c0-2b7e-4a36-f1a4-09912f50cc9f"
   },
   "outputs": [],
   "source": [
    "#model.load_weights('model.h5')\n",
    "test_df = []\n",
    "encoded_pixels = []\n",
    "TEST_BATCH_SIZE = 500\n",
    "\n",
    "for i in range(0, test_images.shape[0], TEST_BATCH_SIZE):\n",
    "    batch_idx = list(\n",
    "        range(i, min(test_images.shape[0], i + TEST_BATCH_SIZE))\n",
    "    )\n",
    "\n",
    "    test_generator = DataGenerator(\n",
    "        batch_idx,\n",
    "        df=test_images,\n",
    "        shuffle=False,\n",
    "        mode='predict',\n",
    "        dim=(350, 525),\n",
    "        reshape=(384, 576),\n",
    "        n_channels=3,\n",
    "        graystyle=False,\n",
    "        base_path=Hymynameis+'/understanding_cloud_organization/test_images',\n",
    "        target_df=submission_df,\n",
    "        batch_size=1,\n",
    "        n_classes=4\n",
    "    )\n",
    "\n",
    "    batch_pred_mask1 = model.predict_generator(\n",
    "        test_generator, \n",
    "        workers=1,\n",
    "        verbose=1\n",
    "    ) \n",
    "\n",
    "    batch_pred_mask2 = model3.predict_generator(\n",
    "        test_generator, \n",
    "        workers=1,\n",
    "        verbose=1\n",
    "    )\n",
    "\n",
    "    batch_pred_mask3 = model5.predict_generator(\n",
    "        test_generator, \n",
    "        workers=1,\n",
    "        verbose=1\n",
    "    ) \n",
    "\n",
    "    batch_pred_masks = (batch_pred_mask1 + batch_pred_mask2 + batch_pred_mask3) / 3\n",
    "\n",
    "    # Predict out put shape is (384X576X4)\n",
    "    # 4  = 4 classes, Fish, Flower, Gravel Surger.\n",
    "    \n",
    "    for j, idx in enumerate(batch_idx):\n",
    "        filename = test_images['ImageId'].iloc[idx]\n",
    "        image_df = submission_df[submission_df['ImageId'] == filename].copy()\n",
    "        \n",
    "        # Batch prediction result set\n",
    "        pred_masks = batch_pred_masks[j, ].round().astype(int)\n",
    "        pred_rles = build_rles(pred_masks, reshape=(350, 525))\n",
    "        \n",
    "        image_df['EncodedPixels'] = pred_rles\n",
    "        \n",
    "        test_df.append(image_df)\n",
    "        \n",
    "        \n",
    "        for k in range(pred_masks.shape[-1]):\n",
    "            pred_mask = pred_masks[...,k].astype('float32') \n",
    "            \n",
    "            if pred_mask.shape != (350, 525):\n",
    "                pred_mask = cv2.resize(pred_mask, dsize=(525, 350), interpolation=cv2.INTER_LINEAR)\n",
    "            \n",
    "            pred_mask, num_predict = post_process(pred_mask, best_threshold, best_size )\n",
    "            \n",
    "            if num_predict == 0:\n",
    "                encoded_pixels.append('')\n",
    "            else:\n",
    "                r = mask2rle(pred_mask)\n",
    "                encoded_pixels.append(r)\n",
    "        \"\"\"\n",
    "        # pred_rles = build_rles(pred_masks, reshape=(350, 525))\n",
    "\n",
    "            #image_df['EncodedPixels'] = encoded_pixels\n",
    "            #test_df.append(image_df)\n",
    "        \"\"\""
   ]
  },
  {
   "cell_type": "code",
   "execution_count": null,
   "metadata": {
    "colab": {
     "base_uri": "https://localhost:8080/",
     "height": 677
    },
    "executionInfo": {
     "elapsed": 549,
     "status": "ok",
     "timestamp": 1671189339813,
     "user": {
      "displayName": "유도현",
      "userId": "00783759444100379662"
     },
     "user_tz": -540
    },
    "id": "y_ZTGMxYfFXL",
    "outputId": "bfe4812d-54cf-4b97-8d56-d233e653f344"
   },
   "outputs": [],
   "source": [
    "submission_df['EncodedPixels'] = encoded_pixels\n",
    "submission_df.head(20)"
   ]
  },
  {
   "cell_type": "code",
   "execution_count": null,
   "metadata": {
    "colab": {
     "base_uri": "https://localhost:8080/"
    },
    "executionInfo": {
     "elapsed": 344,
     "status": "ok",
     "timestamp": 1671186929290,
     "user": {
      "displayName": "유도현",
      "userId": "00783759444100379662"
     },
     "user_tz": -540
    },
    "id": "6SQ6jomAoNa3",
    "outputId": "3302e714-8859-42a5-e606-a235e9b9a8dd"
   },
   "outputs": [],
   "source": [
    "cd /content/drive/MyDrive/Colab Notebooks"
   ]
  },
  {
   "cell_type": "code",
   "execution_count": null,
   "metadata": {
    "executionInfo": {
     "elapsed": 906,
     "status": "ok",
     "timestamp": 1671189371937,
     "user": {
      "displayName": "유도현",
      "userId": "00783759444100379662"
     },
     "user_tz": -540
    },
    "id": "ETpchbGBibdO"
   },
   "outputs": [],
   "source": [
    "submission_df.to_csv('submission_ensemble5_mobeffihrnet.csv', columns=['Image_Label', 'EncodedPixels'], index=False)"
   ]
  },
  {
   "cell_type": "markdown",
   "metadata": {
    "id": "YBW1uq0Lpz6e"
   },
   "source": [
    "- [Ensemble 1]\n",
    "-\n",
    "- Model : (EfficientNetB1 + Unet) + (HRNetV2)\n",
    "- Method : Average; (fitted value of Unet + fitted value of HRNet) / 2 ---> soft voting??\n",
    "- Score : 0.64625 (private), 0.652 (public)\n",
    "- Applying convex hull : 0.64699 (private), 0.65268 (public)\n",
    "- Rank : #338 (private)"
   ]
  },
  {
   "cell_type": "markdown",
   "metadata": {
    "id": "JiGZHbVdPvPr"
   },
   "source": [
    "- [Ensemble 2]\n",
    "-\n",
    "- Model : (EfficientNetB1 + Unet) + (HRNetV2) + (Resnet50 + DeeplabV3+)\n",
    "- Method : Average ---> soft voting??\n",
    "- Score : 0.63954 (private), 0.64481 (public)\n",
    "- Applying convex hull : 0.64052 (private), 0.64564 (public)"
   ]
  },
  {
   "cell_type": "markdown",
   "metadata": {
    "id": "2Msu2GSrKF72"
   },
   "source": [
    "## Check the classification results"
   ]
  },
  {
   "cell_type": "code",
   "execution_count": null,
   "metadata": {
    "id": "d6qrNzQZKNHV"
   },
   "outputs": [],
   "source": [
    "#hrnet\n",
    "sub1 = pd.read_csv(\"/content/drive/MyDrive/Colab Notebooks/submission_notsig.csv\")\n",
    "#efficientnetb1 + unet\n",
    "sub2 = pd.read_csv(\"/content/drive/MyDrive/Colab Notebooks/submission_effiunet_area.csv\")\n",
    "#resnet50 + deeplabv3+\n",
    "sub3 = pd.read_csv(\"/content/drive/MyDrive/Colab Notebooks/submission_deeplabv3_unmask.csv\")"
   ]
  },
  {
   "cell_type": "code",
   "execution_count": null,
   "metadata": {
    "colab": {
     "base_uri": "https://localhost:8080/",
     "height": 206
    },
    "executionInfo": {
     "elapsed": 341,
     "status": "ok",
     "timestamp": 1669873636375,
     "user": {
      "displayName": "유도현",
      "userId": "00783759444100379662"
     },
     "user_tz": -540
    },
    "id": "KN1Jf6xMMoR6",
    "outputId": "8c8f3ee1-ce62-40e2-88e2-156f4472d50e"
   },
   "outputs": [],
   "source": [
    "sub1.head()"
   ]
  },
  {
   "cell_type": "code",
   "execution_count": null,
   "metadata": {
    "colab": {
     "base_uri": "https://localhost:8080/"
    },
    "executionInfo": {
     "elapsed": 392,
     "status": "ok",
     "timestamp": 1669873831939,
     "user": {
      "displayName": "유도현",
      "userId": "00783759444100379662"
     },
     "user_tz": -540
    },
    "id": "mRKw7UuFMQau",
    "outputId": "f3d33ca0-34b6-449e-fe4b-ab668d020a3d"
   },
   "outputs": [],
   "source": [
    "data = [sub1, sub2, sub3]\n",
    "\n",
    "for d in data :\n",
    "  d['Label'] = d['Image_Label'].str.split(\"_\", n = 1, expand = True)[1]\n",
    "  d['Image'] = d['Image_Label'].str.split(\"_\", n = 1, expand = True)[0]\n",
    "  \n",
    "  print(\"Results: \")\n",
    "  print(d[(d.Label == 'Fish')&(d.EncodedPixels.notnull())]['Image'].count())\n",
    "  print(d[(d.Label == 'Sugar')&(d.EncodedPixels.notnull())]['Image'].count())\n",
    "  print(d[(d.Label == 'Gravel')&(d.EncodedPixels.notnull())]['Image'].count())\n",
    "  print(d[(d.Label == 'Flower')&(d.EncodedPixels.notnull())]['Image'].count())\n",
    "  print(\"\\n\")"
   ]
  }
 ],
 "metadata": {
  "accelerator": "GPU",
  "colab": {
   "machine_shape": "hm",
   "provenance": [
    {
     "file_id": "1fR9pRooVITBFj8iK9hG69zz-SY2LKNWm",
     "timestamp": 1667647348941
    }
   ]
  },
  "gpuClass": "standard",
  "kernelspec": {
   "display_name": "Python 3 (ipykernel)",
   "language": "python",
   "name": "python3"
  },
  "language_info": {
   "codemirror_mode": {
    "name": "ipython",
    "version": 3
   },
   "file_extension": ".py",
   "mimetype": "text/x-python",
   "name": "python",
   "nbconvert_exporter": "python",
   "pygments_lexer": "ipython3",
   "version": "3.11.0"
  },
  "widgets": {
   "application/vnd.jupyter.widget-state+json": {
    "176fdb31626d4238ba1b9bf40479a2d7": {
     "model_module": "@jupyter-widgets/base",
     "model_module_version": "1.2.0",
     "model_name": "LayoutModel",
     "state": {
      "_model_module": "@jupyter-widgets/base",
      "_model_module_version": "1.2.0",
      "_model_name": "LayoutModel",
      "_view_count": null,
      "_view_module": "@jupyter-widgets/base",
      "_view_module_version": "1.2.0",
      "_view_name": "LayoutView",
      "align_content": null,
      "align_items": null,
      "align_self": null,
      "border": null,
      "bottom": null,
      "display": null,
      "flex": null,
      "flex_flow": null,
      "grid_area": null,
      "grid_auto_columns": null,
      "grid_auto_flow": null,
      "grid_auto_rows": null,
      "grid_column": null,
      "grid_gap": null,
      "grid_row": null,
      "grid_template_areas": null,
      "grid_template_columns": null,
      "grid_template_rows": null,
      "height": null,
      "justify_content": null,
      "justify_items": null,
      "left": null,
      "margin": null,
      "max_height": null,
      "max_width": null,
      "min_height": null,
      "min_width": null,
      "object_fit": null,
      "object_position": null,
      "order": null,
      "overflow": null,
      "overflow_x": null,
      "overflow_y": null,
      "padding": null,
      "right": null,
      "top": null,
      "visibility": null,
      "width": null
     }
    },
    "4576d93132d14375ac886784af3edd03": {
     "model_module": "@jupyter-widgets/controls",
     "model_module_version": "1.5.0",
     "model_name": "ProgressStyleModel",
     "state": {
      "_model_module": "@jupyter-widgets/controls",
      "_model_module_version": "1.5.0",
      "_model_name": "ProgressStyleModel",
      "_view_count": null,
      "_view_module": "@jupyter-widgets/base",
      "_view_module_version": "1.2.0",
      "_view_name": "StyleView",
      "bar_color": null,
      "description_width": ""
     }
    },
    "91ad2e448e99444aa9d73f15b250c769": {
     "model_module": "@jupyter-widgets/base",
     "model_module_version": "1.2.0",
     "model_name": "LayoutModel",
     "state": {
      "_model_module": "@jupyter-widgets/base",
      "_model_module_version": "1.2.0",
      "_model_name": "LayoutModel",
      "_view_count": null,
      "_view_module": "@jupyter-widgets/base",
      "_view_module_version": "1.2.0",
      "_view_name": "LayoutView",
      "align_content": null,
      "align_items": null,
      "align_self": null,
      "border": null,
      "bottom": null,
      "display": null,
      "flex": null,
      "flex_flow": null,
      "grid_area": null,
      "grid_auto_columns": null,
      "grid_auto_flow": null,
      "grid_auto_rows": null,
      "grid_column": null,
      "grid_gap": null,
      "grid_row": null,
      "grid_template_areas": null,
      "grid_template_columns": null,
      "grid_template_rows": null,
      "height": null,
      "justify_content": null,
      "justify_items": null,
      "left": null,
      "margin": null,
      "max_height": null,
      "max_width": null,
      "min_height": null,
      "min_width": null,
      "object_fit": null,
      "object_position": null,
      "order": null,
      "overflow": null,
      "overflow_x": null,
      "overflow_y": null,
      "padding": null,
      "right": null,
      "top": null,
      "visibility": null,
      "width": null
     }
    },
    "972f26934f3148b2ab5131094091efca": {
     "model_module": "@jupyter-widgets/controls",
     "model_module_version": "1.5.0",
     "model_name": "HBoxModel",
     "state": {
      "_dom_classes": [],
      "_model_module": "@jupyter-widgets/controls",
      "_model_module_version": "1.5.0",
      "_model_name": "HBoxModel",
      "_view_count": null,
      "_view_module": "@jupyter-widgets/controls",
      "_view_module_version": "1.5.0",
      "_view_name": "HBoxView",
      "box_style": "",
      "children": [
       "IPY_MODEL_bcef286800494504b14101cf10e84ece",
       "IPY_MODEL_fde2cb3ce6ee402e9ef93cd8385c3325",
       "IPY_MODEL_fa3c0621f4cb47f8a8fb6cd845704ffb"
      ],
      "layout": "IPY_MODEL_9911c60d30684102a20ad52f657482d8"
     }
    },
    "9911c60d30684102a20ad52f657482d8": {
     "model_module": "@jupyter-widgets/base",
     "model_module_version": "1.2.0",
     "model_name": "LayoutModel",
     "state": {
      "_model_module": "@jupyter-widgets/base",
      "_model_module_version": "1.2.0",
      "_model_name": "LayoutModel",
      "_view_count": null,
      "_view_module": "@jupyter-widgets/base",
      "_view_module_version": "1.2.0",
      "_view_name": "LayoutView",
      "align_content": null,
      "align_items": null,
      "align_self": null,
      "border": null,
      "bottom": null,
      "display": null,
      "flex": null,
      "flex_flow": null,
      "grid_area": null,
      "grid_auto_columns": null,
      "grid_auto_flow": null,
      "grid_auto_rows": null,
      "grid_column": null,
      "grid_gap": null,
      "grid_row": null,
      "grid_template_areas": null,
      "grid_template_columns": null,
      "grid_template_rows": null,
      "height": null,
      "justify_content": null,
      "justify_items": null,
      "left": null,
      "margin": null,
      "max_height": null,
      "max_width": null,
      "min_height": null,
      "min_width": null,
      "object_fit": null,
      "object_position": null,
      "order": null,
      "overflow": null,
      "overflow_x": null,
      "overflow_y": null,
      "padding": null,
      "right": null,
      "top": null,
      "visibility": null,
      "width": null
     }
    },
    "9ea3853700c64c53856f84132e41a2dd": {
     "model_module": "@jupyter-widgets/base",
     "model_module_version": "1.2.0",
     "model_name": "LayoutModel",
     "state": {
      "_model_module": "@jupyter-widgets/base",
      "_model_module_version": "1.2.0",
      "_model_name": "LayoutModel",
      "_view_count": null,
      "_view_module": "@jupyter-widgets/base",
      "_view_module_version": "1.2.0",
      "_view_name": "LayoutView",
      "align_content": null,
      "align_items": null,
      "align_self": null,
      "border": null,
      "bottom": null,
      "display": null,
      "flex": null,
      "flex_flow": null,
      "grid_area": null,
      "grid_auto_columns": null,
      "grid_auto_flow": null,
      "grid_auto_rows": null,
      "grid_column": null,
      "grid_gap": null,
      "grid_row": null,
      "grid_template_areas": null,
      "grid_template_columns": null,
      "grid_template_rows": null,
      "height": null,
      "justify_content": null,
      "justify_items": null,
      "left": null,
      "margin": null,
      "max_height": null,
      "max_width": null,
      "min_height": null,
      "min_width": null,
      "object_fit": null,
      "object_position": null,
      "order": null,
      "overflow": null,
      "overflow_x": null,
      "overflow_y": null,
      "padding": null,
      "right": null,
      "top": null,
      "visibility": null,
      "width": null
     }
    },
    "a76b3a0111cf49749ac5bc1d65dfc176": {
     "model_module": "@jupyter-widgets/controls",
     "model_module_version": "1.5.0",
     "model_name": "DescriptionStyleModel",
     "state": {
      "_model_module": "@jupyter-widgets/controls",
      "_model_module_version": "1.5.0",
      "_model_name": "DescriptionStyleModel",
      "_view_count": null,
      "_view_module": "@jupyter-widgets/base",
      "_view_module_version": "1.2.0",
      "_view_name": "StyleView",
      "description_width": ""
     }
    },
    "bcef286800494504b14101cf10e84ece": {
     "model_module": "@jupyter-widgets/controls",
     "model_module_version": "1.5.0",
     "model_name": "HTMLModel",
     "state": {
      "_dom_classes": [],
      "_model_module": "@jupyter-widgets/controls",
      "_model_module_version": "1.5.0",
      "_model_name": "HTMLModel",
      "_view_count": null,
      "_view_module": "@jupyter-widgets/controls",
      "_view_module_version": "1.5.0",
      "_view_name": "HTMLView",
      "description": "",
      "description_tooltip": null,
      "layout": "IPY_MODEL_91ad2e448e99444aa9d73f15b250c769",
      "placeholder": "​",
      "style": "IPY_MODEL_a76b3a0111cf49749ac5bc1d65dfc176",
      "value": "100%"
     }
    },
    "cf42b65e05dc498fade964149c7cf8ec": {
     "model_module": "@jupyter-widgets/controls",
     "model_module_version": "1.5.0",
     "model_name": "DescriptionStyleModel",
     "state": {
      "_model_module": "@jupyter-widgets/controls",
      "_model_module_version": "1.5.0",
      "_model_name": "DescriptionStyleModel",
      "_view_count": null,
      "_view_module": "@jupyter-widgets/base",
      "_view_module_version": "1.2.0",
      "_view_name": "StyleView",
      "description_width": ""
     }
    },
    "fa3c0621f4cb47f8a8fb6cd845704ffb": {
     "model_module": "@jupyter-widgets/controls",
     "model_module_version": "1.5.0",
     "model_name": "HTMLModel",
     "state": {
      "_dom_classes": [],
      "_model_module": "@jupyter-widgets/controls",
      "_model_module_version": "1.5.0",
      "_model_name": "HTMLModel",
      "_view_count": null,
      "_view_module": "@jupyter-widgets/controls",
      "_view_module_version": "1.5.0",
      "_view_name": "HTMLView",
      "description": "",
      "description_tooltip": null,
      "layout": "IPY_MODEL_9ea3853700c64c53856f84132e41a2dd",
      "placeholder": "​",
      "style": "IPY_MODEL_cf42b65e05dc498fade964149c7cf8ec",
      "value": " 3698/3698 [14:22&lt;00:00,  4.35it/s]"
     }
    },
    "fde2cb3ce6ee402e9ef93cd8385c3325": {
     "model_module": "@jupyter-widgets/controls",
     "model_module_version": "1.5.0",
     "model_name": "FloatProgressModel",
     "state": {
      "_dom_classes": [],
      "_model_module": "@jupyter-widgets/controls",
      "_model_module_version": "1.5.0",
      "_model_name": "FloatProgressModel",
      "_view_count": null,
      "_view_module": "@jupyter-widgets/controls",
      "_view_module_version": "1.5.0",
      "_view_name": "ProgressView",
      "bar_style": "success",
      "description": "",
      "description_tooltip": null,
      "layout": "IPY_MODEL_176fdb31626d4238ba1b9bf40479a2d7",
      "max": 3698,
      "min": 0,
      "orientation": "horizontal",
      "style": "IPY_MODEL_4576d93132d14375ac886784af3edd03",
      "value": 3698
     }
    }
   }
  }
 },
 "nbformat": 4,
 "nbformat_minor": 4
}
